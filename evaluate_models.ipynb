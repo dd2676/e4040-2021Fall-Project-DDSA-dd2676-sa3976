{
 "cells": [
  {
   "cell_type": "code",
   "execution_count": 1,
   "metadata": {},
   "outputs": [],
   "source": [
    "import tensorflow as tf\n",
    "import os, pickle, sys, time\n",
    "from collections import defaultdict\n",
    "import numpy as np\n",
    "import matplotlib.pyplot as plt\n",
    "from tensorflow.keras import Model\n",
    "from utils.MyRAN56_v1 import ResidualAttentionModel_56 as ran56_v1 \n",
    "from utils.MyRAN56_v2 import ResidualAttentionModel_56 as ran56_v2\n",
    "from utils.MyRAN92_v1 import ResidualAttentionModel_92 as ran92_v1\n",
    "from utils.MyRAN92_v2 import ResidualAttentionModel_92 as ran92_v2\n",
    "from contextlib import redirect_stdout\n",
    "from sklearn.metrics import top_k_accuracy_score"
   ]
  },
  {
   "cell_type": "code",
   "execution_count": 2,
   "metadata": {},
   "outputs": [
    {
     "name": "stdout",
     "output_type": "stream",
     "text": [
      "1 Physical GPUs, 1 Logical GPUs\n",
      "[PhysicalDevice(name='/physical_device:GPU:0', device_type='GPU')]\n"
     ]
    }
   ],
   "source": [
    "gpus = tf.config.list_physical_devices('GPU')\n",
    "if gpus:\n",
    "  try:\n",
    "    # Currently, memory growth needs to be the same across GPUs\n",
    "    for gpu in gpus:\n",
    "      tf.config.experimental.set_memory_growth(gpu, True)\n",
    "    logical_gpus = tf.config.list_logical_devices('GPU')\n",
    "    print(len(gpus), \"Physical GPUs,\", len(logical_gpus), \"Logical GPUs\")\n",
    "  except RuntimeError as e:\n",
    "    # Memory growth must be set before GPUs have been initialized\n",
    "    print(e)\n",
    "print(gpus)"
   ]
  },
  {
   "cell_type": "code",
   "execution_count": 4,
   "metadata": {},
   "outputs": [],
   "source": [
    "cifar10 = tf.keras.datasets.cifar10\n",
    "(X_train, y_train), (X_test, y_test) = cifar10.load_data()\n",
    "y_train = tf.keras.utils.to_categorical(y_train, 10)\n",
    "y_test = tf.keras.utils.to_categorical(y_test, 10)\n",
    "\n",
    "datagen = tf.keras.preprocessing.image.ImageDataGenerator(rotation_range=20,\n",
    "                                                          width_shift_range=0.2,\n",
    "                                                          height_shift_range=0.2,\n",
    "                                                          horizontal_flip=True,\n",
    "                                                          validation_split=0.2)\n",
    "\n",
    "X_train = X_train.astype('float32') / 255\n",
    "X_test = X_test.astype('float32') / 255\n",
    "\n",
    "input_shape = X_train.shape[1:]\n",
    "output_classes = 10"
   ]
  },
  {
   "cell_type": "code",
   "execution_count": 5,
   "metadata": {},
   "outputs": [],
   "source": [
    "arl_mean_train = X_train.mean()\n",
    "arl_mean_test = X_test.mean()\n",
    "\n",
    "nal_mean = np.load(\"train_mean.npy\")\n",
    "nal_std = np.load(\"train_std.npy\")"
   ]
  },
  {
   "cell_type": "code",
   "execution_count": 6,
   "metadata": {},
   "outputs": [],
   "source": [
    "model_path = 'models'\n",
    "\n",
    "# Edit configurations here to autoload models\n",
    "configs = {\n",
    "    'ran56_v1': {'model': ran56_v1(input_shape, output_classes, use_bias=True), 'save_path': f'{model_path}/ran56_v1/saved_models/ran56_v1'},\n",
    "    'ran56_v2_ARL': {'model': ran56_v2(input_shape, output_classes), 'save_path': f'{model_path}/ran56_v2_ARL/ran56_v2'},\n",
    "    'ran56_v2_nal': {'model': ran56_v2(input_shape, output_classes, learning_type='NAL'), 'save_path': f'{model_path}/ran56_v2_nal/saved_models/ran56_v2'},\n",
    "    'ran92_v1': {'model': ran92_v1(input_shape, output_classes, use_bias=True), 'save_path': f'{model_path}/ran92_v1/saved_models/ran92_v1_FULL_MODEL_Mon_Dec_20_18_26_00_2021'},\n",
    "    'ran92_v2_arl': {'model': ran92_v2(input_shape, output_classes), 'save_path': f'{model_path}/ran92_v2_ARL/saved_models/ran92_v2_ARL'},\n",
    "    'ran92_v2_nal': {'model': ran92_v2(input_shape, output_classes, learning_type='NAL'), 'save_path': f'{model_path}/ran92_v2_nal/saved_models/ran92_v2'},\n",
    "}\n",
    "\n"
   ]
  },
  {
   "cell_type": "code",
   "execution_count": 7,
   "metadata": {},
   "outputs": [
    {
     "name": "stdout",
     "output_type": "stream",
     "text": [
      "Found model at: models/ran56_v2_ARL/ran56_v2\n",
      "Found model at: models/ran92_v2_ARL/saved_models/ran92_v2_ARL\n"
     ]
    }
   ],
   "source": [
    "results = {}\n",
    "\n",
    "# Runs eval for any models it can find and saves to results\n",
    "for k in configs.keys():\n",
    "    config = configs[k]\n",
    "    \n",
    "    if not os.path.exists(config['save_path']):\n",
    "        continue \n",
    "    print(f\"Found model at: {config['save_path']}\")\n",
    "\n",
    "    if '_nal' in k:\n",
    "        X_test_eval = (X_test - nal_mean) / nal_std\n",
    "    else:\n",
    "        X_test_eval = X_test - arl_mean_test\n",
    "\n",
    "    model = config['model'].return_Model()\n",
    "\n",
    "    model.compile(tf.keras.optimizers.Adam(), \n",
    "                loss=tf.keras.losses.CategoricalCrossentropy(), \n",
    "                metrics=['accuracy'])\n",
    "    \n",
    "    model.load_weights(config['save_path'])\n",
    "\n",
    "    preds = model.predict(X_test_eval)\n",
    "    top1acc = top_k_accuracy_score(np.argmax(y_test, axis=1), preds, k=1)\n",
    "    top5acc = top_k_accuracy_score(np.argmax(y_test, axis=1), preds, k=5)\n",
    "    \n",
    "    top1err = (1.0 - top1acc) * 100\n",
    "    top5err = (1.0 - top5acc) * 100\n",
    "    \n",
    "    results[k] = {'top1err': top1err, 'top5err': top5err}\n",
    "    \n"
   ]
  },
  {
   "cell_type": "code",
   "execution_count": 8,
   "metadata": {},
   "outputs": [
    {
     "data": {
      "text/plain": [
       "{'ran56_v2_ARL': {'top1err': 9.430000000000005, 'top5err': 0.5199999999999982},\n",
       " 'ran92_v2_arl': {'top1err': 12.709999999999999,\n",
       "  'top5err': 0.5900000000000016}}"
      ]
     },
     "execution_count": 8,
     "metadata": {},
     "output_type": "execute_result"
    }
   ],
   "source": [
    "results"
   ]
  },
  {
   "cell_type": "code",
   "execution_count": 8,
   "metadata": {},
   "outputs": [
    {
     "data": {
      "text/plain": [
       "0.9966"
      ]
     },
     "execution_count": 8,
     "metadata": {},
     "output_type": "execute_result"
    }
   ],
   "source": [
    "top_k_accuracy_score(np.argmax(y_test, axis=1), preds, k=5)"
   ]
  },
  {
   "cell_type": "code",
   "execution_count": 9,
   "metadata": {},
   "outputs": [
    {
     "data": {
      "text/plain": [
       "0.9193"
      ]
     },
     "execution_count": 9,
     "metadata": {},
     "output_type": "execute_result"
    }
   ],
   "source": [
    "top_k_accuracy_score(np.argmax(y_test, axis=1), preds, k=1)"
   ]
  },
  {
   "cell_type": "code",
   "execution_count": 92,
   "metadata": {},
   "outputs": [],
   "source": [
    "a = preds.argsort()[:, -1:]\n",
    "b = np.argmax(y_test, axis=1)\n"
   ]
  },
  {
   "cell_type": "code",
   "execution_count": 93,
   "metadata": {},
   "outputs": [
    {
     "data": {
      "text/plain": [
       "0.7076"
      ]
     },
     "execution_count": 93,
     "metadata": {},
     "output_type": "execute_result"
    }
   ],
   "source": [
    "counter = 0\n",
    "for f in range(len(b)):\n",
    "    if b[f] in a[f]:\n",
    "        counter += 1\n",
    "counter / len(b)"
   ]
  }
 ],
 "metadata": {
  "interpreter": {
   "hash": "88744f5ef2d4c8729a8e1a955265e2351c41e84182b8978a44dbfdbe01c9a5de"
  },
  "kernelspec": {
   "display_name": "Python 3.8.12 64-bit ('p38': conda)",
   "language": "python",
   "name": "python3"
  },
  "language_info": {
   "codemirror_mode": {
    "name": "ipython",
    "version": 3
   },
   "file_extension": ".py",
   "mimetype": "text/x-python",
   "name": "python",
   "nbconvert_exporter": "python",
   "pygments_lexer": "ipython3",
   "version": "3.8.12"
  },
  "orig_nbformat": 4
 },
 "nbformat": 4,
 "nbformat_minor": 2
}
