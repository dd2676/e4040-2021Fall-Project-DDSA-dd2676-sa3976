{
 "cells": [
  {
   "cell_type": "code",
   "execution_count": 1,
   "id": "fcb109ba",
   "metadata": {},
   "outputs": [],
   "source": [
    "import tensorflow as tf\n",
    "import pickle, os, sys, time\n",
    "from collections import defaultdict\n",
    "import numpy as np\n",
    "import matplotlib.pyplot as plt\n",
    "from tensorflow.keras import Model\n",
    "from utils.MyRAN92_v2 import ResidualAttentionModel_92\n",
    "from contextlib import redirect_stdout"
   ]
  },
  {
   "cell_type": "code",
   "execution_count": 2,
   "id": "60850bf1",
   "metadata": {},
   "outputs": [
    {
     "name": "stdout",
     "output_type": "stream",
     "text": [
      "1 Physical GPUs, 1 Logical GPUs\n",
      "[PhysicalDevice(name='/physical_device:GPU:0', device_type='GPU')]\n"
     ]
    }
   ],
   "source": [
    "gpus = tf.config.list_physical_devices('GPU')\n",
    "if gpus:\n",
    "  try:\n",
    "    # Currently, memory growth needs to be the same across GPUs\n",
    "    for gpu in gpus:\n",
    "      tf.config.experimental.set_memory_growth(gpu, True)\n",
    "    logical_gpus = tf.config.list_logical_devices('GPU')\n",
    "    print(len(gpus), \"Physical GPUs,\", len(logical_gpus), \"Logical GPUs\")\n",
    "  except RuntimeError as e:\n",
    "    # Memory growth must be set before GPUs have been initialized\n",
    "    print(e)\n",
    "print(gpus)"
   ]
  },
  {
   "cell_type": "code",
   "execution_count": 3,
   "id": "eae87dbf",
   "metadata": {},
   "outputs": [
    {
     "name": "stdout",
     "output_type": "stream",
     "text": [
      "./models/ran92_v2_arl\n",
      "./models/ran92_v2_arl/history\n",
      "./models/ran92_v2_arl/saved_models\n",
      "./models/ran92_v2_arl/graphs\n"
     ]
    }
   ],
   "source": [
    "path = './models'\n",
    "model_name = '/ran92_v2_arl'\n",
    "model_path = path + model_name\n",
    "if not os.path.exists(model_path):\n",
    "    os.makedirs(model_path)\n",
    "    print(model_path)\n",
    "else:\n",
    "    print(model_path + ' already exists.')\n",
    "\n",
    "history_path = model_path + '/history'\n",
    "if not os.path.exists(history_path):\n",
    "    os.makedirs(history_path)\n",
    "    print(history_path)\n",
    "else:\n",
    "    print(history_path + ' already exists.')\n",
    "\n",
    "saved_model_path = model_path + '/saved_models'\n",
    "if not os.path.exists(saved_model_path):\n",
    "    os.makedirs(saved_model_path)\n",
    "    print(saved_model_path)\n",
    "else:\n",
    "    print(saved_model_path + ' already exists.')\n",
    "\n",
    "graph_path = model_path + '/graphs'\n",
    "if not os.path.exists(graph_path):\n",
    "    os.makedirs(graph_path)\n",
    "    print(graph_path)\n",
    "else:\n",
    "    print(graph_path + ' already exists.')"
   ]
  },
  {
   "cell_type": "code",
   "execution_count": 4,
   "id": "2dc362d7",
   "metadata": {},
   "outputs": [],
   "source": [
    "cifar10 = tf.keras.datasets.cifar10\n",
    "(X_train, y_train), (X_test, y_test) = cifar10.load_data()\n",
    "y_train = tf.keras.utils.to_categorical(y_train, 10)\n",
    "y_test = tf.keras.utils.to_categorical(y_test, 10)"
   ]
  },
  {
   "cell_type": "code",
   "execution_count": 5,
   "id": "27829a11",
   "metadata": {},
   "outputs": [],
   "source": [
    "datagen = tf.keras.preprocessing.image.ImageDataGenerator(rotation_range=20,\n",
    "                                                          width_shift_range=0.2,\n",
    "                                                          height_shift_range=0.2,\n",
    "                                                          horizontal_flip=True,\n",
    "                                                          validation_split=0.2)\n",
    "\n",
    "X_train = X_train.astype('float32') / 255\n",
    "X_test = X_test.astype('float32') / 255\n",
    "\n",
    "# train_mean = np.mean(X_train, axis=(0,1,2))\n",
    "# train_std = np.std(X_train, axis=(0,1,2))\n",
    "# np.save(\"train_mean.npy\", train_mean)\n",
    "# np.save(\"train_std.npy\", train_std)\n",
    "\n",
    "train_mean = np.load(\"train_mean.npy\")\n",
    "train_std = np.load(\"train_std.npy\")\n"
   ]
  },
  {
   "cell_type": "code",
   "execution_count": 6,
   "id": "908cb873",
   "metadata": {},
   "outputs": [],
   "source": [
    "\n",
    "\n",
    "X_train = X_train - X_train.mean()#train_mean) / train_std\n",
    "X_test = (X_test - X_test.mean())\n",
    "\n",
    "\n",
    "datagen.fit(X_train)\n",
    "\n",
    "input_shape = X_train.shape[1:]\n",
    "output_classes = 10"
   ]
  },
  {
   "cell_type": "code",
   "execution_count": 7,
   "id": "28ac1ad8",
   "metadata": {},
   "outputs": [
    {
     "name": "stdout",
     "output_type": "stream",
     "text": [
      "Model: \"model\"\n",
      "__________________________________________________________________________________________________\n",
      " Layer (type)                   Output Shape         Param #     Connected to                     \n",
      "==================================================================================================\n",
      " Model_Input (InputLayer)       [(None, 32, 32, 3)]  0           []                               \n",
      "                                                                                                  \n",
      " Conv1_In (Conv2D)              (None, 32, 32, 32)   864         ['Model_Input[0][0]']            \n",
      "                                                                                                  \n",
      " BN_In (BatchNormalization)     (None, 32, 32, 32)   128         ['Conv1_In[0][0]']               \n",
      "                                                                                                  \n",
      " ReLU_In (Activation)           (None, 32, 32, 32)   0           ['BN_In[0][0]']                  \n",
      "                                                                                                  \n",
      " ResUnit_L1_NotAttnModule_1_NoD  (None, 32, 32, 32)  128         ['ReLU_In[0][0]']                \n",
      " S (BatchNormalization)                                                                           \n",
      "                                                                                                  \n",
      " ResUnit_L2_NotAttnModule_1_NoD  (None, 32, 32, 32)  0           ['ResUnit_L1_NotAttnModule_1_NoDS\n",
      " S (Activation)                                                  [0][0]']                         \n",
      "                                                                                                  \n",
      " ResUnit_L3_NotAttnModule_1_NoD  (None, 32, 32, 32)  1024        ['ResUnit_L2_NotAttnModule_1_NoDS\n",
      " S (Conv2D)                                                      [0][0]']                         \n",
      "                                                                                                  \n",
      " ResUnit_L4_NotAttnModule_1_NoD  (None, 32, 32, 32)  128         ['ResUnit_L3_NotAttnModule_1_NoDS\n",
      " S (BatchNormalization)                                          [0][0]']                         \n",
      "                                                                                                  \n",
      " ResUnit_L5_NotAttnModule_1_NoD  (None, 32, 32, 32)  0           ['ResUnit_L4_NotAttnModule_1_NoDS\n",
      " S (Activation)                                                  [0][0]']                         \n",
      "                                                                                                  \n",
      " ResUnit_L6_NotAttnModule_1_NoD  (None, 32, 32, 32)  9216        ['ResUnit_L5_NotAttnModule_1_NoDS\n",
      " S (Conv2D)                                                      [0][0]']                         \n",
      "                                                                                                  \n",
      " ResUnit_L7_NotAttnModule_1_NoD  (None, 32, 32, 32)  128         ['ResUnit_L6_NotAttnModule_1_NoDS\n",
      " S (BatchNormalization)                                          [0][0]']                         \n",
      "                                                                                                  \n",
      " ResUnit_L8_NotAttnModule_1_NoD  (None, 32, 32, 32)  0           ['ResUnit_L7_NotAttnModule_1_NoDS\n",
      " S (Activation)                                                  [0][0]']                         \n",
      "                                                                                                  \n",
      " ResUnit_L9_NotAttnModule_1_NoD  (None, 32, 32, 128)  4096       ['ResUnit_L8_NotAttnModule_1_NoDS\n",
      " S (Conv2D)                                                      [0][0]']                         \n",
      "                                                                                                  \n",
      " ResUnit_L10_NotAttnModule_1_No  (None, 32, 32, 128)  4096       ['ResUnit_L2_NotAttnModule_1_NoDS\n",
      " DS (Conv2D)                                                     [0][0]']                         \n",
      "                                                                                                  \n",
      " ResUnit_L11_NotAttnModule_1_No  (None, 32, 32, 128)  0          ['ResUnit_L9_NotAttnModule_1_NoDS\n",
      " DS (Add)                                                        [0][0]',                         \n",
      "                                                                  'ResUnit_L10_NotAttnModule_1_NoD\n",
      "                                                                 S[0][0]']                        \n",
      "                                                                                                  \n",
      " ResUnit_L1_Input-p-1-1_AttnS1-  (None, 32, 32, 128)  512        ['ResUnit_L11_NotAttnModule_1_NoD\n",
      " 1 (BatchNormalization)                                          S[0][0]']                        \n",
      "                                                                                                  \n",
      " ResUnit_L2_Input-p-1-1_AttnS1-  (None, 32, 32, 128)  0          ['ResUnit_L1_Input-p-1-1_AttnS1-1\n",
      " 1 (Activation)                                                  [0][0]']                         \n",
      "                                                                                                  \n",
      " ResUnit_L3_Input-p-1-1_AttnS1-  (None, 32, 32, 32)  4096        ['ResUnit_L2_Input-p-1-1_AttnS1-1\n",
      " 1 (Conv2D)                                                      [0][0]']                         \n",
      "                                                                                                  \n",
      " ResUnit_L4_Input-p-1-1_AttnS1-  (None, 32, 32, 32)  128         ['ResUnit_L3_Input-p-1-1_AttnS1-1\n",
      " 1 (BatchNormalization)                                          [0][0]']                         \n",
      "                                                                                                  \n",
      " ResUnit_L5_Input-p-1-1_AttnS1-  (None, 32, 32, 32)  0           ['ResUnit_L4_Input-p-1-1_AttnS1-1\n",
      " 1 (Activation)                                                  [0][0]']                         \n",
      "                                                                                                  \n",
      " ResUnit_L6_Input-p-1-1_AttnS1-  (None, 32, 32, 32)  9216        ['ResUnit_L5_Input-p-1-1_AttnS1-1\n",
      " 1 (Conv2D)                                                      [0][0]']                         \n",
      "                                                                                                  \n",
      " ResUnit_L7_Input-p-1-1_AttnS1-  (None, 32, 32, 32)  128         ['ResUnit_L6_Input-p-1-1_AttnS1-1\n",
      " 1 (BatchNormalization)                                          [0][0]']                         \n",
      "                                                                                                  \n",
      " ResUnit_L8_Input-p-1-1_AttnS1-  (None, 32, 32, 32)  0           ['ResUnit_L7_Input-p-1-1_AttnS1-1\n",
      " 1 (Activation)                                                  [0][0]']                         \n",
      "                                                                                                  \n",
      " ResUnit_L9_Input-p-1-1_AttnS1-  (None, 32, 32, 128)  4096       ['ResUnit_L8_Input-p-1-1_AttnS1-1\n",
      " 1 (Conv2D)                                                      [0][0]']                         \n",
      "                                                                                                  \n",
      " ResUnit_L10_Input-p-1-1_AttnS1  (None, 32, 32, 128)  16384      ['ResUnit_L2_Input-p-1-1_AttnS1-1\n",
      " -1 (Conv2D)                                                     [0][0]']                         \n",
      "                                                                                                  \n",
      " ResUnit_L11_Input-p-1-1_AttnS1  (None, 32, 32, 128)  0          ['ResUnit_L9_Input-p-1-1_AttnS1-1\n",
      " -1 (Add)                                                        [0][0]',                         \n",
      "                                                                  'ResUnit_L10_Input-p-1-1_AttnS1-\n",
      "                                                                 1[0][0]']                        \n",
      "                                                                                                  \n",
      " MaxPool_DownSamp-1_Mask_AttnS1  (None, 16, 16, 128)  0          ['ResUnit_L11_Input-p-1-1_AttnS1-\n",
      " -1 (MaxPooling2D)                                               1[0][0]']                        \n",
      "                                                                                                  \n",
      " ResUnit_L1_DownSamp-r-1-1_Mask  (None, 16, 16, 128)  512        ['MaxPool_DownSamp-1_Mask_AttnS1-\n",
      " _AttnS1-1 (BatchNormalization)                                  1[0][0]']                        \n",
      "                                                                                                  \n",
      " ResUnit_L2_DownSamp-r-1-1_Mask  (None, 16, 16, 128)  0          ['ResUnit_L1_DownSamp-r-1-1_Mask_\n",
      " _AttnS1-1 (Activation)                                          AttnS1-1[0][0]']                 \n",
      "                                                                                                  \n",
      " ResUnit_L3_DownSamp-r-1-1_Mask  (None, 16, 16, 32)  4096        ['ResUnit_L2_DownSamp-r-1-1_Mask_\n",
      " _AttnS1-1 (Conv2D)                                              AttnS1-1[0][0]']                 \n",
      "                                                                                                  \n",
      " ResUnit_L4_DownSamp-r-1-1_Mask  (None, 16, 16, 32)  128         ['ResUnit_L3_DownSamp-r-1-1_Mask_\n",
      " _AttnS1-1 (BatchNormalization)                                  AttnS1-1[0][0]']                 \n",
      "                                                                                                  \n",
      " ResUnit_L5_DownSamp-r-1-1_Mask  (None, 16, 16, 32)  0           ['ResUnit_L4_DownSamp-r-1-1_Mask_\n",
      " _AttnS1-1 (Activation)                                          AttnS1-1[0][0]']                 \n",
      "                                                                                                  \n",
      " ResUnit_L6_DownSamp-r-1-1_Mask  (None, 16, 16, 32)  9216        ['ResUnit_L5_DownSamp-r-1-1_Mask_\n",
      " _AttnS1-1 (Conv2D)                                              AttnS1-1[0][0]']                 \n",
      "                                                                                                  \n",
      " ResUnit_L7_DownSamp-r-1-1_Mask  (None, 16, 16, 32)  128         ['ResUnit_L6_DownSamp-r-1-1_Mask_\n",
      " _AttnS1-1 (BatchNormalization)                                  AttnS1-1[0][0]']                 \n",
      "                                                                                                  \n",
      " ResUnit_L8_DownSamp-r-1-1_Mask  (None, 16, 16, 32)  0           ['ResUnit_L7_DownSamp-r-1-1_Mask_\n",
      " _AttnS1-1 (Activation)                                          AttnS1-1[0][0]']                 \n",
      "                                                                                                  \n",
      " ResUnit_L9_DownSamp-r-1-1_Mask  (None, 16, 16, 128)  4096       ['ResUnit_L8_DownSamp-r-1-1_Mask_\n",
      " _AttnS1-1 (Conv2D)                                              AttnS1-1[0][0]']                 \n",
      "                                                                                                  \n",
      " ResUnit_L10_DownSamp-r-1-1_Mas  (None, 16, 16, 128)  16384      ['ResUnit_L2_DownSamp-r-1-1_Mask_\n",
      " k_AttnS1-1 (Conv2D)                                             AttnS1-1[0][0]']                 \n",
      "                                                                                                  \n",
      " ResUnit_L11_DownSamp-r-1-1_Mas  (None, 16, 16, 128)  0          ['ResUnit_L9_DownSamp-r-1-1_Mask_\n",
      " k_AttnS1-1 (Add)                                                AttnS1-1[0][0]',                 \n",
      "                                                                  'ResUnit_L10_DownSamp-r-1-1_Mask\n",
      "                                                                 _AttnS1-1[0][0]']                \n",
      "                                                                                                  \n",
      " MaxPool_DownSamp-2_Mask_AttnS1  (None, 8, 8, 128)   0           ['ResUnit_L11_DownSamp-r-1-1_Mask\n",
      " -1 (MaxPooling2D)                                               _AttnS1-1[0][0]']                \n",
      "                                                                                                  \n",
      " ResUnit_L1_Mid-2r-2-1_Mask_Att  (None, 8, 8, 128)   512         ['MaxPool_DownSamp-2_Mask_AttnS1-\n",
      " nS1-1 (BatchNormalization)                                      1[0][0]']                        \n",
      "                                                                                                  \n",
      " ResUnit_L2_Mid-2r-2-1_Mask_Att  (None, 8, 8, 128)   0           ['ResUnit_L1_Mid-2r-2-1_Mask_Attn\n",
      " nS1-1 (Activation)                                              S1-1[0][0]']                     \n",
      "                                                                                                  \n",
      " ResUnit_L3_Mid-2r-2-1_Mask_Att  (None, 8, 8, 32)    4096        ['ResUnit_L2_Mid-2r-2-1_Mask_Attn\n",
      " nS1-1 (Conv2D)                                                  S1-1[0][0]']                     \n",
      "                                                                                                  \n",
      " ResUnit_L4_Mid-2r-2-1_Mask_Att  (None, 8, 8, 32)    128         ['ResUnit_L3_Mid-2r-2-1_Mask_Attn\n",
      " nS1-1 (BatchNormalization)                                      S1-1[0][0]']                     \n",
      "                                                                                                  \n",
      " ResUnit_L5_Mid-2r-2-1_Mask_Att  (None, 8, 8, 32)    0           ['ResUnit_L4_Mid-2r-2-1_Mask_Attn\n",
      " nS1-1 (Activation)                                              S1-1[0][0]']                     \n",
      "                                                                                                  \n",
      " ResUnit_L6_Mid-2r-2-1_Mask_Att  (None, 8, 8, 32)    9216        ['ResUnit_L5_Mid-2r-2-1_Mask_Attn\n",
      " nS1-1 (Conv2D)                                                  S1-1[0][0]']                     \n",
      "                                                                                                  \n",
      " ResUnit_L7_Mid-2r-2-1_Mask_Att  (None, 8, 8, 32)    128         ['ResUnit_L6_Mid-2r-2-1_Mask_Attn\n",
      " nS1-1 (BatchNormalization)                                      S1-1[0][0]']                     \n",
      "                                                                                                  \n",
      " ResUnit_L8_Mid-2r-2-1_Mask_Att  (None, 8, 8, 32)    0           ['ResUnit_L7_Mid-2r-2-1_Mask_Attn\n",
      " nS1-1 (Activation)                                              S1-1[0][0]']                     \n",
      "                                                                                                  \n",
      " ResUnit_L9_Mid-2r-2-1_Mask_Att  (None, 8, 8, 128)   4096        ['ResUnit_L8_Mid-2r-2-1_Mask_Attn\n",
      " nS1-1 (Conv2D)                                                  S1-1[0][0]']                     \n",
      "                                                                                                  \n",
      " ResUnit_L10_Mid-2r-2-1_Mask_At  (None, 8, 8, 128)   16384       ['ResUnit_L2_Mid-2r-2-1_Mask_Attn\n",
      " tnS1-1 (Conv2D)                                                 S1-1[0][0]']                     \n",
      "                                                                                                  \n",
      " ResUnit_L11_Mid-2r-2-1_Mask_At  (None, 8, 8, 128)   0           ['ResUnit_L9_Mid-2r-2-1_Mask_Attn\n",
      " tnS1-1 (Add)                                                    S1-1[0][0]',                     \n",
      "                                                                  'ResUnit_L10_Mid-2r-2-1_Mask_Att\n",
      "                                                                 nS1-1[0][0]']                    \n",
      "                                                                                                  \n",
      " ResUnit_L1_Mid-2r-2-2_Mask_Att  (None, 8, 8, 128)   512         ['ResUnit_L11_Mid-2r-2-1_Mask_Att\n",
      " nS1-1 (BatchNormalization)                                      nS1-1[0][0]']                    \n",
      "                                                                                                  \n",
      " ResUnit_L2_Mid-2r-2-2_Mask_Att  (None, 8, 8, 128)   0           ['ResUnit_L1_Mid-2r-2-2_Mask_Attn\n",
      " nS1-1 (Activation)                                              S1-1[0][0]']                     \n",
      "                                                                                                  \n",
      " ResUnit_L3_Mid-2r-2-2_Mask_Att  (None, 8, 8, 32)    4096        ['ResUnit_L2_Mid-2r-2-2_Mask_Attn\n",
      " nS1-1 (Conv2D)                                                  S1-1[0][0]']                     \n",
      "                                                                                                  \n",
      " ResUnit_L1_SkipConn-1_Mask_Att  (None, 16, 16, 128)  512        ['ResUnit_L11_DownSamp-r-1-1_Mask\n",
      " nS1-1 (BatchNormalization)                                      _AttnS1-1[0][0]']                \n",
      "                                                                                                  \n",
      " ResUnit_L4_Mid-2r-2-2_Mask_Att  (None, 8, 8, 32)    128         ['ResUnit_L3_Mid-2r-2-2_Mask_Attn\n",
      " nS1-1 (BatchNormalization)                                      S1-1[0][0]']                     \n",
      "                                                                                                  \n",
      " ResUnit_L2_SkipConn-1_Mask_Att  (None, 16, 16, 128)  0          ['ResUnit_L1_SkipConn-1_Mask_Attn\n",
      " nS1-1 (Activation)                                              S1-1[0][0]']                     \n",
      "                                                                                                  \n",
      " ResUnit_L5_Mid-2r-2-2_Mask_Att  (None, 8, 8, 32)    0           ['ResUnit_L4_Mid-2r-2-2_Mask_Attn\n",
      " nS1-1 (Activation)                                              S1-1[0][0]']                     \n",
      "                                                                                                  \n",
      " ResUnit_L3_SkipConn-1_Mask_Att  (None, 16, 16, 32)  4096        ['ResUnit_L2_SkipConn-1_Mask_Attn\n",
      " nS1-1 (Conv2D)                                                  S1-1[0][0]']                     \n",
      "                                                                                                  \n",
      " ResUnit_L1_Trunk-t-2-1_AttnS1-  (None, 32, 32, 128)  512        ['ResUnit_L11_Input-p-1-1_AttnS1-\n",
      " 1 (BatchNormalization)                                          1[0][0]']                        \n",
      "                                                                                                  \n",
      " ResUnit_L6_Mid-2r-2-2_Mask_Att  (None, 8, 8, 32)    9216        ['ResUnit_L5_Mid-2r-2-2_Mask_Attn\n",
      " nS1-1 (Conv2D)                                                  S1-1[0][0]']                     \n",
      "                                                                                                  \n",
      " ResUnit_L4_SkipConn-1_Mask_Att  (None, 16, 16, 32)  128         ['ResUnit_L3_SkipConn-1_Mask_Attn\n",
      " nS1-1 (BatchNormalization)                                      S1-1[0][0]']                     \n",
      "                                                                                                  \n",
      " ResUnit_L2_Trunk-t-2-1_AttnS1-  (None, 32, 32, 128)  0          ['ResUnit_L1_Trunk-t-2-1_AttnS1-1\n",
      " 1 (Activation)                                                  [0][0]']                         \n",
      "                                                                                                  \n",
      " ResUnit_L7_Mid-2r-2-2_Mask_Att  (None, 8, 8, 32)    128         ['ResUnit_L6_Mid-2r-2-2_Mask_Attn\n",
      " nS1-1 (BatchNormalization)                                      S1-1[0][0]']                     \n",
      "                                                                                                  \n",
      " ResUnit_L5_SkipConn-1_Mask_Att  (None, 16, 16, 32)  0           ['ResUnit_L4_SkipConn-1_Mask_Attn\n",
      " nS1-1 (Activation)                                              S1-1[0][0]']                     \n",
      "                                                                                                  \n",
      " ResUnit_L3_Trunk-t-2-1_AttnS1-  (None, 32, 32, 32)  4096        ['ResUnit_L2_Trunk-t-2-1_AttnS1-1\n",
      " 1 (Conv2D)                                                      [0][0]']                         \n",
      "                                                                                                  \n",
      " ResUnit_L8_Mid-2r-2-2_Mask_Att  (None, 8, 8, 32)    0           ['ResUnit_L7_Mid-2r-2-2_Mask_Attn\n",
      " nS1-1 (Activation)                                              S1-1[0][0]']                     \n",
      "                                                                                                  \n",
      " ResUnit_L6_SkipConn-1_Mask_Att  (None, 16, 16, 32)  9216        ['ResUnit_L5_SkipConn-1_Mask_Attn\n",
      " nS1-1 (Conv2D)                                                  S1-1[0][0]']                     \n",
      "                                                                                                  \n",
      " ResUnit_L4_Trunk-t-2-1_AttnS1-  (None, 32, 32, 32)  128         ['ResUnit_L3_Trunk-t-2-1_AttnS1-1\n",
      " 1 (BatchNormalization)                                          [0][0]']                         \n",
      "                                                                                                  \n",
      " ResUnit_L9_Mid-2r-2-2_Mask_Att  (None, 8, 8, 128)   4096        ['ResUnit_L8_Mid-2r-2-2_Mask_Attn\n",
      " nS1-1 (Conv2D)                                                  S1-1[0][0]']                     \n",
      "                                                                                                  \n",
      " ResUnit_L10_Mid-2r-2-2_Mask_At  (None, 8, 8, 128)   16384       ['ResUnit_L2_Mid-2r-2-2_Mask_Attn\n",
      " tnS1-1 (Conv2D)                                                 S1-1[0][0]']                     \n",
      "                                                                                                  \n",
      " ResUnit_L7_SkipConn-1_Mask_Att  (None, 16, 16, 32)  128         ['ResUnit_L6_SkipConn-1_Mask_Attn\n",
      " nS1-1 (BatchNormalization)                                      S1-1[0][0]']                     \n",
      "                                                                                                  \n",
      " ResUnit_L5_Trunk-t-2-1_AttnS1-  (None, 32, 32, 32)  0           ['ResUnit_L4_Trunk-t-2-1_AttnS1-1\n",
      " 1 (Activation)                                                  [0][0]']                         \n",
      "                                                                                                  \n",
      " ResUnit_L11_Mid-2r-2-2_Mask_At  (None, 8, 8, 128)   0           ['ResUnit_L9_Mid-2r-2-2_Mask_Attn\n",
      " tnS1-1 (Add)                                                    S1-1[0][0]',                     \n",
      "                                                                  'ResUnit_L10_Mid-2r-2-2_Mask_Att\n",
      "                                                                 nS1-1[0][0]']                    \n",
      "                                                                                                  \n",
      " ResUnit_L8_SkipConn-1_Mask_Att  (None, 16, 16, 32)  0           ['ResUnit_L7_SkipConn-1_Mask_Attn\n",
      " nS1-1 (Activation)                                              S1-1[0][0]']                     \n",
      "                                                                                                  \n",
      " ResUnit_L6_Trunk-t-2-1_AttnS1-  (None, 32, 32, 32)  9216        ['ResUnit_L5_Trunk-t-2-1_AttnS1-1\n",
      " 1 (Conv2D)                                                      [0][0]']                         \n",
      "                                                                                                  \n",
      " UpSamp2D-1_Mask_AttnS1-1 (UpSa  (None, 16, 16, 128)  0          ['ResUnit_L11_Mid-2r-2-2_Mask_Att\n",
      " mpling2D)                                                       nS1-1[0][0]']                    \n",
      "                                                                                                  \n",
      " ResUnit_L9_SkipConn-1_Mask_Att  (None, 16, 16, 128)  4096       ['ResUnit_L8_SkipConn-1_Mask_Attn\n",
      " nS1-1 (Conv2D)                                                  S1-1[0][0]']                     \n",
      "                                                                                                  \n",
      " ResUnit_L10_SkipConn-1_Mask_At  (None, 16, 16, 128)  16384      ['ResUnit_L2_SkipConn-1_Mask_Attn\n",
      " tnS1-1 (Conv2D)                                                 S1-1[0][0]']                     \n",
      "                                                                                                  \n",
      " ResUnit_L7_Trunk-t-2-1_AttnS1-  (None, 32, 32, 32)  128         ['ResUnit_L6_Trunk-t-2-1_AttnS1-1\n",
      " 1 (BatchNormalization)                                          [0][0]']                         \n",
      "                                                                                                  \n",
      " Add_L1_AttnS1-1 (Add)          (None, 16, 16, 128)  0           ['ResUnit_L11_DownSamp-r-1-1_Mask\n",
      "                                                                 _AttnS1-1[0][0]',                \n",
      "                                                                  'UpSamp2D-1_Mask_AttnS1-1[0][0]'\n",
      "                                                                 ]                                \n",
      "                                                                                                  \n",
      " ResUnit_L11_SkipConn-1_Mask_At  (None, 16, 16, 128)  0          ['ResUnit_L9_SkipConn-1_Mask_Attn\n",
      " tnS1-1 (Add)                                                    S1-1[0][0]',                     \n",
      "                                                                  'ResUnit_L10_SkipConn-1_Mask_Att\n",
      "                                                                 nS1-1[0][0]']                    \n",
      "                                                                                                  \n",
      " ResUnit_L8_Trunk-t-2-1_AttnS1-  (None, 32, 32, 32)  0           ['ResUnit_L7_Trunk-t-2-1_AttnS1-1\n",
      " 1 (Activation)                                                  [0][0]']                         \n",
      "                                                                                                  \n",
      " Add_L2_AttnS1-1 (Add)          (None, 16, 16, 128)  0           ['Add_L1_AttnS1-1[0][0]',        \n",
      "                                                                  'ResUnit_L11_SkipConn-1_Mask_Att\n",
      "                                                                 nS1-1[0][0]']                    \n",
      "                                                                                                  \n",
      " ResUnit_L9_Trunk-t-2-1_AttnS1-  (None, 32, 32, 128)  4096       ['ResUnit_L8_Trunk-t-2-1_AttnS1-1\n",
      " 1 (Conv2D)                                                      [0][0]']                         \n",
      "                                                                                                  \n",
      " ResUnit_L10_Trunk-t-2-1_AttnS1  (None, 32, 32, 128)  16384      ['ResUnit_L2_Trunk-t-2-1_AttnS1-1\n",
      " -1 (Conv2D)                                                     [0][0]']                         \n",
      "                                                                                                  \n",
      " ResUnit_L1_UpSamp-r-1-1_Mask_A  (None, 16, 16, 128)  512        ['Add_L2_AttnS1-1[0][0]']        \n",
      " ttnS1-1 (BatchNormalization)                                                                     \n",
      "                                                                                                  \n",
      " ResUnit_L11_Trunk-t-2-1_AttnS1  (None, 32, 32, 128)  0          ['ResUnit_L9_Trunk-t-2-1_AttnS1-1\n",
      " -1 (Add)                                                        [0][0]',                         \n",
      "                                                                  'ResUnit_L10_Trunk-t-2-1_AttnS1-\n",
      "                                                                 1[0][0]']                        \n",
      "                                                                                                  \n",
      " ResUnit_L2_UpSamp-r-1-1_Mask_A  (None, 16, 16, 128)  0          ['ResUnit_L1_UpSamp-r-1-1_Mask_At\n",
      " ttnS1-1 (Activation)                                            tnS1-1[0][0]']                   \n",
      "                                                                                                  \n",
      " ResUnit_L1_Trunk-t-2-2_AttnS1-  (None, 32, 32, 128)  512        ['ResUnit_L11_Trunk-t-2-1_AttnS1-\n",
      " 1 (BatchNormalization)                                          1[0][0]']                        \n",
      "                                                                                                  \n",
      " ResUnit_L3_UpSamp-r-1-1_Mask_A  (None, 16, 16, 32)  4096        ['ResUnit_L2_UpSamp-r-1-1_Mask_At\n",
      " ttnS1-1 (Conv2D)                                                tnS1-1[0][0]']                   \n",
      "                                                                                                  \n",
      " ResUnit_L2_Trunk-t-2-2_AttnS1-  (None, 32, 32, 128)  0          ['ResUnit_L1_Trunk-t-2-2_AttnS1-1\n",
      " 1 (Activation)                                                  [0][0]']                         \n",
      "                                                                                                  \n",
      " ResUnit_L4_UpSamp-r-1-1_Mask_A  (None, 16, 16, 32)  128         ['ResUnit_L3_UpSamp-r-1-1_Mask_At\n",
      " ttnS1-1 (BatchNormalization)                                    tnS1-1[0][0]']                   \n",
      "                                                                                                  \n",
      " ResUnit_L3_Trunk-t-2-2_AttnS1-  (None, 32, 32, 32)  4096        ['ResUnit_L2_Trunk-t-2-2_AttnS1-1\n",
      " 1 (Conv2D)                                                      [0][0]']                         \n",
      "                                                                                                  \n",
      " ResUnit_L5_UpSamp-r-1-1_Mask_A  (None, 16, 16, 32)  0           ['ResUnit_L4_UpSamp-r-1-1_Mask_At\n",
      " ttnS1-1 (Activation)                                            tnS1-1[0][0]']                   \n",
      "                                                                                                  \n",
      " ResUnit_L4_Trunk-t-2-2_AttnS1-  (None, 32, 32, 32)  128         ['ResUnit_L3_Trunk-t-2-2_AttnS1-1\n",
      " 1 (BatchNormalization)                                          [0][0]']                         \n",
      "                                                                                                  \n",
      " ResUnit_L6_UpSamp-r-1-1_Mask_A  (None, 16, 16, 32)  9216        ['ResUnit_L5_UpSamp-r-1-1_Mask_At\n",
      " ttnS1-1 (Conv2D)                                                tnS1-1[0][0]']                   \n",
      "                                                                                                  \n",
      " ResUnit_L5_Trunk-t-2-2_AttnS1-  (None, 32, 32, 32)  0           ['ResUnit_L4_Trunk-t-2-2_AttnS1-1\n",
      " 1 (Activation)                                                  [0][0]']                         \n",
      "                                                                                                  \n",
      " ResUnit_L7_UpSamp-r-1-1_Mask_A  (None, 16, 16, 32)  128         ['ResUnit_L6_UpSamp-r-1-1_Mask_At\n",
      " ttnS1-1 (BatchNormalization)                                    tnS1-1[0][0]']                   \n",
      "                                                                                                  \n",
      " ResUnit_L6_Trunk-t-2-2_AttnS1-  (None, 32, 32, 32)  9216        ['ResUnit_L5_Trunk-t-2-2_AttnS1-1\n",
      " 1 (Conv2D)                                                      [0][0]']                         \n",
      "                                                                                                  \n",
      " ResUnit_L8_UpSamp-r-1-1_Mask_A  (None, 16, 16, 32)  0           ['ResUnit_L7_UpSamp-r-1-1_Mask_At\n",
      " ttnS1-1 (Activation)                                            tnS1-1[0][0]']                   \n",
      "                                                                                                  \n",
      " ResUnit_L7_Trunk-t-2-2_AttnS1-  (None, 32, 32, 32)  128         ['ResUnit_L6_Trunk-t-2-2_AttnS1-1\n",
      " 1 (BatchNormalization)                                          [0][0]']                         \n",
      "                                                                                                  \n",
      " ResUnit_L9_UpSamp-r-1-1_Mask_A  (None, 16, 16, 128)  4096       ['ResUnit_L8_UpSamp-r-1-1_Mask_At\n",
      " ttnS1-1 (Conv2D)                                                tnS1-1[0][0]']                   \n",
      "                                                                                                  \n",
      " ResUnit_L10_UpSamp-r-1-1_Mask_  (None, 16, 16, 128)  16384      ['ResUnit_L2_UpSamp-r-1-1_Mask_At\n",
      " AttnS1-1 (Conv2D)                                               tnS1-1[0][0]']                   \n",
      "                                                                                                  \n",
      " ResUnit_L8_Trunk-t-2-2_AttnS1-  (None, 32, 32, 32)  0           ['ResUnit_L7_Trunk-t-2-2_AttnS1-1\n",
      " 1 (Activation)                                                  [0][0]']                         \n",
      "                                                                                                  \n",
      " ResUnit_L11_UpSamp-r-1-1_Mask_  (None, 16, 16, 128)  0          ['ResUnit_L9_UpSamp-r-1-1_Mask_At\n",
      " AttnS1-1 (Add)                                                  tnS1-1[0][0]',                   \n",
      "                                                                  'ResUnit_L10_UpSamp-r-1-1_Mask_A\n",
      "                                                                 ttnS1-1[0][0]']                  \n",
      "                                                                                                  \n",
      " ResUnit_L9_Trunk-t-2-2_AttnS1-  (None, 32, 32, 128)  4096       ['ResUnit_L8_Trunk-t-2-2_AttnS1-1\n",
      " 1 (Conv2D)                                                      [0][0]']                         \n",
      "                                                                                                  \n",
      " ResUnit_L10_Trunk-t-2-2_AttnS1  (None, 32, 32, 128)  16384      ['ResUnit_L2_Trunk-t-2-2_AttnS1-1\n",
      " -1 (Conv2D)                                                     [0][0]']                         \n",
      "                                                                                                  \n",
      " UpSamp2D-2_Mask_AttnS1-1 (UpSa  (None, 32, 32, 128)  0          ['ResUnit_L11_UpSamp-r-1-1_Mask_A\n",
      " mpling2D)                                                       ttnS1-1[0][0]']                  \n",
      "                                                                                                  \n",
      " ResUnit_L11_Trunk-t-2-2_AttnS1  (None, 32, 32, 128)  0          ['ResUnit_L9_Trunk-t-2-2_AttnS1-1\n",
      " -1 (Add)                                                        [0][0]',                         \n",
      "                                                                  'ResUnit_L10_Trunk-t-2-2_AttnS1-\n",
      "                                                                 1[0][0]']                        \n",
      "                                                                                                  \n",
      " Add_L3_AttnS1-1 (Add)          (None, 32, 32, 128)  0           ['UpSamp2D-2_Mask_AttnS1-1[0][0]'\n",
      "                                                                 , 'ResUnit_L11_Trunk-t-2-2_AttnS1\n",
      "                                                                 -1[0][0]']                       \n",
      "                                                                                                  \n",
      " SpcConv_Mask_L1_Attn_S1-1 (Bat  (None, 32, 32, 128)  512        ['Add_L3_AttnS1-1[0][0]']        \n",
      " chNormalization)                                                                                 \n",
      "                                                                                                  \n",
      " SpcConv_Mask_L2_Attn_S1-1 (Act  (None, 32, 32, 128)  0          ['SpcConv_Mask_L1_Attn_S1-1[0][0]\n",
      " ivation)                                                        ']                               \n",
      "                                                                                                  \n",
      " SpcConv_Mask_L3_Attn_S1-1 (Con  (None, 32, 32, 128)  16384      ['SpcConv_Mask_L2_Attn_S1-1[0][0]\n",
      " v2D)                                                            ']                               \n",
      "                                                                                                  \n",
      " SpcConv_Mask_L4_Attn_S1-1 (Bat  (None, 32, 32, 128)  512        ['SpcConv_Mask_L3_Attn_S1-1[0][0]\n",
      " chNormalization)                                                ']                               \n",
      "                                                                                                  \n",
      " SpcConv_Mask_L5_Attn_S1-1 (Act  (None, 32, 32, 128)  0          ['SpcConv_Mask_L4_Attn_S1-1[0][0]\n",
      " ivation)                                                        ',                               \n",
      "                                                                  'SpcConv_Mask_L5_Attn_S1-1[0][0]\n",
      "                                                                 ']                               \n",
      "                                                                                                  \n",
      " SpcConv_Mask_L7_Attn_S1-1 (Act  (None, 32, 32, 128)  0          ['SpcConv_Mask_L5_Attn_S1-1[1][0]\n",
      " ivation)                                                        ']                               \n",
      "                                                                                                  \n",
      " Mult_L1_AttnS1-1 (Multiply)    (None, 32, 32, 128)  0           ['SpcConv_Mask_L7_Attn_S1-1[0][0]\n",
      "                                                                 ',                               \n",
      "                                                                  'ResUnit_L11_Trunk-t-2-2_AttnS1-\n",
      "                                                                 1[0][0]']                        \n",
      "                                                                                                  \n",
      " Add_L4_AttnS1-1 (Add)          (None, 32, 32, 128)  0           ['Mult_L1_AttnS1-1[0][0]',       \n",
      "                                                                  'ResUnit_L11_Trunk-t-2-2_AttnS1-\n",
      "                                                                 1[0][0]']                        \n",
      "                                                                                                  \n",
      " ResUnit_L1_Output-p-1-1_AttnS1  (None, 32, 32, 128)  512        ['Add_L4_AttnS1-1[0][0]']        \n",
      " -1 (BatchNormalization)                                                                          \n",
      "                                                                                                  \n",
      " ResUnit_L2_Output-p-1-1_AttnS1  (None, 32, 32, 128)  0          ['ResUnit_L1_Output-p-1-1_AttnS1-\n",
      " -1 (Activation)                                                 1[0][0]']                        \n",
      "                                                                                                  \n",
      " ResUnit_L3_Output-p-1-1_AttnS1  (None, 32, 32, 32)  4096        ['ResUnit_L2_Output-p-1-1_AttnS1-\n",
      " -1 (Conv2D)                                                     1[0][0]']                        \n",
      "                                                                                                  \n",
      " ResUnit_L4_Output-p-1-1_AttnS1  (None, 32, 32, 32)  128         ['ResUnit_L3_Output-p-1-1_AttnS1-\n",
      " -1 (BatchNormalization)                                         1[0][0]']                        \n",
      "                                                                                                  \n",
      " ResUnit_L5_Output-p-1-1_AttnS1  (None, 32, 32, 32)  0           ['ResUnit_L4_Output-p-1-1_AttnS1-\n",
      " -1 (Activation)                                                 1[0][0]']                        \n",
      "                                                                                                  \n",
      " ResUnit_L6_Output-p-1-1_AttnS1  (None, 32, 32, 32)  9216        ['ResUnit_L5_Output-p-1-1_AttnS1-\n",
      " -1 (Conv2D)                                                     1[0][0]']                        \n",
      "                                                                                                  \n",
      " ResUnit_L7_Output-p-1-1_AttnS1  (None, 32, 32, 32)  128         ['ResUnit_L6_Output-p-1-1_AttnS1-\n",
      " -1 (BatchNormalization)                                         1[0][0]']                        \n",
      "                                                                                                  \n",
      " ResUnit_L8_Output-p-1-1_AttnS1  (None, 32, 32, 32)  0           ['ResUnit_L7_Output-p-1-1_AttnS1-\n",
      " -1 (Activation)                                                 1[0][0]']                        \n",
      "                                                                                                  \n",
      " ResUnit_L9_Output-p-1-1_AttnS1  (None, 32, 32, 128)  4096       ['ResUnit_L8_Output-p-1-1_AttnS1-\n",
      " -1 (Conv2D)                                                     1[0][0]']                        \n",
      "                                                                                                  \n",
      " ResUnit_L10_Output-p-1-1_AttnS  (None, 32, 32, 128)  16384      ['ResUnit_L2_Output-p-1-1_AttnS1-\n",
      " 1-1 (Conv2D)                                                    1[0][0]']                        \n",
      "                                                                                                  \n",
      " ResUnit_L11_Output-p-1-1_AttnS  (None, 32, 32, 128)  0          ['ResUnit_L9_Output-p-1-1_AttnS1-\n",
      " 1-1 (Add)                                                       1[0][0]',                        \n",
      "                                                                  'ResUnit_L10_Output-p-1-1_AttnS1\n",
      "                                                                 -1[0][0]']                       \n",
      "                                                                                                  \n",
      " ResUnit_L1_NotAttnModule_2_DS   (None, 32, 32, 128)  512        ['ResUnit_L11_Output-p-1-1_AttnS1\n",
      " (BatchNormalization)                                            -1[0][0]']                       \n",
      "                                                                                                  \n",
      " ResUnit_L2_NotAttnModule_2_DS   (None, 32, 32, 128)  0          ['ResUnit_L1_NotAttnModule_2_DS[0\n",
      " (Activation)                                                    ][0]']                           \n",
      "                                                                                                  \n",
      " ResUnit_L3_NotAttnModule_2_DS   (None, 32, 32, 64)  8192        ['ResUnit_L2_NotAttnModule_2_DS[0\n",
      " (Conv2D)                                                        ][0]']                           \n",
      "                                                                                                  \n",
      " ResUnit_L4_NotAttnModule_2_DS   (None, 32, 32, 64)  256         ['ResUnit_L3_NotAttnModule_2_DS[0\n",
      " (BatchNormalization)                                            ][0]']                           \n",
      "                                                                                                  \n",
      " ResUnit_L5_NotAttnModule_2_DS   (None, 32, 32, 64)  0           ['ResUnit_L4_NotAttnModule_2_DS[0\n",
      " (Activation)                                                    ][0]']                           \n",
      "                                                                                                  \n",
      " ResUnit_L6_NotAttnModule_2_DS   (None, 16, 16, 64)  36864       ['ResUnit_L5_NotAttnModule_2_DS[0\n",
      " (Conv2D)                                                        ][0]']                           \n",
      "                                                                                                  \n",
      " ResUnit_L7_NotAttnModule_2_DS   (None, 16, 16, 64)  256         ['ResUnit_L6_NotAttnModule_2_DS[0\n",
      " (BatchNormalization)                                            ][0]']                           \n",
      "                                                                                                  \n",
      " ResUnit_L8_NotAttnModule_2_DS   (None, 16, 16, 64)  0           ['ResUnit_L7_NotAttnModule_2_DS[0\n",
      " (Activation)                                                    ][0]']                           \n",
      "                                                                                                  \n",
      " ResUnit_L9_NotAttnModule_2_DS   (None, 16, 16, 256)  16384      ['ResUnit_L8_NotAttnModule_2_DS[0\n",
      " (Conv2D)                                                        ][0]']                           \n",
      "                                                                                                  \n",
      " ResUnit_L10_NotAttnModule_2_DS  (None, 16, 16, 256)  32768      ['ResUnit_L2_NotAttnModule_2_DS[0\n",
      "  (Conv2D)                                                       ][0]']                           \n",
      "                                                                                                  \n",
      " ResUnit_L11_NotAttnModule_2_DS  (None, 16, 16, 256)  0          ['ResUnit_L9_NotAttnModule_2_DS[0\n",
      "  (Add)                                                          ][0]',                           \n",
      "                                                                  'ResUnit_L10_NotAttnModule_2_DS[\n",
      "                                                                 0][0]']                          \n",
      "                                                                                                  \n",
      " ResUnit_L1_Input-p-1-1_AttnS2-  (None, 16, 16, 256)  1024       ['ResUnit_L11_NotAttnModule_2_DS[\n",
      " 1 (BatchNormalization)                                          0][0]',                          \n",
      "                                                                  'ResUnit_L11_Output-p-1-1_AttnS2\n",
      "                                                                 -1[0][0]']                       \n",
      "                                                                                                  \n",
      " ResUnit_L2_Input-p-1-1_AttnS2-  (None, 16, 16, 256)  0          ['ResUnit_L1_Input-p-1-1_AttnS2-1\n",
      " 1 (Activation)                                                  [0][0]',                         \n",
      "                                                                  'ResUnit_L1_Input-p-1-1_AttnS2-1\n",
      "                                                                 [1][0]']                         \n",
      "                                                                                                  \n",
      " ResUnit_L3_Input-p-1-1_AttnS2-  (None, 16, 16, 64)  16384       ['ResUnit_L2_Input-p-1-1_AttnS2-1\n",
      " 1 (Conv2D)                                                      [0][0]',                         \n",
      "                                                                  'ResUnit_L2_Input-p-1-1_AttnS2-1\n",
      "                                                                 [1][0]']                         \n",
      "                                                                                                  \n",
      " ResUnit_L4_Input-p-1-1_AttnS2-  (None, 16, 16, 64)  256         ['ResUnit_L3_Input-p-1-1_AttnS2-1\n",
      " 1 (BatchNormalization)                                          [0][0]',                         \n",
      "                                                                  'ResUnit_L3_Input-p-1-1_AttnS2-1\n",
      "                                                                 [1][0]']                         \n",
      "                                                                                                  \n",
      " ResUnit_L5_Input-p-1-1_AttnS2-  (None, 16, 16, 64)  0           ['ResUnit_L4_Input-p-1-1_AttnS2-1\n",
      " 1 (Activation)                                                  [0][0]',                         \n",
      "                                                                  'ResUnit_L4_Input-p-1-1_AttnS2-1\n",
      "                                                                 [1][0]']                         \n",
      "                                                                                                  \n",
      " ResUnit_L6_Input-p-1-1_AttnS2-  (None, 16, 16, 64)  36864       ['ResUnit_L5_Input-p-1-1_AttnS2-1\n",
      " 1 (Conv2D)                                                      [0][0]',                         \n",
      "                                                                  'ResUnit_L5_Input-p-1-1_AttnS2-1\n",
      "                                                                 [1][0]']                         \n",
      "                                                                                                  \n",
      " ResUnit_L7_Input-p-1-1_AttnS2-  (None, 16, 16, 64)  256         ['ResUnit_L6_Input-p-1-1_AttnS2-1\n",
      " 1 (BatchNormalization)                                          [0][0]',                         \n",
      "                                                                  'ResUnit_L6_Input-p-1-1_AttnS2-1\n",
      "                                                                 [1][0]']                         \n",
      "                                                                                                  \n",
      " ResUnit_L8_Input-p-1-1_AttnS2-  (None, 16, 16, 64)  0           ['ResUnit_L7_Input-p-1-1_AttnS2-1\n",
      " 1 (Activation)                                                  [0][0]',                         \n",
      "                                                                  'ResUnit_L7_Input-p-1-1_AttnS2-1\n",
      "                                                                 [1][0]']                         \n",
      "                                                                                                  \n",
      " ResUnit_L9_Input-p-1-1_AttnS2-  (None, 16, 16, 256)  16384      ['ResUnit_L8_Input-p-1-1_AttnS2-1\n",
      " 1 (Conv2D)                                                      [0][0]',                         \n",
      "                                                                  'ResUnit_L8_Input-p-1-1_AttnS2-1\n",
      "                                                                 [1][0]']                         \n",
      "                                                                                                  \n",
      " ResUnit_L10_Input-p-1-1_AttnS2  (None, 16, 16, 256)  65536      ['ResUnit_L2_Input-p-1-1_AttnS2-1\n",
      " -1 (Conv2D)                                                     [0][0]',                         \n",
      "                                                                  'ResUnit_L2_Input-p-1-1_AttnS2-1\n",
      "                                                                 [1][0]']                         \n",
      "                                                                                                  \n",
      " ResUnit_L11_Input-p-1-1_AttnS2  (None, 16, 16, 256)  0          ['ResUnit_L9_Input-p-1-1_AttnS2-1\n",
      " -1 (Add)                                                        [0][0]',                         \n",
      "                                                                  'ResUnit_L10_Input-p-1-1_AttnS2-\n",
      "                                                                 1[0][0]',                        \n",
      "                                                                  'ResUnit_L9_Input-p-1-1_AttnS2-1\n",
      "                                                                 [1][0]',                         \n",
      "                                                                  'ResUnit_L10_Input-p-1-1_AttnS2-\n",
      "                                                                 1[1][0]']                        \n",
      "                                                                                                  \n",
      " MaxPool_DownSamp-1_Mask_AttnS2  (None, 8, 8, 256)   0           ['ResUnit_L11_Input-p-1-1_AttnS2-\n",
      " -1 (MaxPooling2D)                                               1[0][0]',                        \n",
      "                                                                  'ResUnit_L11_Input-p-1-1_AttnS2-\n",
      "                                                                 1[1][0]']                        \n",
      "                                                                                                  \n",
      " ResUnit_L1_UpSamp-r-1-1_Mask_A  (None, 8, 8, 256)   1024        ['MaxPool_DownSamp-1_Mask_AttnS2-\n",
      " ttnS2-1 (BatchNormalization)                                    1[0][0]',                        \n",
      "                                                                  'MaxPool_DownSamp-1_Mask_AttnS2-\n",
      "                                                                 1[1][0]']                        \n",
      "                                                                                                  \n",
      " ResUnit_L2_UpSamp-r-1-1_Mask_A  (None, 8, 8, 256)   0           ['ResUnit_L1_UpSamp-r-1-1_Mask_At\n",
      " ttnS2-1 (Activation)                                            tnS2-1[0][0]',                   \n",
      "                                                                  'ResUnit_L1_UpSamp-r-1-1_Mask_At\n",
      "                                                                 tnS2-1[1][0]']                   \n",
      "                                                                                                  \n",
      " ResUnit_L1_Trunk-t-2-1_AttnS2-  (None, 16, 16, 256)  1024       ['ResUnit_L11_Input-p-1-1_AttnS2-\n",
      " 1 (BatchNormalization)                                          1[0][0]',                        \n",
      "                                                                  'ResUnit_L11_Input-p-1-1_AttnS2-\n",
      "                                                                 1[1][0]']                        \n",
      "                                                                                                  \n",
      " ResUnit_L3_UpSamp-r-1-1_Mask_A  (None, 8, 8, 64)    16384       ['ResUnit_L2_UpSamp-r-1-1_Mask_At\n",
      " ttnS2-1 (Conv2D)                                                tnS2-1[0][0]',                   \n",
      "                                                                  'ResUnit_L2_UpSamp-r-1-1_Mask_At\n",
      "                                                                 tnS2-1[1][0]']                   \n",
      "                                                                                                  \n",
      " ResUnit_L2_Trunk-t-2-1_AttnS2-  (None, 16, 16, 256)  0          ['ResUnit_L1_Trunk-t-2-1_AttnS2-1\n",
      " 1 (Activation)                                                  [0][0]',                         \n",
      "                                                                  'ResUnit_L1_Trunk-t-2-1_AttnS2-1\n",
      "                                                                 [1][0]']                         \n",
      "                                                                                                  \n",
      " ResUnit_L4_UpSamp-r-1-1_Mask_A  (None, 8, 8, 64)    256         ['ResUnit_L3_UpSamp-r-1-1_Mask_At\n",
      " ttnS2-1 (BatchNormalization)                                    tnS2-1[0][0]',                   \n",
      "                                                                  'ResUnit_L3_UpSamp-r-1-1_Mask_At\n",
      "                                                                 tnS2-1[1][0]']                   \n",
      "                                                                                                  \n",
      " ResUnit_L3_Trunk-t-2-1_AttnS2-  (None, 16, 16, 64)  16384       ['ResUnit_L2_Trunk-t-2-1_AttnS2-1\n",
      " 1 (Conv2D)                                                      [0][0]',                         \n",
      "                                                                  'ResUnit_L2_Trunk-t-2-1_AttnS2-1\n",
      "                                                                 [1][0]']                         \n",
      "                                                                                                  \n",
      " ResUnit_L5_UpSamp-r-1-1_Mask_A  (None, 8, 8, 64)    0           ['ResUnit_L4_UpSamp-r-1-1_Mask_At\n",
      " ttnS2-1 (Activation)                                            tnS2-1[0][0]',                   \n",
      "                                                                  'ResUnit_L4_UpSamp-r-1-1_Mask_At\n",
      "                                                                 tnS2-1[1][0]']                   \n",
      "                                                                                                  \n",
      " ResUnit_L4_Trunk-t-2-1_AttnS2-  (None, 16, 16, 64)  256         ['ResUnit_L3_Trunk-t-2-1_AttnS2-1\n",
      " 1 (BatchNormalization)                                          [0][0]',                         \n",
      "                                                                  'ResUnit_L3_Trunk-t-2-1_AttnS2-1\n",
      "                                                                 [1][0]']                         \n",
      "                                                                                                  \n",
      " ResUnit_L6_UpSamp-r-1-1_Mask_A  (None, 8, 8, 64)    36864       ['ResUnit_L5_UpSamp-r-1-1_Mask_At\n",
      " ttnS2-1 (Conv2D)                                                tnS2-1[0][0]',                   \n",
      "                                                                  'ResUnit_L5_UpSamp-r-1-1_Mask_At\n",
      "                                                                 tnS2-1[1][0]']                   \n",
      "                                                                                                  \n",
      " ResUnit_L5_Trunk-t-2-1_AttnS2-  (None, 16, 16, 64)  0           ['ResUnit_L4_Trunk-t-2-1_AttnS2-1\n",
      " 1 (Activation)                                                  [0][0]',                         \n",
      "                                                                  'ResUnit_L4_Trunk-t-2-1_AttnS2-1\n",
      "                                                                 [1][0]']                         \n",
      "                                                                                                  \n",
      " ResUnit_L7_UpSamp-r-1-1_Mask_A  (None, 8, 8, 64)    256         ['ResUnit_L6_UpSamp-r-1-1_Mask_At\n",
      " ttnS2-1 (BatchNormalization)                                    tnS2-1[0][0]',                   \n",
      "                                                                  'ResUnit_L6_UpSamp-r-1-1_Mask_At\n",
      "                                                                 tnS2-1[1][0]']                   \n",
      "                                                                                                  \n",
      " ResUnit_L6_Trunk-t-2-1_AttnS2-  (None, 16, 16, 64)  36864       ['ResUnit_L5_Trunk-t-2-1_AttnS2-1\n",
      " 1 (Conv2D)                                                      [0][0]',                         \n",
      "                                                                  'ResUnit_L5_Trunk-t-2-1_AttnS2-1\n",
      "                                                                 [1][0]']                         \n",
      "                                                                                                  \n",
      " ResUnit_L8_UpSamp-r-1-1_Mask_A  (None, 8, 8, 64)    0           ['ResUnit_L7_UpSamp-r-1-1_Mask_At\n",
      " ttnS2-1 (Activation)                                            tnS2-1[0][0]',                   \n",
      "                                                                  'ResUnit_L7_UpSamp-r-1-1_Mask_At\n",
      "                                                                 tnS2-1[1][0]']                   \n",
      "                                                                                                  \n",
      " ResUnit_L7_Trunk-t-2-1_AttnS2-  (None, 16, 16, 64)  256         ['ResUnit_L6_Trunk-t-2-1_AttnS2-1\n",
      " 1 (BatchNormalization)                                          [0][0]',                         \n",
      "                                                                  'ResUnit_L6_Trunk-t-2-1_AttnS2-1\n",
      "                                                                 [1][0]']                         \n",
      "                                                                                                  \n",
      " ResUnit_L9_UpSamp-r-1-1_Mask_A  (None, 8, 8, 256)   16384       ['ResUnit_L8_UpSamp-r-1-1_Mask_At\n",
      " ttnS2-1 (Conv2D)                                                tnS2-1[0][0]',                   \n",
      "                                                                  'ResUnit_L8_UpSamp-r-1-1_Mask_At\n",
      "                                                                 tnS2-1[1][0]']                   \n",
      "                                                                                                  \n",
      " ResUnit_L10_UpSamp-r-1-1_Mask_  (None, 8, 8, 256)   65536       ['ResUnit_L2_UpSamp-r-1-1_Mask_At\n",
      " AttnS2-1 (Conv2D)                                               tnS2-1[0][0]',                   \n",
      "                                                                  'ResUnit_L2_UpSamp-r-1-1_Mask_At\n",
      "                                                                 tnS2-1[1][0]']                   \n",
      "                                                                                                  \n",
      " ResUnit_L8_Trunk-t-2-1_AttnS2-  (None, 16, 16, 64)  0           ['ResUnit_L7_Trunk-t-2-1_AttnS2-1\n",
      " 1 (Activation)                                                  [0][0]',                         \n",
      "                                                                  'ResUnit_L7_Trunk-t-2-1_AttnS2-1\n",
      "                                                                 [1][0]']                         \n",
      "                                                                                                  \n",
      " ResUnit_L11_UpSamp-r-1-1_Mask_  (None, 8, 8, 256)   0           ['ResUnit_L9_UpSamp-r-1-1_Mask_At\n",
      " AttnS2-1 (Add)                                                  tnS2-1[0][0]',                   \n",
      "                                                                  'ResUnit_L10_UpSamp-r-1-1_Mask_A\n",
      "                                                                 ttnS2-1[0][0]',                  \n",
      "                                                                  'ResUnit_L9_UpSamp-r-1-1_Mask_At\n",
      "                                                                 tnS2-1[1][0]',                   \n",
      "                                                                  'ResUnit_L10_UpSamp-r-1-1_Mask_A\n",
      "                                                                 ttnS2-1[1][0]']                  \n",
      "                                                                                                  \n",
      " ResUnit_L9_Trunk-t-2-1_AttnS2-  (None, 16, 16, 256)  16384      ['ResUnit_L8_Trunk-t-2-1_AttnS2-1\n",
      " 1 (Conv2D)                                                      [0][0]',                         \n",
      "                                                                  'ResUnit_L8_Trunk-t-2-1_AttnS2-1\n",
      "                                                                 [1][0]']                         \n",
      "                                                                                                  \n",
      " ResUnit_L10_Trunk-t-2-1_AttnS2  (None, 16, 16, 256)  65536      ['ResUnit_L2_Trunk-t-2-1_AttnS2-1\n",
      " -1 (Conv2D)                                                     [0][0]',                         \n",
      "                                                                  'ResUnit_L2_Trunk-t-2-1_AttnS2-1\n",
      "                                                                 [1][0]']                         \n",
      "                                                                                                  \n",
      " ResUnit_L1_UpSamp-r-1-2_Mask_A  (None, 8, 8, 256)   1024        ['ResUnit_L11_UpSamp-r-1-1_Mask_A\n",
      " ttnS2-1 (BatchNormalization)                                    ttnS2-1[0][0]',                  \n",
      "                                                                  'ResUnit_L11_UpSamp-r-1-1_Mask_A\n",
      "                                                                 ttnS2-1[1][0]']                  \n",
      "                                                                                                  \n",
      " ResUnit_L11_Trunk-t-2-1_AttnS2  (None, 16, 16, 256)  0          ['ResUnit_L9_Trunk-t-2-1_AttnS2-1\n",
      " -1 (Add)                                                        [0][0]',                         \n",
      "                                                                  'ResUnit_L10_Trunk-t-2-1_AttnS2-\n",
      "                                                                 1[0][0]',                        \n",
      "                                                                  'ResUnit_L9_Trunk-t-2-1_AttnS2-1\n",
      "                                                                 [1][0]',                         \n",
      "                                                                  'ResUnit_L10_Trunk-t-2-1_AttnS2-\n",
      "                                                                 1[1][0]']                        \n",
      "                                                                                                  \n",
      " ResUnit_L2_UpSamp-r-1-2_Mask_A  (None, 8, 8, 256)   0           ['ResUnit_L1_UpSamp-r-1-2_Mask_At\n",
      " ttnS2-1 (Activation)                                            tnS2-1[0][0]',                   \n",
      "                                                                  'ResUnit_L1_UpSamp-r-1-2_Mask_At\n",
      "                                                                 tnS2-1[1][0]']                   \n",
      "                                                                                                  \n",
      " ResUnit_L1_Trunk-t-2-2_AttnS2-  (None, 16, 16, 256)  1024       ['ResUnit_L11_Trunk-t-2-1_AttnS2-\n",
      " 1 (BatchNormalization)                                          1[0][0]',                        \n",
      "                                                                  'ResUnit_L11_Trunk-t-2-1_AttnS2-\n",
      "                                                                 1[1][0]']                        \n",
      "                                                                                                  \n",
      " ResUnit_L3_UpSamp-r-1-2_Mask_A  (None, 8, 8, 64)    16384       ['ResUnit_L2_UpSamp-r-1-2_Mask_At\n",
      " ttnS2-1 (Conv2D)                                                tnS2-1[0][0]',                   \n",
      "                                                                  'ResUnit_L2_UpSamp-r-1-2_Mask_At\n",
      "                                                                 tnS2-1[1][0]']                   \n",
      "                                                                                                  \n",
      " ResUnit_L2_Trunk-t-2-2_AttnS2-  (None, 16, 16, 256)  0          ['ResUnit_L1_Trunk-t-2-2_AttnS2-1\n",
      " 1 (Activation)                                                  [0][0]',                         \n",
      "                                                                  'ResUnit_L1_Trunk-t-2-2_AttnS2-1\n",
      "                                                                 [1][0]']                         \n",
      "                                                                                                  \n",
      " ResUnit_L4_UpSamp-r-1-2_Mask_A  (None, 8, 8, 64)    256         ['ResUnit_L3_UpSamp-r-1-2_Mask_At\n",
      " ttnS2-1 (BatchNormalization)                                    tnS2-1[0][0]',                   \n",
      "                                                                  'ResUnit_L3_UpSamp-r-1-2_Mask_At\n",
      "                                                                 tnS2-1[1][0]']                   \n",
      "                                                                                                  \n",
      " ResUnit_L3_Trunk-t-2-2_AttnS2-  (None, 16, 16, 64)  16384       ['ResUnit_L2_Trunk-t-2-2_AttnS2-1\n",
      " 1 (Conv2D)                                                      [0][0]',                         \n",
      "                                                                  'ResUnit_L2_Trunk-t-2-2_AttnS2-1\n",
      "                                                                 [1][0]']                         \n",
      "                                                                                                  \n",
      " ResUnit_L5_UpSamp-r-1-2_Mask_A  (None, 8, 8, 64)    0           ['ResUnit_L4_UpSamp-r-1-2_Mask_At\n",
      " ttnS2-1 (Activation)                                            tnS2-1[0][0]',                   \n",
      "                                                                  'ResUnit_L4_UpSamp-r-1-2_Mask_At\n",
      "                                                                 tnS2-1[1][0]']                   \n",
      "                                                                                                  \n",
      " ResUnit_L4_Trunk-t-2-2_AttnS2-  (None, 16, 16, 64)  256         ['ResUnit_L3_Trunk-t-2-2_AttnS2-1\n",
      " 1 (BatchNormalization)                                          [0][0]',                         \n",
      "                                                                  'ResUnit_L3_Trunk-t-2-2_AttnS2-1\n",
      "                                                                 [1][0]']                         \n",
      "                                                                                                  \n",
      " ResUnit_L6_UpSamp-r-1-2_Mask_A  (None, 8, 8, 64)    36864       ['ResUnit_L5_UpSamp-r-1-2_Mask_At\n",
      " ttnS2-1 (Conv2D)                                                tnS2-1[0][0]',                   \n",
      "                                                                  'ResUnit_L5_UpSamp-r-1-2_Mask_At\n",
      "                                                                 tnS2-1[1][0]']                   \n",
      "                                                                                                  \n",
      " ResUnit_L5_Trunk-t-2-2_AttnS2-  (None, 16, 16, 64)  0           ['ResUnit_L4_Trunk-t-2-2_AttnS2-1\n",
      " 1 (Activation)                                                  [0][0]',                         \n",
      "                                                                  'ResUnit_L4_Trunk-t-2-2_AttnS2-1\n",
      "                                                                 [1][0]']                         \n",
      "                                                                                                  \n",
      " ResUnit_L7_UpSamp-r-1-2_Mask_A  (None, 8, 8, 64)    256         ['ResUnit_L6_UpSamp-r-1-2_Mask_At\n",
      " ttnS2-1 (BatchNormalization)                                    tnS2-1[0][0]',                   \n",
      "                                                                  'ResUnit_L6_UpSamp-r-1-2_Mask_At\n",
      "                                                                 tnS2-1[1][0]']                   \n",
      "                                                                                                  \n",
      " ResUnit_L6_Trunk-t-2-2_AttnS2-  (None, 16, 16, 64)  36864       ['ResUnit_L5_Trunk-t-2-2_AttnS2-1\n",
      " 1 (Conv2D)                                                      [0][0]',                         \n",
      "                                                                  'ResUnit_L5_Trunk-t-2-2_AttnS2-1\n",
      "                                                                 [1][0]']                         \n",
      "                                                                                                  \n",
      " ResUnit_L8_UpSamp-r-1-2_Mask_A  (None, 8, 8, 64)    0           ['ResUnit_L7_UpSamp-r-1-2_Mask_At\n",
      " ttnS2-1 (Activation)                                            tnS2-1[0][0]',                   \n",
      "                                                                  'ResUnit_L7_UpSamp-r-1-2_Mask_At\n",
      "                                                                 tnS2-1[1][0]']                   \n",
      "                                                                                                  \n",
      " ResUnit_L7_Trunk-t-2-2_AttnS2-  (None, 16, 16, 64)  256         ['ResUnit_L6_Trunk-t-2-2_AttnS2-1\n",
      " 1 (BatchNormalization)                                          [0][0]',                         \n",
      "                                                                  'ResUnit_L6_Trunk-t-2-2_AttnS2-1\n",
      "                                                                 [1][0]']                         \n",
      "                                                                                                  \n",
      " ResUnit_L9_UpSamp-r-1-2_Mask_A  (None, 8, 8, 256)   16384       ['ResUnit_L8_UpSamp-r-1-2_Mask_At\n",
      " ttnS2-1 (Conv2D)                                                tnS2-1[0][0]',                   \n",
      "                                                                  'ResUnit_L8_UpSamp-r-1-2_Mask_At\n",
      "                                                                 tnS2-1[1][0]']                   \n",
      "                                                                                                  \n",
      " ResUnit_L10_UpSamp-r-1-2_Mask_  (None, 8, 8, 256)   65536       ['ResUnit_L2_UpSamp-r-1-2_Mask_At\n",
      " AttnS2-1 (Conv2D)                                               tnS2-1[0][0]',                   \n",
      "                                                                  'ResUnit_L2_UpSamp-r-1-2_Mask_At\n",
      "                                                                 tnS2-1[1][0]']                   \n",
      "                                                                                                  \n",
      " ResUnit_L8_Trunk-t-2-2_AttnS2-  (None, 16, 16, 64)  0           ['ResUnit_L7_Trunk-t-2-2_AttnS2-1\n",
      " 1 (Activation)                                                  [0][0]',                         \n",
      "                                                                  'ResUnit_L7_Trunk-t-2-2_AttnS2-1\n",
      "                                                                 [1][0]']                         \n",
      "                                                                                                  \n",
      " ResUnit_L11_UpSamp-r-1-2_Mask_  (None, 8, 8, 256)   0           ['ResUnit_L9_UpSamp-r-1-2_Mask_At\n",
      " AttnS2-1 (Add)                                                  tnS2-1[0][0]',                   \n",
      "                                                                  'ResUnit_L10_UpSamp-r-1-2_Mask_A\n",
      "                                                                 ttnS2-1[0][0]',                  \n",
      "                                                                  'ResUnit_L9_UpSamp-r-1-2_Mask_At\n",
      "                                                                 tnS2-1[1][0]',                   \n",
      "                                                                  'ResUnit_L10_UpSamp-r-1-2_Mask_A\n",
      "                                                                 ttnS2-1[1][0]']                  \n",
      "                                                                                                  \n",
      " ResUnit_L9_Trunk-t-2-2_AttnS2-  (None, 16, 16, 256)  16384      ['ResUnit_L8_Trunk-t-2-2_AttnS2-1\n",
      " 1 (Conv2D)                                                      [0][0]',                         \n",
      "                                                                  'ResUnit_L8_Trunk-t-2-2_AttnS2-1\n",
      "                                                                 [1][0]']                         \n",
      "                                                                                                  \n",
      " ResUnit_L10_Trunk-t-2-2_AttnS2  (None, 16, 16, 256)  65536      ['ResUnit_L2_Trunk-t-2-2_AttnS2-1\n",
      " -1 (Conv2D)                                                     [0][0]',                         \n",
      "                                                                  'ResUnit_L2_Trunk-t-2-2_AttnS2-1\n",
      "                                                                 [1][0]']                         \n",
      "                                                                                                  \n",
      " UpSamp2D-1_Mask_AttnS2-1 (UpSa  (None, 16, 16, 256)  0          ['ResUnit_L11_UpSamp-r-1-2_Mask_A\n",
      " mpling2D)                                                       ttnS2-1[0][0]',                  \n",
      "                                                                  'ResUnit_L11_UpSamp-r-1-2_Mask_A\n",
      "                                                                 ttnS2-1[1][0]']                  \n",
      "                                                                                                  \n",
      " ResUnit_L11_Trunk-t-2-2_AttnS2  (None, 16, 16, 256)  0          ['ResUnit_L9_Trunk-t-2-2_AttnS2-1\n",
      " -1 (Add)                                                        [0][0]',                         \n",
      "                                                                  'ResUnit_L10_Trunk-t-2-2_AttnS2-\n",
      "                                                                 1[0][0]',                        \n",
      "                                                                  'ResUnit_L9_Trunk-t-2-2_AttnS2-1\n",
      "                                                                 [1][0]',                         \n",
      "                                                                  'ResUnit_L10_Trunk-t-2-2_AttnS2-\n",
      "                                                                 1[1][0]']                        \n",
      "                                                                                                  \n",
      " Add_L1_AttnS2-1 (Add)          (None, 16, 16, 256)  0           ['UpSamp2D-1_Mask_AttnS2-1[0][0]'\n",
      "                                                                 , 'ResUnit_L11_Trunk-t-2-2_AttnS2\n",
      "                                                                 -1[0][0]',                       \n",
      "                                                                  'UpSamp2D-1_Mask_AttnS2-1[1][0]'\n",
      "                                                                 , 'ResUnit_L11_Trunk-t-2-2_AttnS2\n",
      "                                                                 -1[1][0]']                       \n",
      "                                                                                                  \n",
      " SpcConv_Mask_L1_Attn_S2-1 (Bat  (None, 16, 16, 256)  1024       ['Add_L1_AttnS2-1[0][0]',        \n",
      " chNormalization)                                                 'Add_L1_AttnS2-1[1][0]']        \n",
      "                                                                                                  \n",
      " SpcConv_Mask_L2_Attn_S2-1 (Act  (None, 16, 16, 256)  0          ['SpcConv_Mask_L1_Attn_S2-1[0][0]\n",
      " ivation)                                                        ',                               \n",
      "                                                                  'SpcConv_Mask_L1_Attn_S2-1[1][0]\n",
      "                                                                 ']                               \n",
      "                                                                                                  \n",
      " SpcConv_Mask_L3_Attn_S2-1 (Con  (None, 16, 16, 256)  65536      ['SpcConv_Mask_L2_Attn_S2-1[0][0]\n",
      " v2D)                                                            ',                               \n",
      "                                                                  'SpcConv_Mask_L2_Attn_S2-1[1][0]\n",
      "                                                                 ']                               \n",
      "                                                                                                  \n",
      " SpcConv_Mask_L4_Attn_S2-1 (Bat  (None, 16, 16, 256)  1024       ['SpcConv_Mask_L3_Attn_S2-1[0][0]\n",
      " chNormalization)                                                ',                               \n",
      "                                                                  'SpcConv_Mask_L3_Attn_S2-1[1][0]\n",
      "                                                                 ']                               \n",
      "                                                                                                  \n",
      " SpcConv_Mask_L5_Attn_S2-1 (Act  (None, 16, 16, 256)  0          ['SpcConv_Mask_L4_Attn_S2-1[0][0]\n",
      " ivation)                                                        ',                               \n",
      "                                                                  'SpcConv_Mask_L5_Attn_S2-1[0][0]\n",
      "                                                                 ',                               \n",
      "                                                                  'SpcConv_Mask_L4_Attn_S2-1[1][0]\n",
      "                                                                 ',                               \n",
      "                                                                  'SpcConv_Mask_L5_Attn_S2-1[2][0]\n",
      "                                                                 ']                               \n",
      "                                                                                                  \n",
      " SpcConv_Mask_L7_Attn_S2-1 (Act  (None, 16, 16, 256)  0          ['SpcConv_Mask_L5_Attn_S2-1[1][0]\n",
      " ivation)                                                        ',                               \n",
      "                                                                  'SpcConv_Mask_L5_Attn_S2-1[3][0]\n",
      "                                                                 ']                               \n",
      "                                                                                                  \n",
      " Mult_L1_AttnS2-1 (Multiply)    (None, 16, 16, 256)  0           ['SpcConv_Mask_L7_Attn_S2-1[0][0]\n",
      "                                                                 ',                               \n",
      "                                                                  'ResUnit_L11_Trunk-t-2-2_AttnS2-\n",
      "                                                                 1[0][0]',                        \n",
      "                                                                  'SpcConv_Mask_L7_Attn_S2-1[1][0]\n",
      "                                                                 ',                               \n",
      "                                                                  'ResUnit_L11_Trunk-t-2-2_AttnS2-\n",
      "                                                                 1[1][0]']                        \n",
      "                                                                                                  \n",
      " Add_L2_AttnS2-1 (Add)          (None, 16, 16, 256)  0           ['Mult_L1_AttnS2-1[0][0]',       \n",
      "                                                                  'ResUnit_L11_Trunk-t-2-2_AttnS2-\n",
      "                                                                 1[0][0]',                        \n",
      "                                                                  'Mult_L1_AttnS2-1[1][0]',       \n",
      "                                                                  'ResUnit_L11_Trunk-t-2-2_AttnS2-\n",
      "                                                                 1[1][0]']                        \n",
      "                                                                                                  \n",
      " ResUnit_L1_Output-p-1-1_AttnS2  (None, 16, 16, 256)  1024       ['Add_L2_AttnS2-1[0][0]',        \n",
      " -1 (BatchNormalization)                                          'Add_L2_AttnS2-1[1][0]']        \n",
      "                                                                                                  \n",
      " ResUnit_L2_Output-p-1-1_AttnS2  (None, 16, 16, 256)  0          ['ResUnit_L1_Output-p-1-1_AttnS2-\n",
      " -1 (Activation)                                                 1[0][0]',                        \n",
      "                                                                  'ResUnit_L1_Output-p-1-1_AttnS2-\n",
      "                                                                 1[1][0]']                        \n",
      "                                                                                                  \n",
      " ResUnit_L3_Output-p-1-1_AttnS2  (None, 16, 16, 64)  16384       ['ResUnit_L2_Output-p-1-1_AttnS2-\n",
      " -1 (Conv2D)                                                     1[0][0]',                        \n",
      "                                                                  'ResUnit_L2_Output-p-1-1_AttnS2-\n",
      "                                                                 1[1][0]']                        \n",
      "                                                                                                  \n",
      " ResUnit_L4_Output-p-1-1_AttnS2  (None, 16, 16, 64)  256         ['ResUnit_L3_Output-p-1-1_AttnS2-\n",
      " -1 (BatchNormalization)                                         1[0][0]',                        \n",
      "                                                                  'ResUnit_L3_Output-p-1-1_AttnS2-\n",
      "                                                                 1[1][0]']                        \n",
      "                                                                                                  \n",
      " ResUnit_L5_Output-p-1-1_AttnS2  (None, 16, 16, 64)  0           ['ResUnit_L4_Output-p-1-1_AttnS2-\n",
      " -1 (Activation)                                                 1[0][0]',                        \n",
      "                                                                  'ResUnit_L4_Output-p-1-1_AttnS2-\n",
      "                                                                 1[1][0]']                        \n",
      "                                                                                                  \n",
      " ResUnit_L6_Output-p-1-1_AttnS2  (None, 16, 16, 64)  36864       ['ResUnit_L5_Output-p-1-1_AttnS2-\n",
      " -1 (Conv2D)                                                     1[0][0]',                        \n",
      "                                                                  'ResUnit_L5_Output-p-1-1_AttnS2-\n",
      "                                                                 1[1][0]']                        \n",
      "                                                                                                  \n",
      " ResUnit_L7_Output-p-1-1_AttnS2  (None, 16, 16, 64)  256         ['ResUnit_L6_Output-p-1-1_AttnS2-\n",
      " -1 (BatchNormalization)                                         1[0][0]',                        \n",
      "                                                                  'ResUnit_L6_Output-p-1-1_AttnS2-\n",
      "                                                                 1[1][0]']                        \n",
      "                                                                                                  \n",
      " ResUnit_L8_Output-p-1-1_AttnS2  (None, 16, 16, 64)  0           ['ResUnit_L7_Output-p-1-1_AttnS2-\n",
      " -1 (Activation)                                                 1[0][0]',                        \n",
      "                                                                  'ResUnit_L7_Output-p-1-1_AttnS2-\n",
      "                                                                 1[1][0]']                        \n",
      "                                                                                                  \n",
      " ResUnit_L9_Output-p-1-1_AttnS2  (None, 16, 16, 256)  16384      ['ResUnit_L8_Output-p-1-1_AttnS2-\n",
      " -1 (Conv2D)                                                     1[0][0]',                        \n",
      "                                                                  'ResUnit_L8_Output-p-1-1_AttnS2-\n",
      "                                                                 1[1][0]']                        \n",
      "                                                                                                  \n",
      " ResUnit_L10_Output-p-1-1_AttnS  (None, 16, 16, 256)  65536      ['ResUnit_L2_Output-p-1-1_AttnS2-\n",
      " 2-1 (Conv2D)                                                    1[0][0]',                        \n",
      "                                                                  'ResUnit_L2_Output-p-1-1_AttnS2-\n",
      "                                                                 1[1][0]']                        \n",
      "                                                                                                  \n",
      " ResUnit_L11_Output-p-1-1_AttnS  (None, 16, 16, 256)  0          ['ResUnit_L9_Output-p-1-1_AttnS2-\n",
      " 2-1 (Add)                                                       1[0][0]',                        \n",
      "                                                                  'ResUnit_L10_Output-p-1-1_AttnS2\n",
      "                                                                 -1[0][0]',                       \n",
      "                                                                  'ResUnit_L9_Output-p-1-1_AttnS2-\n",
      "                                                                 1[1][0]',                        \n",
      "                                                                  'ResUnit_L10_Output-p-1-1_AttnS2\n",
      "                                                                 -1[1][0]']                       \n",
      "                                                                                                  \n",
      " ResUnit_L1_NotAttnModule_3_DS   (None, 16, 16, 256)  1024       ['ResUnit_L11_Output-p-1-1_AttnS2\n",
      " (BatchNormalization)                                            -1[1][0]']                       \n",
      "                                                                                                  \n",
      " ResUnit_L2_NotAttnModule_3_DS   (None, 16, 16, 256)  0          ['ResUnit_L1_NotAttnModule_3_DS[0\n",
      " (Activation)                                                    ][0]']                           \n",
      "                                                                                                  \n",
      " ResUnit_L3_NotAttnModule_3_DS   (None, 16, 16, 128)  32768      ['ResUnit_L2_NotAttnModule_3_DS[0\n",
      " (Conv2D)                                                        ][0]']                           \n",
      "                                                                                                  \n",
      " ResUnit_L4_NotAttnModule_3_DS   (None, 16, 16, 128)  512        ['ResUnit_L3_NotAttnModule_3_DS[0\n",
      " (BatchNormalization)                                            ][0]']                           \n",
      "                                                                                                  \n",
      " ResUnit_L5_NotAttnModule_3_DS   (None, 16, 16, 128)  0          ['ResUnit_L4_NotAttnModule_3_DS[0\n",
      " (Activation)                                                    ][0]']                           \n",
      "                                                                                                  \n",
      " ResUnit_L6_NotAttnModule_3_DS   (None, 8, 8, 128)   147456      ['ResUnit_L5_NotAttnModule_3_DS[0\n",
      " (Conv2D)                                                        ][0]']                           \n",
      "                                                                                                  \n",
      " ResUnit_L7_NotAttnModule_3_DS   (None, 8, 8, 128)   512         ['ResUnit_L6_NotAttnModule_3_DS[0\n",
      " (BatchNormalization)                                            ][0]']                           \n",
      "                                                                                                  \n",
      " ResUnit_L8_NotAttnModule_3_DS   (None, 8, 8, 128)   0           ['ResUnit_L7_NotAttnModule_3_DS[0\n",
      " (Activation)                                                    ][0]']                           \n",
      "                                                                                                  \n",
      " ResUnit_L9_NotAttnModule_3_DS   (None, 8, 8, 512)   65536       ['ResUnit_L8_NotAttnModule_3_DS[0\n",
      " (Conv2D)                                                        ][0]']                           \n",
      "                                                                                                  \n",
      " ResUnit_L10_NotAttnModule_3_DS  (None, 8, 8, 512)   131072      ['ResUnit_L2_NotAttnModule_3_DS[0\n",
      "  (Conv2D)                                                       ][0]']                           \n",
      "                                                                                                  \n",
      " ResUnit_L11_NotAttnModule_3_DS  (None, 8, 8, 512)   0           ['ResUnit_L9_NotAttnModule_3_DS[0\n",
      "  (Add)                                                          ][0]',                           \n",
      "                                                                  'ResUnit_L10_NotAttnModule_3_DS[\n",
      "                                                                 0][0]']                          \n",
      "                                                                                                  \n",
      " ResUnit_L1_Input-p-1-1_AttnS3-  (None, 8, 8, 512)   2048        ['ResUnit_L11_NotAttnModule_3_DS[\n",
      " 1 (BatchNormalization)                                          0][0]']                          \n",
      "                                                                                                  \n",
      " ResUnit_L2_Input-p-1-1_AttnS3-  (None, 8, 8, 512)   0           ['ResUnit_L1_Input-p-1-1_AttnS3-1\n",
      " 1 (Activation)                                                  [0][0]']                         \n",
      "                                                                                                  \n",
      " ResUnit_L3_Input-p-1-1_AttnS3-  (None, 8, 8, 128)   65536       ['ResUnit_L2_Input-p-1-1_AttnS3-1\n",
      " 1 (Conv2D)                                                      [0][0]']                         \n",
      "                                                                                                  \n",
      " ResUnit_L4_Input-p-1-1_AttnS3-  (None, 8, 8, 128)   512         ['ResUnit_L3_Input-p-1-1_AttnS3-1\n",
      " 1 (BatchNormalization)                                          [0][0]']                         \n",
      "                                                                                                  \n",
      " ResUnit_L5_Input-p-1-1_AttnS3-  (None, 8, 8, 128)   0           ['ResUnit_L4_Input-p-1-1_AttnS3-1\n",
      " 1 (Activation)                                                  [0][0]']                         \n",
      "                                                                                                  \n",
      " ResUnit_L6_Input-p-1-1_AttnS3-  (None, 8, 8, 128)   147456      ['ResUnit_L5_Input-p-1-1_AttnS3-1\n",
      " 1 (Conv2D)                                                      [0][0]']                         \n",
      "                                                                                                  \n",
      " ResUnit_L7_Input-p-1-1_AttnS3-  (None, 8, 8, 128)   512         ['ResUnit_L6_Input-p-1-1_AttnS3-1\n",
      " 1 (BatchNormalization)                                          [0][0]']                         \n",
      "                                                                                                  \n",
      " ResUnit_L8_Input-p-1-1_AttnS3-  (None, 8, 8, 128)   0           ['ResUnit_L7_Input-p-1-1_AttnS3-1\n",
      " 1 (Activation)                                                  [0][0]']                         \n",
      "                                                                                                  \n",
      " ResUnit_L9_Input-p-1-1_AttnS3-  (None, 8, 8, 512)   65536       ['ResUnit_L8_Input-p-1-1_AttnS3-1\n",
      " 1 (Conv2D)                                                      [0][0]']                         \n",
      "                                                                                                  \n",
      " ResUnit_L10_Input-p-1-1_AttnS3  (None, 8, 8, 512)   262144      ['ResUnit_L2_Input-p-1-1_AttnS3-1\n",
      " -1 (Conv2D)                                                     [0][0]']                         \n",
      "                                                                                                  \n",
      " ResUnit_L11_Input-p-1-1_AttnS3  (None, 8, 8, 512)   0           ['ResUnit_L9_Input-p-1-1_AttnS3-1\n",
      " -1 (Add)                                                        [0][0]',                         \n",
      "                                                                  'ResUnit_L10_Input-p-1-1_AttnS3-\n",
      "                                                                 1[0][0]']                        \n",
      "                                                                                                  \n",
      " ResUnit_L1_UpSamp-r-1-1_Mask_A  (None, 8, 8, 512)   2048        ['ResUnit_L11_Input-p-1-1_AttnS3-\n",
      " ttnS3-1 (BatchNormalization)                                    1[0][0]']                        \n",
      "                                                                                                  \n",
      " ResUnit_L2_UpSamp-r-1-1_Mask_A  (None, 8, 8, 512)   0           ['ResUnit_L1_UpSamp-r-1-1_Mask_At\n",
      " ttnS3-1 (Activation)                                            tnS3-1[0][0]']                   \n",
      "                                                                                                  \n",
      " ResUnit_L3_UpSamp-r-1-1_Mask_A  (None, 8, 8, 128)   65536       ['ResUnit_L2_UpSamp-r-1-1_Mask_At\n",
      " ttnS3-1 (Conv2D)                                                tnS3-1[0][0]']                   \n",
      "                                                                                                  \n",
      " ResUnit_L4_UpSamp-r-1-1_Mask_A  (None, 8, 8, 128)   512         ['ResUnit_L3_UpSamp-r-1-1_Mask_At\n",
      " ttnS3-1 (BatchNormalization)                                    tnS3-1[0][0]']                   \n",
      "                                                                                                  \n",
      " ResUnit_L5_UpSamp-r-1-1_Mask_A  (None, 8, 8, 128)   0           ['ResUnit_L4_UpSamp-r-1-1_Mask_At\n",
      " ttnS3-1 (Activation)                                            tnS3-1[0][0]']                   \n",
      "                                                                                                  \n",
      " ResUnit_L6_UpSamp-r-1-1_Mask_A  (None, 8, 8, 128)   147456      ['ResUnit_L5_UpSamp-r-1-1_Mask_At\n",
      " ttnS3-1 (Conv2D)                                                tnS3-1[0][0]']                   \n",
      "                                                                                                  \n",
      " ResUnit_L7_UpSamp-r-1-1_Mask_A  (None, 8, 8, 128)   512         ['ResUnit_L6_UpSamp-r-1-1_Mask_At\n",
      " ttnS3-1 (BatchNormalization)                                    tnS3-1[0][0]']                   \n",
      "                                                                                                  \n",
      " ResUnit_L8_UpSamp-r-1-1_Mask_A  (None, 8, 8, 128)   0           ['ResUnit_L7_UpSamp-r-1-1_Mask_At\n",
      " ttnS3-1 (Activation)                                            tnS3-1[0][0]']                   \n",
      "                                                                                                  \n",
      " ResUnit_L1_Trunk-t-2-1_AttnS3-  (None, 8, 8, 512)   2048        ['ResUnit_L11_Input-p-1-1_AttnS3-\n",
      " 1 (BatchNormalization)                                          1[0][0]']                        \n",
      "                                                                                                  \n",
      " ResUnit_L9_UpSamp-r-1-1_Mask_A  (None, 8, 8, 512)   65536       ['ResUnit_L8_UpSamp-r-1-1_Mask_At\n",
      " ttnS3-1 (Conv2D)                                                tnS3-1[0][0]']                   \n",
      "                                                                                                  \n",
      " ResUnit_L10_UpSamp-r-1-1_Mask_  (None, 8, 8, 512)   262144      ['ResUnit_L2_UpSamp-r-1-1_Mask_At\n",
      " AttnS3-1 (Conv2D)                                               tnS3-1[0][0]']                   \n",
      "                                                                                                  \n",
      " ResUnit_L2_Trunk-t-2-1_AttnS3-  (None, 8, 8, 512)   0           ['ResUnit_L1_Trunk-t-2-1_AttnS3-1\n",
      " 1 (Activation)                                                  [0][0]']                         \n",
      "                                                                                                  \n",
      " ResUnit_L11_UpSamp-r-1-1_Mask_  (None, 8, 8, 512)   0           ['ResUnit_L9_UpSamp-r-1-1_Mask_At\n",
      " AttnS3-1 (Add)                                                  tnS3-1[0][0]',                   \n",
      "                                                                  'ResUnit_L10_UpSamp-r-1-1_Mask_A\n",
      "                                                                 ttnS3-1[0][0]']                  \n",
      "                                                                                                  \n",
      " ResUnit_L3_Trunk-t-2-1_AttnS3-  (None, 8, 8, 128)   65536       ['ResUnit_L2_Trunk-t-2-1_AttnS3-1\n",
      " 1 (Conv2D)                                                      [0][0]']                         \n",
      "                                                                                                  \n",
      " ResUnit_L1_UpSamp-r-1-2_Mask_A  (None, 8, 8, 512)   2048        ['ResUnit_L11_UpSamp-r-1-1_Mask_A\n",
      " ttnS3-1 (BatchNormalization)                                    ttnS3-1[0][0]']                  \n",
      "                                                                                                  \n",
      " ResUnit_L4_Trunk-t-2-1_AttnS3-  (None, 8, 8, 128)   512         ['ResUnit_L3_Trunk-t-2-1_AttnS3-1\n",
      " 1 (BatchNormalization)                                          [0][0]']                         \n",
      "                                                                                                  \n",
      " ResUnit_L2_UpSamp-r-1-2_Mask_A  (None, 8, 8, 512)   0           ['ResUnit_L1_UpSamp-r-1-2_Mask_At\n",
      " ttnS3-1 (Activation)                                            tnS3-1[0][0]']                   \n",
      "                                                                                                  \n",
      " ResUnit_L5_Trunk-t-2-1_AttnS3-  (None, 8, 8, 128)   0           ['ResUnit_L4_Trunk-t-2-1_AttnS3-1\n",
      " 1 (Activation)                                                  [0][0]']                         \n",
      "                                                                                                  \n",
      " ResUnit_L3_UpSamp-r-1-2_Mask_A  (None, 8, 8, 128)   65536       ['ResUnit_L2_UpSamp-r-1-2_Mask_At\n",
      " ttnS3-1 (Conv2D)                                                tnS3-1[0][0]']                   \n",
      "                                                                                                  \n",
      " ResUnit_L6_Trunk-t-2-1_AttnS3-  (None, 8, 8, 128)   147456      ['ResUnit_L5_Trunk-t-2-1_AttnS3-1\n",
      " 1 (Conv2D)                                                      [0][0]']                         \n",
      "                                                                                                  \n",
      " ResUnit_L4_UpSamp-r-1-2_Mask_A  (None, 8, 8, 128)   512         ['ResUnit_L3_UpSamp-r-1-2_Mask_At\n",
      " ttnS3-1 (BatchNormalization)                                    tnS3-1[0][0]']                   \n",
      "                                                                                                  \n",
      " ResUnit_L7_Trunk-t-2-1_AttnS3-  (None, 8, 8, 128)   512         ['ResUnit_L6_Trunk-t-2-1_AttnS3-1\n",
      " 1 (BatchNormalization)                                          [0][0]']                         \n",
      "                                                                                                  \n",
      " ResUnit_L5_UpSamp-r-1-2_Mask_A  (None, 8, 8, 128)   0           ['ResUnit_L4_UpSamp-r-1-2_Mask_At\n",
      " ttnS3-1 (Activation)                                            tnS3-1[0][0]']                   \n",
      "                                                                                                  \n",
      " ResUnit_L8_Trunk-t-2-1_AttnS3-  (None, 8, 8, 128)   0           ['ResUnit_L7_Trunk-t-2-1_AttnS3-1\n",
      " 1 (Activation)                                                  [0][0]']                         \n",
      "                                                                                                  \n",
      " ResUnit_L6_UpSamp-r-1-2_Mask_A  (None, 8, 8, 128)   147456      ['ResUnit_L5_UpSamp-r-1-2_Mask_At\n",
      " ttnS3-1 (Conv2D)                                                tnS3-1[0][0]']                   \n",
      "                                                                                                  \n",
      " ResUnit_L9_Trunk-t-2-1_AttnS3-  (None, 8, 8, 512)   65536       ['ResUnit_L8_Trunk-t-2-1_AttnS3-1\n",
      " 1 (Conv2D)                                                      [0][0]']                         \n",
      "                                                                                                  \n",
      " ResUnit_L10_Trunk-t-2-1_AttnS3  (None, 8, 8, 512)   262144      ['ResUnit_L2_Trunk-t-2-1_AttnS3-1\n",
      " -1 (Conv2D)                                                     [0][0]']                         \n",
      "                                                                                                  \n",
      " ResUnit_L7_UpSamp-r-1-2_Mask_A  (None, 8, 8, 128)   512         ['ResUnit_L6_UpSamp-r-1-2_Mask_At\n",
      " ttnS3-1 (BatchNormalization)                                    tnS3-1[0][0]']                   \n",
      "                                                                                                  \n",
      " ResUnit_L11_Trunk-t-2-1_AttnS3  (None, 8, 8, 512)   0           ['ResUnit_L9_Trunk-t-2-1_AttnS3-1\n",
      " -1 (Add)                                                        [0][0]',                         \n",
      "                                                                  'ResUnit_L10_Trunk-t-2-1_AttnS3-\n",
      "                                                                 1[0][0]']                        \n",
      "                                                                                                  \n",
      " ResUnit_L8_UpSamp-r-1-2_Mask_A  (None, 8, 8, 128)   0           ['ResUnit_L7_UpSamp-r-1-2_Mask_At\n",
      " ttnS3-1 (Activation)                                            tnS3-1[0][0]']                   \n",
      "                                                                                                  \n",
      " ResUnit_L1_Trunk-t-2-2_AttnS3-  (None, 8, 8, 512)   2048        ['ResUnit_L11_Trunk-t-2-1_AttnS3-\n",
      " 1 (BatchNormalization)                                          1[0][0]']                        \n",
      "                                                                                                  \n",
      " ResUnit_L9_UpSamp-r-1-2_Mask_A  (None, 8, 8, 512)   65536       ['ResUnit_L8_UpSamp-r-1-2_Mask_At\n",
      " ttnS3-1 (Conv2D)                                                tnS3-1[0][0]']                   \n",
      "                                                                                                  \n",
      " ResUnit_L10_UpSamp-r-1-2_Mask_  (None, 8, 8, 512)   262144      ['ResUnit_L2_UpSamp-r-1-2_Mask_At\n",
      " AttnS3-1 (Conv2D)                                               tnS3-1[0][0]']                   \n",
      "                                                                                                  \n",
      " ResUnit_L2_Trunk-t-2-2_AttnS3-  (None, 8, 8, 512)   0           ['ResUnit_L1_Trunk-t-2-2_AttnS3-1\n",
      " 1 (Activation)                                                  [0][0]']                         \n",
      "                                                                                                  \n",
      " ResUnit_L11_UpSamp-r-1-2_Mask_  (None, 8, 8, 512)   0           ['ResUnit_L9_UpSamp-r-1-2_Mask_At\n",
      " AttnS3-1 (Add)                                                  tnS3-1[0][0]',                   \n",
      "                                                                  'ResUnit_L10_UpSamp-r-1-2_Mask_A\n",
      "                                                                 ttnS3-1[0][0]']                  \n",
      "                                                                                                  \n",
      " ResUnit_L3_Trunk-t-2-2_AttnS3-  (None, 8, 8, 128)   65536       ['ResUnit_L2_Trunk-t-2-2_AttnS3-1\n",
      " 1 (Conv2D)                                                      [0][0]']                         \n",
      "                                                                                                  \n",
      " SpcConv_Mask_L1_Attn_S3-1 (Bat  (None, 8, 8, 512)   2048        ['ResUnit_L11_UpSamp-r-1-2_Mask_A\n",
      " chNormalization)                                                ttnS3-1[0][0]']                  \n",
      "                                                                                                  \n",
      " ResUnit_L4_Trunk-t-2-2_AttnS3-  (None, 8, 8, 128)   512         ['ResUnit_L3_Trunk-t-2-2_AttnS3-1\n",
      " 1 (BatchNormalization)                                          [0][0]']                         \n",
      "                                                                                                  \n",
      " SpcConv_Mask_L2_Attn_S3-1 (Act  (None, 8, 8, 512)   0           ['SpcConv_Mask_L1_Attn_S3-1[0][0]\n",
      " ivation)                                                        ']                               \n",
      "                                                                                                  \n",
      " ResUnit_L5_Trunk-t-2-2_AttnS3-  (None, 8, 8, 128)   0           ['ResUnit_L4_Trunk-t-2-2_AttnS3-1\n",
      " 1 (Activation)                                                  [0][0]']                         \n",
      "                                                                                                  \n",
      " SpcConv_Mask_L3_Attn_S3-1 (Con  (None, 8, 8, 512)   262144      ['SpcConv_Mask_L2_Attn_S3-1[0][0]\n",
      " v2D)                                                            ']                               \n",
      "                                                                                                  \n",
      " ResUnit_L6_Trunk-t-2-2_AttnS3-  (None, 8, 8, 128)   147456      ['ResUnit_L5_Trunk-t-2-2_AttnS3-1\n",
      " 1 (Conv2D)                                                      [0][0]']                         \n",
      "                                                                                                  \n",
      " SpcConv_Mask_L4_Attn_S3-1 (Bat  (None, 8, 8, 512)   2048        ['SpcConv_Mask_L3_Attn_S3-1[0][0]\n",
      " chNormalization)                                                ']                               \n",
      "                                                                                                  \n",
      " ResUnit_L7_Trunk-t-2-2_AttnS3-  (None, 8, 8, 128)   512         ['ResUnit_L6_Trunk-t-2-2_AttnS3-1\n",
      " 1 (BatchNormalization)                                          [0][0]']                         \n",
      "                                                                                                  \n",
      " SpcConv_Mask_L5_Attn_S3-1 (Act  (None, 8, 8, 512)   0           ['SpcConv_Mask_L4_Attn_S3-1[0][0]\n",
      " ivation)                                                        ',                               \n",
      "                                                                  'SpcConv_Mask_L5_Attn_S3-1[0][0]\n",
      "                                                                 ']                               \n",
      "                                                                                                  \n",
      " ResUnit_L8_Trunk-t-2-2_AttnS3-  (None, 8, 8, 128)   0           ['ResUnit_L7_Trunk-t-2-2_AttnS3-1\n",
      " 1 (Activation)                                                  [0][0]']                         \n",
      "                                                                                                  \n",
      " ResUnit_L9_Trunk-t-2-2_AttnS3-  (None, 8, 8, 512)   65536       ['ResUnit_L8_Trunk-t-2-2_AttnS3-1\n",
      " 1 (Conv2D)                                                      [0][0]']                         \n",
      "                                                                                                  \n",
      " ResUnit_L10_Trunk-t-2-2_AttnS3  (None, 8, 8, 512)   262144      ['ResUnit_L2_Trunk-t-2-2_AttnS3-1\n",
      " -1 (Conv2D)                                                     [0][0]']                         \n",
      "                                                                                                  \n",
      " SpcConv_Mask_L7_Attn_S3-1 (Act  (None, 8, 8, 512)   0           ['SpcConv_Mask_L5_Attn_S3-1[1][0]\n",
      " ivation)                                                        ']                               \n",
      "                                                                                                  \n",
      " ResUnit_L11_Trunk-t-2-2_AttnS3  (None, 8, 8, 512)   0           ['ResUnit_L9_Trunk-t-2-2_AttnS3-1\n",
      " -1 (Add)                                                        [0][0]',                         \n",
      "                                                                  'ResUnit_L10_Trunk-t-2-2_AttnS3-\n",
      "                                                                 1[0][0]']                        \n",
      "                                                                                                  \n",
      " Mult_L1_AttnS3-1 (Multiply)    (None, 8, 8, 512)    0           ['SpcConv_Mask_L7_Attn_S3-1[0][0]\n",
      "                                                                 ',                               \n",
      "                                                                  'ResUnit_L11_Trunk-t-2-2_AttnS3-\n",
      "                                                                 1[0][0]']                        \n",
      "                                                                                                  \n",
      " Add_L1_AttnS3-1 (Add)          (None, 8, 8, 512)    0           ['Mult_L1_AttnS3-1[0][0]',       \n",
      "                                                                  'ResUnit_L11_Trunk-t-2-2_AttnS3-\n",
      "                                                                 1[0][0]']                        \n",
      "                                                                                                  \n",
      " ResUnit_L1_Output-p-1-1_AttnS3  (None, 8, 8, 512)   2048        ['Add_L1_AttnS3-1[0][0]']        \n",
      " -1 (BatchNormalization)                                                                          \n",
      "                                                                                                  \n",
      " ResUnit_L2_Output-p-1-1_AttnS3  (None, 8, 8, 512)   0           ['ResUnit_L1_Output-p-1-1_AttnS3-\n",
      " -1 (Activation)                                                 1[0][0]']                        \n",
      "                                                                                                  \n",
      " ResUnit_L3_Output-p-1-1_AttnS3  (None, 8, 8, 128)   65536       ['ResUnit_L2_Output-p-1-1_AttnS3-\n",
      " -1 (Conv2D)                                                     1[0][0]']                        \n",
      "                                                                                                  \n",
      " ResUnit_L4_Output-p-1-1_AttnS3  (None, 8, 8, 128)   512         ['ResUnit_L3_Output-p-1-1_AttnS3-\n",
      " -1 (BatchNormalization)                                         1[0][0]']                        \n",
      "                                                                                                  \n",
      " ResUnit_L5_Output-p-1-1_AttnS3  (None, 8, 8, 128)   0           ['ResUnit_L4_Output-p-1-1_AttnS3-\n",
      " -1 (Activation)                                                 1[0][0]']                        \n",
      "                                                                                                  \n",
      " ResUnit_L6_Output-p-1-1_AttnS3  (None, 8, 8, 128)   147456      ['ResUnit_L5_Output-p-1-1_AttnS3-\n",
      " -1 (Conv2D)                                                     1[0][0]']                        \n",
      "                                                                                                  \n",
      " ResUnit_L7_Output-p-1-1_AttnS3  (None, 8, 8, 128)   512         ['ResUnit_L6_Output-p-1-1_AttnS3-\n",
      " -1 (BatchNormalization)                                         1[0][0]']                        \n",
      "                                                                                                  \n",
      " ResUnit_L8_Output-p-1-1_AttnS3  (None, 8, 8, 128)   0           ['ResUnit_L7_Output-p-1-1_AttnS3-\n",
      " -1 (Activation)                                                 1[0][0]']                        \n",
      "                                                                                                  \n",
      " ResUnit_L9_Output-p-1-1_AttnS3  (None, 8, 8, 512)   65536       ['ResUnit_L8_Output-p-1-1_AttnS3-\n",
      " -1 (Conv2D)                                                     1[0][0]']                        \n",
      "                                                                                                  \n",
      " ResUnit_L10_Output-p-1-1_AttnS  (None, 8, 8, 512)   262144      ['ResUnit_L2_Output-p-1-1_AttnS3-\n",
      " 3-1 (Conv2D)                                                    1[0][0]']                        \n",
      "                                                                                                  \n",
      " ResUnit_L11_Output-p-1-1_AttnS  (None, 8, 8, 512)   0           ['ResUnit_L9_Output-p-1-1_AttnS3-\n",
      " 3-1 (Add)                                                       1[0][0]',                        \n",
      "                                                                  'ResUnit_L10_Output-p-1-1_AttnS3\n",
      "                                                                 -1[0][0]']                       \n",
      "                                                                                                  \n",
      " ResUnit_L1_Input-p-1-1_AttnS3-  (None, 8, 8, 512)   2048        ['ResUnit_L11_Output-p-1-1_AttnS3\n",
      " 2 (BatchNormalization)                                          -1[0][0]']                       \n",
      "                                                                                                  \n",
      " ResUnit_L2_Input-p-1-1_AttnS3-  (None, 8, 8, 512)   0           ['ResUnit_L1_Input-p-1-1_AttnS3-2\n",
      " 2 (Activation)                                                  [0][0]']                         \n",
      "                                                                                                  \n",
      " ResUnit_L3_Input-p-1-1_AttnS3-  (None, 8, 8, 128)   65536       ['ResUnit_L2_Input-p-1-1_AttnS3-2\n",
      " 2 (Conv2D)                                                      [0][0]']                         \n",
      "                                                                                                  \n",
      " ResUnit_L4_Input-p-1-1_AttnS3-  (None, 8, 8, 128)   512         ['ResUnit_L3_Input-p-1-1_AttnS3-2\n",
      " 2 (BatchNormalization)                                          [0][0]']                         \n",
      "                                                                                                  \n",
      " ResUnit_L5_Input-p-1-1_AttnS3-  (None, 8, 8, 128)   0           ['ResUnit_L4_Input-p-1-1_AttnS3-2\n",
      " 2 (Activation)                                                  [0][0]']                         \n",
      "                                                                                                  \n",
      " ResUnit_L6_Input-p-1-1_AttnS3-  (None, 8, 8, 128)   147456      ['ResUnit_L5_Input-p-1-1_AttnS3-2\n",
      " 2 (Conv2D)                                                      [0][0]']                         \n",
      "                                                                                                  \n",
      " ResUnit_L7_Input-p-1-1_AttnS3-  (None, 8, 8, 128)   512         ['ResUnit_L6_Input-p-1-1_AttnS3-2\n",
      " 2 (BatchNormalization)                                          [0][0]']                         \n",
      "                                                                                                  \n",
      " ResUnit_L8_Input-p-1-1_AttnS3-  (None, 8, 8, 128)   0           ['ResUnit_L7_Input-p-1-1_AttnS3-2\n",
      " 2 (Activation)                                                  [0][0]']                         \n",
      "                                                                                                  \n",
      " ResUnit_L9_Input-p-1-1_AttnS3-  (None, 8, 8, 512)   65536       ['ResUnit_L8_Input-p-1-1_AttnS3-2\n",
      " 2 (Conv2D)                                                      [0][0]']                         \n",
      "                                                                                                  \n",
      " ResUnit_L10_Input-p-1-1_AttnS3  (None, 8, 8, 512)   262144      ['ResUnit_L2_Input-p-1-1_AttnS3-2\n",
      " -2 (Conv2D)                                                     [0][0]']                         \n",
      "                                                                                                  \n",
      " ResUnit_L11_Input-p-1-1_AttnS3  (None, 8, 8, 512)   0           ['ResUnit_L9_Input-p-1-1_AttnS3-2\n",
      " -2 (Add)                                                        [0][0]',                         \n",
      "                                                                  'ResUnit_L10_Input-p-1-1_AttnS3-\n",
      "                                                                 2[0][0]']                        \n",
      "                                                                                                  \n",
      " ResUnit_L1_UpSamp-r-1-1_Mask_A  (None, 8, 8, 512)   2048        ['ResUnit_L11_Input-p-1-1_AttnS3-\n",
      " ttnS3-2 (BatchNormalization)                                    2[0][0]']                        \n",
      "                                                                                                  \n",
      " ResUnit_L2_UpSamp-r-1-1_Mask_A  (None, 8, 8, 512)   0           ['ResUnit_L1_UpSamp-r-1-1_Mask_At\n",
      " ttnS3-2 (Activation)                                            tnS3-2[0][0]']                   \n",
      "                                                                                                  \n",
      " ResUnit_L3_UpSamp-r-1-1_Mask_A  (None, 8, 8, 128)   65536       ['ResUnit_L2_UpSamp-r-1-1_Mask_At\n",
      " ttnS3-2 (Conv2D)                                                tnS3-2[0][0]']                   \n",
      "                                                                                                  \n",
      " ResUnit_L4_UpSamp-r-1-1_Mask_A  (None, 8, 8, 128)   512         ['ResUnit_L3_UpSamp-r-1-1_Mask_At\n",
      " ttnS3-2 (BatchNormalization)                                    tnS3-2[0][0]']                   \n",
      "                                                                                                  \n",
      " ResUnit_L5_UpSamp-r-1-1_Mask_A  (None, 8, 8, 128)   0           ['ResUnit_L4_UpSamp-r-1-1_Mask_At\n",
      " ttnS3-2 (Activation)                                            tnS3-2[0][0]']                   \n",
      "                                                                                                  \n",
      " ResUnit_L6_UpSamp-r-1-1_Mask_A  (None, 8, 8, 128)   147456      ['ResUnit_L5_UpSamp-r-1-1_Mask_At\n",
      " ttnS3-2 (Conv2D)                                                tnS3-2[0][0]']                   \n",
      "                                                                                                  \n",
      " ResUnit_L7_UpSamp-r-1-1_Mask_A  (None, 8, 8, 128)   512         ['ResUnit_L6_UpSamp-r-1-1_Mask_At\n",
      " ttnS3-2 (BatchNormalization)                                    tnS3-2[0][0]']                   \n",
      "                                                                                                  \n",
      " ResUnit_L8_UpSamp-r-1-1_Mask_A  (None, 8, 8, 128)   0           ['ResUnit_L7_UpSamp-r-1-1_Mask_At\n",
      " ttnS3-2 (Activation)                                            tnS3-2[0][0]']                   \n",
      "                                                                                                  \n",
      " ResUnit_L1_Trunk-t-2-1_AttnS3-  (None, 8, 8, 512)   2048        ['ResUnit_L11_Input-p-1-1_AttnS3-\n",
      " 2 (BatchNormalization)                                          2[0][0]']                        \n",
      "                                                                                                  \n",
      " ResUnit_L9_UpSamp-r-1-1_Mask_A  (None, 8, 8, 512)   65536       ['ResUnit_L8_UpSamp-r-1-1_Mask_At\n",
      " ttnS3-2 (Conv2D)                                                tnS3-2[0][0]']                   \n",
      "                                                                                                  \n",
      " ResUnit_L10_UpSamp-r-1-1_Mask_  (None, 8, 8, 512)   262144      ['ResUnit_L2_UpSamp-r-1-1_Mask_At\n",
      " AttnS3-2 (Conv2D)                                               tnS3-2[0][0]']                   \n",
      "                                                                                                  \n",
      " ResUnit_L2_Trunk-t-2-1_AttnS3-  (None, 8, 8, 512)   0           ['ResUnit_L1_Trunk-t-2-1_AttnS3-2\n",
      " 2 (Activation)                                                  [0][0]']                         \n",
      "                                                                                                  \n",
      " ResUnit_L11_UpSamp-r-1-1_Mask_  (None, 8, 8, 512)   0           ['ResUnit_L9_UpSamp-r-1-1_Mask_At\n",
      " AttnS3-2 (Add)                                                  tnS3-2[0][0]',                   \n",
      "                                                                  'ResUnit_L10_UpSamp-r-1-1_Mask_A\n",
      "                                                                 ttnS3-2[0][0]']                  \n",
      "                                                                                                  \n",
      " ResUnit_L3_Trunk-t-2-1_AttnS3-  (None, 8, 8, 128)   65536       ['ResUnit_L2_Trunk-t-2-1_AttnS3-2\n",
      " 2 (Conv2D)                                                      [0][0]']                         \n",
      "                                                                                                  \n",
      " ResUnit_L1_UpSamp-r-1-2_Mask_A  (None, 8, 8, 512)   2048        ['ResUnit_L11_UpSamp-r-1-1_Mask_A\n",
      " ttnS3-2 (BatchNormalization)                                    ttnS3-2[0][0]']                  \n",
      "                                                                                                  \n",
      " ResUnit_L4_Trunk-t-2-1_AttnS3-  (None, 8, 8, 128)   512         ['ResUnit_L3_Trunk-t-2-1_AttnS3-2\n",
      " 2 (BatchNormalization)                                          [0][0]']                         \n",
      "                                                                                                  \n",
      " ResUnit_L2_UpSamp-r-1-2_Mask_A  (None, 8, 8, 512)   0           ['ResUnit_L1_UpSamp-r-1-2_Mask_At\n",
      " ttnS3-2 (Activation)                                            tnS3-2[0][0]']                   \n",
      "                                                                                                  \n",
      " ResUnit_L5_Trunk-t-2-1_AttnS3-  (None, 8, 8, 128)   0           ['ResUnit_L4_Trunk-t-2-1_AttnS3-2\n",
      " 2 (Activation)                                                  [0][0]']                         \n",
      "                                                                                                  \n",
      " ResUnit_L3_UpSamp-r-1-2_Mask_A  (None, 8, 8, 128)   65536       ['ResUnit_L2_UpSamp-r-1-2_Mask_At\n",
      " ttnS3-2 (Conv2D)                                                tnS3-2[0][0]']                   \n",
      "                                                                                                  \n",
      " ResUnit_L6_Trunk-t-2-1_AttnS3-  (None, 8, 8, 128)   147456      ['ResUnit_L5_Trunk-t-2-1_AttnS3-2\n",
      " 2 (Conv2D)                                                      [0][0]']                         \n",
      "                                                                                                  \n",
      " ResUnit_L4_UpSamp-r-1-2_Mask_A  (None, 8, 8, 128)   512         ['ResUnit_L3_UpSamp-r-1-2_Mask_At\n",
      " ttnS3-2 (BatchNormalization)                                    tnS3-2[0][0]']                   \n",
      "                                                                                                  \n",
      " ResUnit_L7_Trunk-t-2-1_AttnS3-  (None, 8, 8, 128)   512         ['ResUnit_L6_Trunk-t-2-1_AttnS3-2\n",
      " 2 (BatchNormalization)                                          [0][0]']                         \n",
      "                                                                                                  \n",
      " ResUnit_L5_UpSamp-r-1-2_Mask_A  (None, 8, 8, 128)   0           ['ResUnit_L4_UpSamp-r-1-2_Mask_At\n",
      " ttnS3-2 (Activation)                                            tnS3-2[0][0]']                   \n",
      "                                                                                                  \n",
      " ResUnit_L8_Trunk-t-2-1_AttnS3-  (None, 8, 8, 128)   0           ['ResUnit_L7_Trunk-t-2-1_AttnS3-2\n",
      " 2 (Activation)                                                  [0][0]']                         \n",
      "                                                                                                  \n",
      " ResUnit_L6_UpSamp-r-1-2_Mask_A  (None, 8, 8, 128)   147456      ['ResUnit_L5_UpSamp-r-1-2_Mask_At\n",
      " ttnS3-2 (Conv2D)                                                tnS3-2[0][0]']                   \n",
      "                                                                                                  \n",
      " ResUnit_L9_Trunk-t-2-1_AttnS3-  (None, 8, 8, 512)   65536       ['ResUnit_L8_Trunk-t-2-1_AttnS3-2\n",
      " 2 (Conv2D)                                                      [0][0]']                         \n",
      "                                                                                                  \n",
      " ResUnit_L10_Trunk-t-2-1_AttnS3  (None, 8, 8, 512)   262144      ['ResUnit_L2_Trunk-t-2-1_AttnS3-2\n",
      " -2 (Conv2D)                                                     [0][0]']                         \n",
      "                                                                                                  \n",
      " ResUnit_L7_UpSamp-r-1-2_Mask_A  (None, 8, 8, 128)   512         ['ResUnit_L6_UpSamp-r-1-2_Mask_At\n",
      " ttnS3-2 (BatchNormalization)                                    tnS3-2[0][0]']                   \n",
      "                                                                                                  \n",
      " ResUnit_L11_Trunk-t-2-1_AttnS3  (None, 8, 8, 512)   0           ['ResUnit_L9_Trunk-t-2-1_AttnS3-2\n",
      " -2 (Add)                                                        [0][0]',                         \n",
      "                                                                  'ResUnit_L10_Trunk-t-2-1_AttnS3-\n",
      "                                                                 2[0][0]']                        \n",
      "                                                                                                  \n",
      " ResUnit_L8_UpSamp-r-1-2_Mask_A  (None, 8, 8, 128)   0           ['ResUnit_L7_UpSamp-r-1-2_Mask_At\n",
      " ttnS3-2 (Activation)                                            tnS3-2[0][0]']                   \n",
      "                                                                                                  \n",
      " ResUnit_L1_Trunk-t-2-2_AttnS3-  (None, 8, 8, 512)   2048        ['ResUnit_L11_Trunk-t-2-1_AttnS3-\n",
      " 2 (BatchNormalization)                                          2[0][0]']                        \n",
      "                                                                                                  \n",
      " ResUnit_L9_UpSamp-r-1-2_Mask_A  (None, 8, 8, 512)   65536       ['ResUnit_L8_UpSamp-r-1-2_Mask_At\n",
      " ttnS3-2 (Conv2D)                                                tnS3-2[0][0]']                   \n",
      "                                                                                                  \n",
      " ResUnit_L10_UpSamp-r-1-2_Mask_  (None, 8, 8, 512)   262144      ['ResUnit_L2_UpSamp-r-1-2_Mask_At\n",
      " AttnS3-2 (Conv2D)                                               tnS3-2[0][0]']                   \n",
      "                                                                                                  \n",
      " ResUnit_L2_Trunk-t-2-2_AttnS3-  (None, 8, 8, 512)   0           ['ResUnit_L1_Trunk-t-2-2_AttnS3-2\n",
      " 2 (Activation)                                                  [0][0]']                         \n",
      "                                                                                                  \n",
      " ResUnit_L11_UpSamp-r-1-2_Mask_  (None, 8, 8, 512)   0           ['ResUnit_L9_UpSamp-r-1-2_Mask_At\n",
      " AttnS3-2 (Add)                                                  tnS3-2[0][0]',                   \n",
      "                                                                  'ResUnit_L10_UpSamp-r-1-2_Mask_A\n",
      "                                                                 ttnS3-2[0][0]']                  \n",
      "                                                                                                  \n",
      " ResUnit_L3_Trunk-t-2-2_AttnS3-  (None, 8, 8, 128)   65536       ['ResUnit_L2_Trunk-t-2-2_AttnS3-2\n",
      " 2 (Conv2D)                                                      [0][0]']                         \n",
      "                                                                                                  \n",
      " SpcConv_Mask_L1_Attn_S3-2 (Bat  (None, 8, 8, 512)   2048        ['ResUnit_L11_UpSamp-r-1-2_Mask_A\n",
      " chNormalization)                                                ttnS3-2[0][0]']                  \n",
      "                                                                                                  \n",
      " ResUnit_L4_Trunk-t-2-2_AttnS3-  (None, 8, 8, 128)   512         ['ResUnit_L3_Trunk-t-2-2_AttnS3-2\n",
      " 2 (BatchNormalization)                                          [0][0]']                         \n",
      "                                                                                                  \n",
      " SpcConv_Mask_L2_Attn_S3-2 (Act  (None, 8, 8, 512)   0           ['SpcConv_Mask_L1_Attn_S3-2[0][0]\n",
      " ivation)                                                        ']                               \n",
      "                                                                                                  \n",
      " ResUnit_L5_Trunk-t-2-2_AttnS3-  (None, 8, 8, 128)   0           ['ResUnit_L4_Trunk-t-2-2_AttnS3-2\n",
      " 2 (Activation)                                                  [0][0]']                         \n",
      "                                                                                                  \n",
      " SpcConv_Mask_L3_Attn_S3-2 (Con  (None, 8, 8, 512)   262144      ['SpcConv_Mask_L2_Attn_S3-2[0][0]\n",
      " v2D)                                                            ']                               \n",
      "                                                                                                  \n",
      " ResUnit_L6_Trunk-t-2-2_AttnS3-  (None, 8, 8, 128)   147456      ['ResUnit_L5_Trunk-t-2-2_AttnS3-2\n",
      " 2 (Conv2D)                                                      [0][0]']                         \n",
      "                                                                                                  \n",
      " SpcConv_Mask_L4_Attn_S3-2 (Bat  (None, 8, 8, 512)   2048        ['SpcConv_Mask_L3_Attn_S3-2[0][0]\n",
      " chNormalization)                                                ']                               \n",
      "                                                                                                  \n",
      " ResUnit_L7_Trunk-t-2-2_AttnS3-  (None, 8, 8, 128)   512         ['ResUnit_L6_Trunk-t-2-2_AttnS3-2\n",
      " 2 (BatchNormalization)                                          [0][0]']                         \n",
      "                                                                                                  \n",
      " SpcConv_Mask_L5_Attn_S3-2 (Act  (None, 8, 8, 512)   0           ['SpcConv_Mask_L4_Attn_S3-2[0][0]\n",
      " ivation)                                                        ',                               \n",
      "                                                                  'SpcConv_Mask_L5_Attn_S3-2[0][0]\n",
      "                                                                 ']                               \n",
      "                                                                                                  \n",
      " ResUnit_L8_Trunk-t-2-2_AttnS3-  (None, 8, 8, 128)   0           ['ResUnit_L7_Trunk-t-2-2_AttnS3-2\n",
      " 2 (Activation)                                                  [0][0]']                         \n",
      "                                                                                                  \n",
      " ResUnit_L9_Trunk-t-2-2_AttnS3-  (None, 8, 8, 512)   65536       ['ResUnit_L8_Trunk-t-2-2_AttnS3-2\n",
      " 2 (Conv2D)                                                      [0][0]']                         \n",
      "                                                                                                  \n",
      " ResUnit_L10_Trunk-t-2-2_AttnS3  (None, 8, 8, 512)   262144      ['ResUnit_L2_Trunk-t-2-2_AttnS3-2\n",
      " -2 (Conv2D)                                                     [0][0]']                         \n",
      "                                                                                                  \n",
      " SpcConv_Mask_L7_Attn_S3-2 (Act  (None, 8, 8, 512)   0           ['SpcConv_Mask_L5_Attn_S3-2[1][0]\n",
      " ivation)                                                        ']                               \n",
      "                                                                                                  \n",
      " ResUnit_L11_Trunk-t-2-2_AttnS3  (None, 8, 8, 512)   0           ['ResUnit_L9_Trunk-t-2-2_AttnS3-2\n",
      " -2 (Add)                                                        [0][0]',                         \n",
      "                                                                  'ResUnit_L10_Trunk-t-2-2_AttnS3-\n",
      "                                                                 2[0][0]']                        \n",
      "                                                                                                  \n",
      " Mult_L1_AttnS3-2 (Multiply)    (None, 8, 8, 512)    0           ['SpcConv_Mask_L7_Attn_S3-2[0][0]\n",
      "                                                                 ',                               \n",
      "                                                                  'ResUnit_L11_Trunk-t-2-2_AttnS3-\n",
      "                                                                 2[0][0]']                        \n",
      "                                                                                                  \n",
      " Add_L1_AttnS3-2 (Add)          (None, 8, 8, 512)    0           ['Mult_L1_AttnS3-2[0][0]',       \n",
      "                                                                  'ResUnit_L11_Trunk-t-2-2_AttnS3-\n",
      "                                                                 2[0][0]']                        \n",
      "                                                                                                  \n",
      " ResUnit_L1_Output-p-1-1_AttnS3  (None, 8, 8, 512)   2048        ['Add_L1_AttnS3-2[0][0]']        \n",
      " -2 (BatchNormalization)                                                                          \n",
      "                                                                                                  \n",
      " ResUnit_L2_Output-p-1-1_AttnS3  (None, 8, 8, 512)   0           ['ResUnit_L1_Output-p-1-1_AttnS3-\n",
      " -2 (Activation)                                                 2[0][0]']                        \n",
      "                                                                                                  \n",
      " ResUnit_L3_Output-p-1-1_AttnS3  (None, 8, 8, 128)   65536       ['ResUnit_L2_Output-p-1-1_AttnS3-\n",
      " -2 (Conv2D)                                                     2[0][0]']                        \n",
      "                                                                                                  \n",
      " ResUnit_L4_Output-p-1-1_AttnS3  (None, 8, 8, 128)   512         ['ResUnit_L3_Output-p-1-1_AttnS3-\n",
      " -2 (BatchNormalization)                                         2[0][0]']                        \n",
      "                                                                                                  \n",
      " ResUnit_L5_Output-p-1-1_AttnS3  (None, 8, 8, 128)   0           ['ResUnit_L4_Output-p-1-1_AttnS3-\n",
      " -2 (Activation)                                                 2[0][0]']                        \n",
      "                                                                                                  \n",
      " ResUnit_L6_Output-p-1-1_AttnS3  (None, 8, 8, 128)   147456      ['ResUnit_L5_Output-p-1-1_AttnS3-\n",
      " -2 (Conv2D)                                                     2[0][0]']                        \n",
      "                                                                                                  \n",
      " ResUnit_L7_Output-p-1-1_AttnS3  (None, 8, 8, 128)   512         ['ResUnit_L6_Output-p-1-1_AttnS3-\n",
      " -2 (BatchNormalization)                                         2[0][0]']                        \n",
      "                                                                                                  \n",
      " ResUnit_L8_Output-p-1-1_AttnS3  (None, 8, 8, 128)   0           ['ResUnit_L7_Output-p-1-1_AttnS3-\n",
      " -2 (Activation)                                                 2[0][0]']                        \n",
      "                                                                                                  \n",
      " ResUnit_L9_Output-p-1-1_AttnS3  (None, 8, 8, 512)   65536       ['ResUnit_L8_Output-p-1-1_AttnS3-\n",
      " -2 (Conv2D)                                                     2[0][0]']                        \n",
      "                                                                                                  \n",
      " ResUnit_L10_Output-p-1-1_AttnS  (None, 8, 8, 512)   262144      ['ResUnit_L2_Output-p-1-1_AttnS3-\n",
      " 3-2 (Conv2D)                                                    2[0][0]']                        \n",
      "                                                                                                  \n",
      " ResUnit_L11_Output-p-1-1_AttnS  (None, 8, 8, 512)   0           ['ResUnit_L9_Output-p-1-1_AttnS3-\n",
      " 3-2 (Add)                                                       2[0][0]',                        \n",
      "                                                                  'ResUnit_L10_Output-p-1-1_AttnS3\n",
      "                                                                 -2[0][0]']                       \n",
      "                                                                                                  \n",
      " ResUnit_L1_Input-p-1-1_AttnS3-  (None, 8, 8, 512)   2048        ['ResUnit_L11_Output-p-1-1_AttnS3\n",
      " 3 (BatchNormalization)                                          -2[0][0]']                       \n",
      "                                                                                                  \n",
      " ResUnit_L2_Input-p-1-1_AttnS3-  (None, 8, 8, 512)   0           ['ResUnit_L1_Input-p-1-1_AttnS3-3\n",
      " 3 (Activation)                                                  [0][0]']                         \n",
      "                                                                                                  \n",
      " ResUnit_L3_Input-p-1-1_AttnS3-  (None, 8, 8, 128)   65536       ['ResUnit_L2_Input-p-1-1_AttnS3-3\n",
      " 3 (Conv2D)                                                      [0][0]']                         \n",
      "                                                                                                  \n",
      " ResUnit_L4_Input-p-1-1_AttnS3-  (None, 8, 8, 128)   512         ['ResUnit_L3_Input-p-1-1_AttnS3-3\n",
      " 3 (BatchNormalization)                                          [0][0]']                         \n",
      "                                                                                                  \n",
      " ResUnit_L5_Input-p-1-1_AttnS3-  (None, 8, 8, 128)   0           ['ResUnit_L4_Input-p-1-1_AttnS3-3\n",
      " 3 (Activation)                                                  [0][0]']                         \n",
      "                                                                                                  \n",
      " ResUnit_L6_Input-p-1-1_AttnS3-  (None, 8, 8, 128)   147456      ['ResUnit_L5_Input-p-1-1_AttnS3-3\n",
      " 3 (Conv2D)                                                      [0][0]']                         \n",
      "                                                                                                  \n",
      " ResUnit_L7_Input-p-1-1_AttnS3-  (None, 8, 8, 128)   512         ['ResUnit_L6_Input-p-1-1_AttnS3-3\n",
      " 3 (BatchNormalization)                                          [0][0]']                         \n",
      "                                                                                                  \n",
      " ResUnit_L8_Input-p-1-1_AttnS3-  (None, 8, 8, 128)   0           ['ResUnit_L7_Input-p-1-1_AttnS3-3\n",
      " 3 (Activation)                                                  [0][0]']                         \n",
      "                                                                                                  \n",
      " ResUnit_L9_Input-p-1-1_AttnS3-  (None, 8, 8, 512)   65536       ['ResUnit_L8_Input-p-1-1_AttnS3-3\n",
      " 3 (Conv2D)                                                      [0][0]']                         \n",
      "                                                                                                  \n",
      " ResUnit_L10_Input-p-1-1_AttnS3  (None, 8, 8, 512)   262144      ['ResUnit_L2_Input-p-1-1_AttnS3-3\n",
      " -3 (Conv2D)                                                     [0][0]']                         \n",
      "                                                                                                  \n",
      " ResUnit_L11_Input-p-1-1_AttnS3  (None, 8, 8, 512)   0           ['ResUnit_L9_Input-p-1-1_AttnS3-3\n",
      " -3 (Add)                                                        [0][0]',                         \n",
      "                                                                  'ResUnit_L10_Input-p-1-1_AttnS3-\n",
      "                                                                 3[0][0]']                        \n",
      "                                                                                                  \n",
      " ResUnit_L1_UpSamp-r-1-1_Mask_A  (None, 8, 8, 512)   2048        ['ResUnit_L11_Input-p-1-1_AttnS3-\n",
      " ttnS3-3 (BatchNormalization)                                    3[0][0]']                        \n",
      "                                                                                                  \n",
      " ResUnit_L2_UpSamp-r-1-1_Mask_A  (None, 8, 8, 512)   0           ['ResUnit_L1_UpSamp-r-1-1_Mask_At\n",
      " ttnS3-3 (Activation)                                            tnS3-3[0][0]']                   \n",
      "                                                                                                  \n",
      " ResUnit_L3_UpSamp-r-1-1_Mask_A  (None, 8, 8, 128)   65536       ['ResUnit_L2_UpSamp-r-1-1_Mask_At\n",
      " ttnS3-3 (Conv2D)                                                tnS3-3[0][0]']                   \n",
      "                                                                                                  \n",
      " ResUnit_L4_UpSamp-r-1-1_Mask_A  (None, 8, 8, 128)   512         ['ResUnit_L3_UpSamp-r-1-1_Mask_At\n",
      " ttnS3-3 (BatchNormalization)                                    tnS3-3[0][0]']                   \n",
      "                                                                                                  \n",
      " ResUnit_L5_UpSamp-r-1-1_Mask_A  (None, 8, 8, 128)   0           ['ResUnit_L4_UpSamp-r-1-1_Mask_At\n",
      " ttnS3-3 (Activation)                                            tnS3-3[0][0]']                   \n",
      "                                                                                                  \n",
      " ResUnit_L6_UpSamp-r-1-1_Mask_A  (None, 8, 8, 128)   147456      ['ResUnit_L5_UpSamp-r-1-1_Mask_At\n",
      " ttnS3-3 (Conv2D)                                                tnS3-3[0][0]']                   \n",
      "                                                                                                  \n",
      " ResUnit_L7_UpSamp-r-1-1_Mask_A  (None, 8, 8, 128)   512         ['ResUnit_L6_UpSamp-r-1-1_Mask_At\n",
      " ttnS3-3 (BatchNormalization)                                    tnS3-3[0][0]']                   \n",
      "                                                                                                  \n",
      " ResUnit_L8_UpSamp-r-1-1_Mask_A  (None, 8, 8, 128)   0           ['ResUnit_L7_UpSamp-r-1-1_Mask_At\n",
      " ttnS3-3 (Activation)                                            tnS3-3[0][0]']                   \n",
      "                                                                                                  \n",
      " ResUnit_L1_Trunk-t-2-1_AttnS3-  (None, 8, 8, 512)   2048        ['ResUnit_L11_Input-p-1-1_AttnS3-\n",
      " 3 (BatchNormalization)                                          3[0][0]']                        \n",
      "                                                                                                  \n",
      " ResUnit_L9_UpSamp-r-1-1_Mask_A  (None, 8, 8, 512)   65536       ['ResUnit_L8_UpSamp-r-1-1_Mask_At\n",
      " ttnS3-3 (Conv2D)                                                tnS3-3[0][0]']                   \n",
      "                                                                                                  \n",
      " ResUnit_L10_UpSamp-r-1-1_Mask_  (None, 8, 8, 512)   262144      ['ResUnit_L2_UpSamp-r-1-1_Mask_At\n",
      " AttnS3-3 (Conv2D)                                               tnS3-3[0][0]']                   \n",
      "                                                                                                  \n",
      " ResUnit_L2_Trunk-t-2-1_AttnS3-  (None, 8, 8, 512)   0           ['ResUnit_L1_Trunk-t-2-1_AttnS3-3\n",
      " 3 (Activation)                                                  [0][0]']                         \n",
      "                                                                                                  \n",
      " ResUnit_L11_UpSamp-r-1-1_Mask_  (None, 8, 8, 512)   0           ['ResUnit_L9_UpSamp-r-1-1_Mask_At\n",
      " AttnS3-3 (Add)                                                  tnS3-3[0][0]',                   \n",
      "                                                                  'ResUnit_L10_UpSamp-r-1-1_Mask_A\n",
      "                                                                 ttnS3-3[0][0]']                  \n",
      "                                                                                                  \n",
      " ResUnit_L3_Trunk-t-2-1_AttnS3-  (None, 8, 8, 128)   65536       ['ResUnit_L2_Trunk-t-2-1_AttnS3-3\n",
      " 3 (Conv2D)                                                      [0][0]']                         \n",
      "                                                                                                  \n",
      " ResUnit_L1_UpSamp-r-1-2_Mask_A  (None, 8, 8, 512)   2048        ['ResUnit_L11_UpSamp-r-1-1_Mask_A\n",
      " ttnS3-3 (BatchNormalization)                                    ttnS3-3[0][0]']                  \n",
      "                                                                                                  \n",
      " ResUnit_L4_Trunk-t-2-1_AttnS3-  (None, 8, 8, 128)   512         ['ResUnit_L3_Trunk-t-2-1_AttnS3-3\n",
      " 3 (BatchNormalization)                                          [0][0]']                         \n",
      "                                                                                                  \n",
      " ResUnit_L2_UpSamp-r-1-2_Mask_A  (None, 8, 8, 512)   0           ['ResUnit_L1_UpSamp-r-1-2_Mask_At\n",
      " ttnS3-3 (Activation)                                            tnS3-3[0][0]']                   \n",
      "                                                                                                  \n",
      " ResUnit_L5_Trunk-t-2-1_AttnS3-  (None, 8, 8, 128)   0           ['ResUnit_L4_Trunk-t-2-1_AttnS3-3\n",
      " 3 (Activation)                                                  [0][0]']                         \n",
      "                                                                                                  \n",
      " ResUnit_L3_UpSamp-r-1-2_Mask_A  (None, 8, 8, 128)   65536       ['ResUnit_L2_UpSamp-r-1-2_Mask_At\n",
      " ttnS3-3 (Conv2D)                                                tnS3-3[0][0]']                   \n",
      "                                                                                                  \n",
      " ResUnit_L6_Trunk-t-2-1_AttnS3-  (None, 8, 8, 128)   147456      ['ResUnit_L5_Trunk-t-2-1_AttnS3-3\n",
      " 3 (Conv2D)                                                      [0][0]']                         \n",
      "                                                                                                  \n",
      " ResUnit_L4_UpSamp-r-1-2_Mask_A  (None, 8, 8, 128)   512         ['ResUnit_L3_UpSamp-r-1-2_Mask_At\n",
      " ttnS3-3 (BatchNormalization)                                    tnS3-3[0][0]']                   \n",
      "                                                                                                  \n",
      " ResUnit_L7_Trunk-t-2-1_AttnS3-  (None, 8, 8, 128)   512         ['ResUnit_L6_Trunk-t-2-1_AttnS3-3\n",
      " 3 (BatchNormalization)                                          [0][0]']                         \n",
      "                                                                                                  \n",
      " ResUnit_L5_UpSamp-r-1-2_Mask_A  (None, 8, 8, 128)   0           ['ResUnit_L4_UpSamp-r-1-2_Mask_At\n",
      " ttnS3-3 (Activation)                                            tnS3-3[0][0]']                   \n",
      "                                                                                                  \n",
      " ResUnit_L8_Trunk-t-2-1_AttnS3-  (None, 8, 8, 128)   0           ['ResUnit_L7_Trunk-t-2-1_AttnS3-3\n",
      " 3 (Activation)                                                  [0][0]']                         \n",
      "                                                                                                  \n",
      " ResUnit_L6_UpSamp-r-1-2_Mask_A  (None, 8, 8, 128)   147456      ['ResUnit_L5_UpSamp-r-1-2_Mask_At\n",
      " ttnS3-3 (Conv2D)                                                tnS3-3[0][0]']                   \n",
      "                                                                                                  \n",
      " ResUnit_L9_Trunk-t-2-1_AttnS3-  (None, 8, 8, 512)   65536       ['ResUnit_L8_Trunk-t-2-1_AttnS3-3\n",
      " 3 (Conv2D)                                                      [0][0]']                         \n",
      "                                                                                                  \n",
      " ResUnit_L10_Trunk-t-2-1_AttnS3  (None, 8, 8, 512)   262144      ['ResUnit_L2_Trunk-t-2-1_AttnS3-3\n",
      " -3 (Conv2D)                                                     [0][0]']                         \n",
      "                                                                                                  \n",
      " ResUnit_L7_UpSamp-r-1-2_Mask_A  (None, 8, 8, 128)   512         ['ResUnit_L6_UpSamp-r-1-2_Mask_At\n",
      " ttnS3-3 (BatchNormalization)                                    tnS3-3[0][0]']                   \n",
      "                                                                                                  \n",
      " ResUnit_L11_Trunk-t-2-1_AttnS3  (None, 8, 8, 512)   0           ['ResUnit_L9_Trunk-t-2-1_AttnS3-3\n",
      " -3 (Add)                                                        [0][0]',                         \n",
      "                                                                  'ResUnit_L10_Trunk-t-2-1_AttnS3-\n",
      "                                                                 3[0][0]']                        \n",
      "                                                                                                  \n",
      " ResUnit_L8_UpSamp-r-1-2_Mask_A  (None, 8, 8, 128)   0           ['ResUnit_L7_UpSamp-r-1-2_Mask_At\n",
      " ttnS3-3 (Activation)                                            tnS3-3[0][0]']                   \n",
      "                                                                                                  \n",
      " ResUnit_L1_Trunk-t-2-2_AttnS3-  (None, 8, 8, 512)   2048        ['ResUnit_L11_Trunk-t-2-1_AttnS3-\n",
      " 3 (BatchNormalization)                                          3[0][0]']                        \n",
      "                                                                                                  \n",
      " ResUnit_L9_UpSamp-r-1-2_Mask_A  (None, 8, 8, 512)   65536       ['ResUnit_L8_UpSamp-r-1-2_Mask_At\n",
      " ttnS3-3 (Conv2D)                                                tnS3-3[0][0]']                   \n",
      "                                                                                                  \n",
      " ResUnit_L10_UpSamp-r-1-2_Mask_  (None, 8, 8, 512)   262144      ['ResUnit_L2_UpSamp-r-1-2_Mask_At\n",
      " AttnS3-3 (Conv2D)                                               tnS3-3[0][0]']                   \n",
      "                                                                                                  \n",
      " ResUnit_L2_Trunk-t-2-2_AttnS3-  (None, 8, 8, 512)   0           ['ResUnit_L1_Trunk-t-2-2_AttnS3-3\n",
      " 3 (Activation)                                                  [0][0]']                         \n",
      "                                                                                                  \n",
      " ResUnit_L11_UpSamp-r-1-2_Mask_  (None, 8, 8, 512)   0           ['ResUnit_L9_UpSamp-r-1-2_Mask_At\n",
      " AttnS3-3 (Add)                                                  tnS3-3[0][0]',                   \n",
      "                                                                  'ResUnit_L10_UpSamp-r-1-2_Mask_A\n",
      "                                                                 ttnS3-3[0][0]']                  \n",
      "                                                                                                  \n",
      " ResUnit_L3_Trunk-t-2-2_AttnS3-  (None, 8, 8, 128)   65536       ['ResUnit_L2_Trunk-t-2-2_AttnS3-3\n",
      " 3 (Conv2D)                                                      [0][0]']                         \n",
      "                                                                                                  \n",
      " SpcConv_Mask_L1_Attn_S3-3 (Bat  (None, 8, 8, 512)   2048        ['ResUnit_L11_UpSamp-r-1-2_Mask_A\n",
      " chNormalization)                                                ttnS3-3[0][0]']                  \n",
      "                                                                                                  \n",
      " ResUnit_L4_Trunk-t-2-2_AttnS3-  (None, 8, 8, 128)   512         ['ResUnit_L3_Trunk-t-2-2_AttnS3-3\n",
      " 3 (BatchNormalization)                                          [0][0]']                         \n",
      "                                                                                                  \n",
      " SpcConv_Mask_L2_Attn_S3-3 (Act  (None, 8, 8, 512)   0           ['SpcConv_Mask_L1_Attn_S3-3[0][0]\n",
      " ivation)                                                        ']                               \n",
      "                                                                                                  \n",
      " ResUnit_L5_Trunk-t-2-2_AttnS3-  (None, 8, 8, 128)   0           ['ResUnit_L4_Trunk-t-2-2_AttnS3-3\n",
      " 3 (Activation)                                                  [0][0]']                         \n",
      "                                                                                                  \n",
      " SpcConv_Mask_L3_Attn_S3-3 (Con  (None, 8, 8, 512)   262144      ['SpcConv_Mask_L2_Attn_S3-3[0][0]\n",
      " v2D)                                                            ']                               \n",
      "                                                                                                  \n",
      " ResUnit_L6_Trunk-t-2-2_AttnS3-  (None, 8, 8, 128)   147456      ['ResUnit_L5_Trunk-t-2-2_AttnS3-3\n",
      " 3 (Conv2D)                                                      [0][0]']                         \n",
      "                                                                                                  \n",
      " SpcConv_Mask_L4_Attn_S3-3 (Bat  (None, 8, 8, 512)   2048        ['SpcConv_Mask_L3_Attn_S3-3[0][0]\n",
      " chNormalization)                                                ']                               \n",
      "                                                                                                  \n",
      " ResUnit_L7_Trunk-t-2-2_AttnS3-  (None, 8, 8, 128)   512         ['ResUnit_L6_Trunk-t-2-2_AttnS3-3\n",
      " 3 (BatchNormalization)                                          [0][0]']                         \n",
      "                                                                                                  \n",
      " SpcConv_Mask_L5_Attn_S3-3 (Act  (None, 8, 8, 512)   0           ['SpcConv_Mask_L4_Attn_S3-3[0][0]\n",
      " ivation)                                                        ',                               \n",
      "                                                                  'SpcConv_Mask_L5_Attn_S3-3[0][0]\n",
      "                                                                 ']                               \n",
      "                                                                                                  \n",
      " ResUnit_L8_Trunk-t-2-2_AttnS3-  (None, 8, 8, 128)   0           ['ResUnit_L7_Trunk-t-2-2_AttnS3-3\n",
      " 3 (Activation)                                                  [0][0]']                         \n",
      "                                                                                                  \n",
      " ResUnit_L9_Trunk-t-2-2_AttnS3-  (None, 8, 8, 512)   65536       ['ResUnit_L8_Trunk-t-2-2_AttnS3-3\n",
      " 3 (Conv2D)                                                      [0][0]']                         \n",
      "                                                                                                  \n",
      " ResUnit_L10_Trunk-t-2-2_AttnS3  (None, 8, 8, 512)   262144      ['ResUnit_L2_Trunk-t-2-2_AttnS3-3\n",
      " -3 (Conv2D)                                                     [0][0]']                         \n",
      "                                                                                                  \n",
      " SpcConv_Mask_L7_Attn_S3-3 (Act  (None, 8, 8, 512)   0           ['SpcConv_Mask_L5_Attn_S3-3[1][0]\n",
      " ivation)                                                        ']                               \n",
      "                                                                                                  \n",
      " ResUnit_L11_Trunk-t-2-2_AttnS3  (None, 8, 8, 512)   0           ['ResUnit_L9_Trunk-t-2-2_AttnS3-3\n",
      " -3 (Add)                                                        [0][0]',                         \n",
      "                                                                  'ResUnit_L10_Trunk-t-2-2_AttnS3-\n",
      "                                                                 3[0][0]']                        \n",
      "                                                                                                  \n",
      " Mult_L1_AttnS3-3 (Multiply)    (None, 8, 8, 512)    0           ['SpcConv_Mask_L7_Attn_S3-3[0][0]\n",
      "                                                                 ',                               \n",
      "                                                                  'ResUnit_L11_Trunk-t-2-2_AttnS3-\n",
      "                                                                 3[0][0]']                        \n",
      "                                                                                                  \n",
      " Add_L1_AttnS3-3 (Add)          (None, 8, 8, 512)    0           ['Mult_L1_AttnS3-3[0][0]',       \n",
      "                                                                  'ResUnit_L11_Trunk-t-2-2_AttnS3-\n",
      "                                                                 3[0][0]']                        \n",
      "                                                                                                  \n",
      " ResUnit_L1_Output-p-1-1_AttnS3  (None, 8, 8, 512)   2048        ['Add_L1_AttnS3-3[0][0]']        \n",
      " -3 (BatchNormalization)                                                                          \n",
      "                                                                                                  \n",
      " ResUnit_L2_Output-p-1-1_AttnS3  (None, 8, 8, 512)   0           ['ResUnit_L1_Output-p-1-1_AttnS3-\n",
      " -3 (Activation)                                                 3[0][0]']                        \n",
      "                                                                                                  \n",
      " ResUnit_L3_Output-p-1-1_AttnS3  (None, 8, 8, 128)   65536       ['ResUnit_L2_Output-p-1-1_AttnS3-\n",
      " -3 (Conv2D)                                                     3[0][0]']                        \n",
      "                                                                                                  \n",
      " ResUnit_L4_Output-p-1-1_AttnS3  (None, 8, 8, 128)   512         ['ResUnit_L3_Output-p-1-1_AttnS3-\n",
      " -3 (BatchNormalization)                                         3[0][0]']                        \n",
      "                                                                                                  \n",
      " ResUnit_L5_Output-p-1-1_AttnS3  (None, 8, 8, 128)   0           ['ResUnit_L4_Output-p-1-1_AttnS3-\n",
      " -3 (Activation)                                                 3[0][0]']                        \n",
      "                                                                                                  \n",
      " ResUnit_L6_Output-p-1-1_AttnS3  (None, 8, 8, 128)   147456      ['ResUnit_L5_Output-p-1-1_AttnS3-\n",
      " -3 (Conv2D)                                                     3[0][0]']                        \n",
      "                                                                                                  \n",
      " ResUnit_L7_Output-p-1-1_AttnS3  (None, 8, 8, 128)   512         ['ResUnit_L6_Output-p-1-1_AttnS3-\n",
      " -3 (BatchNormalization)                                         3[0][0]']                        \n",
      "                                                                                                  \n",
      " ResUnit_L8_Output-p-1-1_AttnS3  (None, 8, 8, 128)   0           ['ResUnit_L7_Output-p-1-1_AttnS3-\n",
      " -3 (Activation)                                                 3[0][0]']                        \n",
      "                                                                                                  \n",
      " ResUnit_L9_Output-p-1-1_AttnS3  (None, 8, 8, 512)   65536       ['ResUnit_L8_Output-p-1-1_AttnS3-\n",
      " -3 (Conv2D)                                                     3[0][0]']                        \n",
      "                                                                                                  \n",
      " ResUnit_L10_Output-p-1-1_AttnS  (None, 8, 8, 512)   262144      ['ResUnit_L2_Output-p-1-1_AttnS3-\n",
      " 3-3 (Conv2D)                                                    3[0][0]']                        \n",
      "                                                                                                  \n",
      " ResUnit_L11_Output-p-1-1_AttnS  (None, 8, 8, 512)   0           ['ResUnit_L9_Output-p-1-1_AttnS3-\n",
      " 3-3 (Add)                                                       3[0][0]',                        \n",
      "                                                                  'ResUnit_L10_Output-p-1-1_AttnS3\n",
      "                                                                 -3[0][0]']                       \n",
      "                                                                                                  \n",
      " ResUnit_L1_NotAttnModule_4_NoD  (None, 8, 8, 512)   2048        ['ResUnit_L11_Output-p-1-1_AttnS3\n",
      " S (BatchNormalization)                                          -3[0][0]']                       \n",
      "                                                                                                  \n",
      " ResUnit_L2_NotAttnModule_4_NoD  (None, 8, 8, 512)   0           ['ResUnit_L1_NotAttnModule_4_NoDS\n",
      " S (Activation)                                                  [0][0]']                         \n",
      "                                                                                                  \n",
      " ResUnit_L3_NotAttnModule_4_NoD  (None, 8, 8, 256)   131072      ['ResUnit_L2_NotAttnModule_4_NoDS\n",
      " S (Conv2D)                                                      [0][0]']                         \n",
      "                                                                                                  \n",
      " ResUnit_L4_NotAttnModule_4_NoD  (None, 8, 8, 256)   1024        ['ResUnit_L3_NotAttnModule_4_NoDS\n",
      " S (BatchNormalization)                                          [0][0]']                         \n",
      "                                                                                                  \n",
      " ResUnit_L5_NotAttnModule_4_NoD  (None, 8, 8, 256)   0           ['ResUnit_L4_NotAttnModule_4_NoDS\n",
      " S (Activation)                                                  [0][0]']                         \n",
      "                                                                                                  \n",
      " ResUnit_L6_NotAttnModule_4_NoD  (None, 8, 8, 256)   589824      ['ResUnit_L5_NotAttnModule_4_NoDS\n",
      " S (Conv2D)                                                      [0][0]']                         \n",
      "                                                                                                  \n",
      " ResUnit_L7_NotAttnModule_4_NoD  (None, 8, 8, 256)   1024        ['ResUnit_L6_NotAttnModule_4_NoDS\n",
      " S (BatchNormalization)                                          [0][0]']                         \n",
      "                                                                                                  \n",
      " ResUnit_L8_NotAttnModule_4_NoD  (None, 8, 8, 256)   0           ['ResUnit_L7_NotAttnModule_4_NoDS\n",
      " S (Activation)                                                  [0][0]']                         \n",
      "                                                                                                  \n",
      " ResUnit_L9_NotAttnModule_4_NoD  (None, 8, 8, 1024)  262144      ['ResUnit_L8_NotAttnModule_4_NoDS\n",
      " S (Conv2D)                                                      [0][0]']                         \n",
      "                                                                                                  \n",
      " ResUnit_L10_NotAttnModule_4_No  (None, 8, 8, 1024)  524288      ['ResUnit_L2_NotAttnModule_4_NoDS\n",
      " DS (Conv2D)                                                     [0][0]']                         \n",
      "                                                                                                  \n",
      " ResUnit_L11_NotAttnModule_4_No  (None, 8, 8, 1024)  0           ['ResUnit_L9_NotAttnModule_4_NoDS\n",
      " DS (Add)                                                        [0][0]',                         \n",
      "                                                                  'ResUnit_L10_NotAttnModule_4_NoD\n",
      "                                                                 S[0][0]']                        \n",
      "                                                                                                  \n",
      " ResUnit_L1_NotAttnModule_5_NoD  (None, 8, 8, 1024)  4096        ['ResUnit_L11_NotAttnModule_4_NoD\n",
      " S (BatchNormalization)                                          S[0][0]']                        \n",
      "                                                                                                  \n",
      " ResUnit_L2_NotAttnModule_5_NoD  (None, 8, 8, 1024)  0           ['ResUnit_L1_NotAttnModule_5_NoDS\n",
      " S (Activation)                                                  [0][0]']                         \n",
      "                                                                                                  \n",
      " ResUnit_L3_NotAttnModule_5_NoD  (None, 8, 8, 256)   262144      ['ResUnit_L2_NotAttnModule_5_NoDS\n",
      " S (Conv2D)                                                      [0][0]']                         \n",
      "                                                                                                  \n",
      " ResUnit_L4_NotAttnModule_5_NoD  (None, 8, 8, 256)   1024        ['ResUnit_L3_NotAttnModule_5_NoDS\n",
      " S (BatchNormalization)                                          [0][0]']                         \n",
      "                                                                                                  \n",
      " ResUnit_L5_NotAttnModule_5_NoD  (None, 8, 8, 256)   0           ['ResUnit_L4_NotAttnModule_5_NoDS\n",
      " S (Activation)                                                  [0][0]']                         \n",
      "                                                                                                  \n",
      " ResUnit_L6_NotAttnModule_5_NoD  (None, 8, 8, 256)   589824      ['ResUnit_L5_NotAttnModule_5_NoDS\n",
      " S (Conv2D)                                                      [0][0]']                         \n",
      "                                                                                                  \n",
      " ResUnit_L7_NotAttnModule_5_NoD  (None, 8, 8, 256)   1024        ['ResUnit_L6_NotAttnModule_5_NoDS\n",
      " S (BatchNormalization)                                          [0][0]']                         \n",
      "                                                                                                  \n",
      " ResUnit_L8_NotAttnModule_5_NoD  (None, 8, 8, 256)   0           ['ResUnit_L7_NotAttnModule_5_NoDS\n",
      " S (Activation)                                                  [0][0]']                         \n",
      "                                                                                                  \n",
      " ResUnit_L9_NotAttnModule_5_NoD  (None, 8, 8, 1024)  262144      ['ResUnit_L8_NotAttnModule_5_NoDS\n",
      " S (Conv2D)                                                      [0][0]']                         \n",
      "                                                                                                  \n",
      " ResUnit_L10_NotAttnModule_5_No  (None, 8, 8, 1024)  1048576     ['ResUnit_L2_NotAttnModule_5_NoDS\n",
      " DS (Conv2D)                                                     [0][0]']                         \n",
      "                                                                                                  \n",
      " ResUnit_L11_NotAttnModule_5_No  (None, 8, 8, 1024)  0           ['ResUnit_L9_NotAttnModule_5_NoDS\n",
      " DS (Add)                                                        [0][0]',                         \n",
      "                                                                  'ResUnit_L10_NotAttnModule_5_NoD\n",
      "                                                                 S[0][0]']                        \n",
      "                                                                                                  \n",
      " ResUnit_L1_NotAttnModule_6_NoD  (None, 8, 8, 1024)  4096        ['ResUnit_L11_NotAttnModule_5_NoD\n",
      " S (BatchNormalization)                                          S[0][0]']                        \n",
      "                                                                                                  \n",
      " ResUnit_L2_NotAttnModule_6_NoD  (None, 8, 8, 1024)  0           ['ResUnit_L1_NotAttnModule_6_NoDS\n",
      " S (Activation)                                                  [0][0]']                         \n",
      "                                                                                                  \n",
      " ResUnit_L3_NotAttnModule_6_NoD  (None, 8, 8, 256)   262144      ['ResUnit_L2_NotAttnModule_6_NoDS\n",
      " S (Conv2D)                                                      [0][0]']                         \n",
      "                                                                                                  \n",
      " ResUnit_L4_NotAttnModule_6_NoD  (None, 8, 8, 256)   1024        ['ResUnit_L3_NotAttnModule_6_NoDS\n",
      " S (BatchNormalization)                                          [0][0]']                         \n",
      "                                                                                                  \n",
      " ResUnit_L5_NotAttnModule_6_NoD  (None, 8, 8, 256)   0           ['ResUnit_L4_NotAttnModule_6_NoDS\n",
      " S (Activation)                                                  [0][0]']                         \n",
      "                                                                                                  \n",
      " ResUnit_L6_NotAttnModule_6_NoD  (None, 8, 8, 256)   589824      ['ResUnit_L5_NotAttnModule_6_NoDS\n",
      " S (Conv2D)                                                      [0][0]']                         \n",
      "                                                                                                  \n",
      " ResUnit_L7_NotAttnModule_6_NoD  (None, 8, 8, 256)   1024        ['ResUnit_L6_NotAttnModule_6_NoDS\n",
      " S (BatchNormalization)                                          [0][0]']                         \n",
      "                                                                                                  \n",
      " ResUnit_L8_NotAttnModule_6_NoD  (None, 8, 8, 256)   0           ['ResUnit_L7_NotAttnModule_6_NoDS\n",
      " S (Activation)                                                  [0][0]']                         \n",
      "                                                                                                  \n",
      " ResUnit_L9_NotAttnModule_6_NoD  (None, 8, 8, 1024)  262144      ['ResUnit_L8_NotAttnModule_6_NoDS\n",
      " S (Conv2D)                                                      [0][0]']                         \n",
      "                                                                                                  \n",
      " ResUnit_L10_NotAttnModule_6_No  (None, 8, 8, 1024)  1048576     ['ResUnit_L2_NotAttnModule_6_NoDS\n",
      " DS (Conv2D)                                                     [0][0]']                         \n",
      "                                                                                                  \n",
      " ResUnit_L11_NotAttnModule_6_No  (None, 8, 8, 1024)  0           ['ResUnit_L9_NotAttnModule_6_NoDS\n",
      " DS (Add)                                                        [0][0]',                         \n",
      "                                                                  'ResUnit_L10_NotAttnModule_6_NoD\n",
      "                                                                 S[0][0]']                        \n",
      "                                                                                                  \n",
      " BN_Out (BatchNormalization)    (None, 8, 8, 1024)   4096        ['ResUnit_L11_NotAttnModule_6_NoD\n",
      "                                                                 S[0][0]']                        \n",
      "                                                                                                  \n",
      " ReLU_Out (Activation)          (None, 8, 8, 1024)   0           ['BN_Out[0][0]']                 \n",
      "                                                                                                  \n",
      " AvgPool_Out (AveragePooling2D)  (None, 1, 1, 1024)  0           ['ReLU_Out[0][0]']               \n",
      "                                                                                                  \n",
      " Flatten_Out (Flatten)          (None, 1024)         0           ['AvgPool_Out[0][0]']            \n",
      "                                                                                                  \n",
      " Final_Out (Dense)              (None, 10)           10250       ['Flatten_Out[0][0]']            \n",
      "                                                                                                  \n",
      "==================================================================================================\n",
      "Total params: 18,159,722\n",
      "Trainable params: 18,104,298\n",
      "Non-trainable params: 55,424\n",
      "__________________________________________________________________________________________________\n"
     ]
    }
   ],
   "source": [
    "ran92 = ResidualAttentionModel_92(input_shape, output_classes, learning_type='ARL')\n",
    "\n",
    "model = ran92.return_Model()\n",
    "\n",
    "model.compile(tf.keras.optimizers.Adam(), \n",
    "              loss=tf.keras.losses.CategoricalCrossentropy(), \n",
    "              metrics=['accuracy'])\n",
    "\n",
    "model.summary()"
   ]
  },
  {
   "cell_type": "code",
   "execution_count": 8,
   "id": "8acd0fc5",
   "metadata": {},
   "outputs": [
    {
     "name": "stdout",
     "output_type": "stream",
     "text": [
      "./models/ran92_v2_arl/graphs/ran92_v2_arl_modelsummary.txt\n"
     ]
    }
   ],
   "source": [
    "global summary_filename \n",
    "summary_filename = graph_path + '/{}'.format(model_name[1:]) + '_modelsummary.txt'\n",
    "print(summary_filename)"
   ]
  },
  {
   "cell_type": "code",
   "execution_count": 9,
   "id": "77cf099c",
   "metadata": {},
   "outputs": [],
   "source": [
    "with open(summary_filename, 'w') as f:\n",
    "    with redirect_stdout(f):\n",
    "        model.summary()"
   ]
  },
  {
   "cell_type": "code",
   "execution_count": 10,
   "id": "02166486",
   "metadata": {},
   "outputs": [],
   "source": [
    "#%%\n",
    "\n",
    "# dot_img_file = '/tmp/ran56.png'\n",
    "# tf.keras.utils.plot_model(model, to_file=dot_img_file, show_shapes=True)\n",
    "\n",
    "# earlyStopping_TrainAcc = tf.keras.callbacks.EarlyStopping(monitor='accuracy', patience=10)\n",
    "# callbacks = list()\n",
    "# callbacks.append(earlyStopping_TrainAcc)\n",
    "\n",
    "callbacks=[tf.keras.callbacks.EarlyStopping(patience=10, restore_best_weights=True, monitor='accuracy'),\n",
    "          tf.keras.callbacks.ReduceLROnPlateau(patience=5,  monitor='loss'), tf.keras.callbacks.ModelCheckpoint(saved_model_path + '/ran92_v2_ARL_training', monitor='loss', verbose=1, save_best_only=True, mode='min')]  \n"
   ]
  },
  {
   "cell_type": "code",
   "execution_count": 11,
   "id": "7ba7ae15",
   "metadata": {},
   "outputs": [],
   "source": [
    "import time "
   ]
  },
  {
   "cell_type": "code",
   "execution_count": 12,
   "id": "30ba24d7",
   "metadata": {},
   "outputs": [
    {
     "name": "stdout",
     "output_type": "stream",
     "text": [
      "Epoch 1/100\n",
      "625/625 [==============================] - ETA: 0s - loss: 1.9451 - accuracy: 0.2639\n",
      "Epoch 00001: loss improved from inf to 1.94513, saving model to ./models/ran92_v2_arl/saved_models\\ran92_v2_ARL_training\n"
     ]
    },
    {
     "name": "stderr",
     "output_type": "stream",
     "text": [
      "WARNING:absl:Function `_wrapped_model` contains input name(s) Model_Input with unsupported characters which will be renamed to model_input in the SavedModel.\n"
     ]
    },
    {
     "name": "stdout",
     "output_type": "stream",
     "text": [
      "INFO:tensorflow:Assets written to: ./models/ran92_v2_arl/saved_models\\ran92_v2_ARL_training\\assets\n"
     ]
    },
    {
     "name": "stderr",
     "output_type": "stream",
     "text": [
      "INFO:tensorflow:Assets written to: ./models/ran92_v2_arl/saved_models\\ran92_v2_ARL_training\\assets\n",
      "C:\\Users\\suman\\anaconda3\\envs\\p38\\lib\\site-packages\\keras\\engine\\functional.py:1410: CustomMaskWarning: Custom mask layers require a config and must override get_config. When loading, the custom mask layer must be passed to the custom_objects argument.\n",
      "  layer_config = serialize_layer_fn(layer)\n",
      "C:\\Users\\suman\\anaconda3\\envs\\p38\\lib\\site-packages\\keras\\saving\\saved_model\\layer_serialization.py:112: CustomMaskWarning: Custom mask layers require a config and must override get_config. When loading, the custom mask layer must be passed to the custom_objects argument.\n",
      "  return generic_utils.serialize_keras_object(obj)\n"
     ]
    },
    {
     "name": "stdout",
     "output_type": "stream",
     "text": [
      "625/625 [==============================] - 224s 318ms/step - loss: 1.9451 - accuracy: 0.2639 - val_loss: 2.0165 - val_accuracy: 0.2671 - lr: 0.0010\n",
      "Epoch 2/100\n",
      "625/625 [==============================] - ETA: 0s - loss: 1.6856 - accuracy: 0.3747\n",
      "Epoch 00002: loss improved from 1.94513 to 1.68561, saving model to ./models/ran92_v2_arl/saved_models\\ran92_v2_ARL_training\n"
     ]
    },
    {
     "name": "stderr",
     "output_type": "stream",
     "text": [
      "WARNING:absl:Function `_wrapped_model` contains input name(s) Model_Input with unsupported characters which will be renamed to model_input in the SavedModel.\n"
     ]
    },
    {
     "name": "stdout",
     "output_type": "stream",
     "text": [
      "INFO:tensorflow:Assets written to: ./models/ran92_v2_arl/saved_models\\ran92_v2_ARL_training\\assets\n"
     ]
    },
    {
     "name": "stderr",
     "output_type": "stream",
     "text": [
      "INFO:tensorflow:Assets written to: ./models/ran92_v2_arl/saved_models\\ran92_v2_ARL_training\\assets\n",
      "C:\\Users\\suman\\anaconda3\\envs\\p38\\lib\\site-packages\\keras\\engine\\functional.py:1410: CustomMaskWarning: Custom mask layers require a config and must override get_config. When loading, the custom mask layer must be passed to the custom_objects argument.\n",
      "  layer_config = serialize_layer_fn(layer)\n",
      "C:\\Users\\suman\\anaconda3\\envs\\p38\\lib\\site-packages\\keras\\saving\\saved_model\\layer_serialization.py:112: CustomMaskWarning: Custom mask layers require a config and must override get_config. When loading, the custom mask layer must be passed to the custom_objects argument.\n",
      "  return generic_utils.serialize_keras_object(obj)\n"
     ]
    },
    {
     "name": "stdout",
     "output_type": "stream",
     "text": [
      "625/625 [==============================] - 185s 297ms/step - loss: 1.6856 - accuracy: 0.3747 - val_loss: 1.9259 - val_accuracy: 0.3390 - lr: 0.0010\n",
      "Epoch 3/100\n",
      "625/625 [==============================] - ETA: 0s - loss: 1.5466 - accuracy: 0.4311\n",
      "Epoch 00003: loss improved from 1.68561 to 1.54657, saving model to ./models/ran92_v2_arl/saved_models\\ran92_v2_ARL_training\n"
     ]
    },
    {
     "name": "stderr",
     "output_type": "stream",
     "text": [
      "WARNING:absl:Function `_wrapped_model` contains input name(s) Model_Input with unsupported characters which will be renamed to model_input in the SavedModel.\n"
     ]
    },
    {
     "name": "stdout",
     "output_type": "stream",
     "text": [
      "INFO:tensorflow:Assets written to: ./models/ran92_v2_arl/saved_models\\ran92_v2_ARL_training\\assets\n"
     ]
    },
    {
     "name": "stderr",
     "output_type": "stream",
     "text": [
      "INFO:tensorflow:Assets written to: ./models/ran92_v2_arl/saved_models\\ran92_v2_ARL_training\\assets\n",
      "C:\\Users\\suman\\anaconda3\\envs\\p38\\lib\\site-packages\\keras\\engine\\functional.py:1410: CustomMaskWarning: Custom mask layers require a config and must override get_config. When loading, the custom mask layer must be passed to the custom_objects argument.\n",
      "  layer_config = serialize_layer_fn(layer)\n",
      "C:\\Users\\suman\\anaconda3\\envs\\p38\\lib\\site-packages\\keras\\saving\\saved_model\\layer_serialization.py:112: CustomMaskWarning: Custom mask layers require a config and must override get_config. When loading, the custom mask layer must be passed to the custom_objects argument.\n",
      "  return generic_utils.serialize_keras_object(obj)\n"
     ]
    },
    {
     "name": "stdout",
     "output_type": "stream",
     "text": [
      "625/625 [==============================] - 189s 302ms/step - loss: 1.5466 - accuracy: 0.4311 - val_loss: 1.7457 - val_accuracy: 0.3899 - lr: 0.0010\n",
      "Epoch 4/100\n",
      "625/625 [==============================] - ETA: 0s - loss: 1.4381 - accuracy: 0.4735\n",
      "Epoch 00004: loss improved from 1.54657 to 1.43805, saving model to ./models/ran92_v2_arl/saved_models\\ran92_v2_ARL_training\n"
     ]
    },
    {
     "name": "stderr",
     "output_type": "stream",
     "text": [
      "WARNING:absl:Function `_wrapped_model` contains input name(s) Model_Input with unsupported characters which will be renamed to model_input in the SavedModel.\n"
     ]
    },
    {
     "name": "stdout",
     "output_type": "stream",
     "text": [
      "INFO:tensorflow:Assets written to: ./models/ran92_v2_arl/saved_models\\ran92_v2_ARL_training\\assets\n"
     ]
    },
    {
     "name": "stderr",
     "output_type": "stream",
     "text": [
      "INFO:tensorflow:Assets written to: ./models/ran92_v2_arl/saved_models\\ran92_v2_ARL_training\\assets\n",
      "C:\\Users\\suman\\anaconda3\\envs\\p38\\lib\\site-packages\\keras\\engine\\functional.py:1410: CustomMaskWarning: Custom mask layers require a config and must override get_config. When loading, the custom mask layer must be passed to the custom_objects argument.\n",
      "  layer_config = serialize_layer_fn(layer)\n",
      "C:\\Users\\suman\\anaconda3\\envs\\p38\\lib\\site-packages\\keras\\saving\\saved_model\\layer_serialization.py:112: CustomMaskWarning: Custom mask layers require a config and must override get_config. When loading, the custom mask layer must be passed to the custom_objects argument.\n",
      "  return generic_utils.serialize_keras_object(obj)\n"
     ]
    },
    {
     "name": "stdout",
     "output_type": "stream",
     "text": [
      "625/625 [==============================] - 189s 302ms/step - loss: 1.4381 - accuracy: 0.4735 - val_loss: 1.8319 - val_accuracy: 0.4148 - lr: 0.0010\n",
      "Epoch 5/100\n",
      "625/625 [==============================] - ETA: 0s - loss: 1.3291 - accuracy: 0.5176\n",
      "Epoch 00005: loss improved from 1.43805 to 1.32915, saving model to ./models/ran92_v2_arl/saved_models\\ran92_v2_ARL_training\n"
     ]
    },
    {
     "name": "stderr",
     "output_type": "stream",
     "text": [
      "WARNING:absl:Function `_wrapped_model` contains input name(s) Model_Input with unsupported characters which will be renamed to model_input in the SavedModel.\n"
     ]
    },
    {
     "name": "stdout",
     "output_type": "stream",
     "text": [
      "INFO:tensorflow:Assets written to: ./models/ran92_v2_arl/saved_models\\ran92_v2_ARL_training\\assets\n"
     ]
    },
    {
     "name": "stderr",
     "output_type": "stream",
     "text": [
      "INFO:tensorflow:Assets written to: ./models/ran92_v2_arl/saved_models\\ran92_v2_ARL_training\\assets\n",
      "C:\\Users\\suman\\anaconda3\\envs\\p38\\lib\\site-packages\\keras\\engine\\functional.py:1410: CustomMaskWarning: Custom mask layers require a config and must override get_config. When loading, the custom mask layer must be passed to the custom_objects argument.\n",
      "  layer_config = serialize_layer_fn(layer)\n",
      "C:\\Users\\suman\\anaconda3\\envs\\p38\\lib\\site-packages\\keras\\saving\\saved_model\\layer_serialization.py:112: CustomMaskWarning: Custom mask layers require a config and must override get_config. When loading, the custom mask layer must be passed to the custom_objects argument.\n",
      "  return generic_utils.serialize_keras_object(obj)\n"
     ]
    },
    {
     "name": "stdout",
     "output_type": "stream",
     "text": [
      "625/625 [==============================] - 187s 300ms/step - loss: 1.3291 - accuracy: 0.5176 - val_loss: 1.5711 - val_accuracy: 0.4871 - lr: 0.0010\n",
      "Epoch 6/100\n",
      "625/625 [==============================] - ETA: 0s - loss: 1.2452 - accuracy: 0.5502\n",
      "Epoch 00006: loss improved from 1.32915 to 1.24519, saving model to ./models/ran92_v2_arl/saved_models\\ran92_v2_ARL_training\n"
     ]
    },
    {
     "name": "stderr",
     "output_type": "stream",
     "text": [
      "WARNING:absl:Function `_wrapped_model` contains input name(s) Model_Input with unsupported characters which will be renamed to model_input in the SavedModel.\n"
     ]
    },
    {
     "name": "stdout",
     "output_type": "stream",
     "text": [
      "INFO:tensorflow:Assets written to: ./models/ran92_v2_arl/saved_models\\ran92_v2_ARL_training\\assets\n"
     ]
    },
    {
     "name": "stderr",
     "output_type": "stream",
     "text": [
      "INFO:tensorflow:Assets written to: ./models/ran92_v2_arl/saved_models\\ran92_v2_ARL_training\\assets\n",
      "C:\\Users\\suman\\anaconda3\\envs\\p38\\lib\\site-packages\\keras\\engine\\functional.py:1410: CustomMaskWarning: Custom mask layers require a config and must override get_config. When loading, the custom mask layer must be passed to the custom_objects argument.\n",
      "  layer_config = serialize_layer_fn(layer)\n",
      "C:\\Users\\suman\\anaconda3\\envs\\p38\\lib\\site-packages\\keras\\saving\\saved_model\\layer_serialization.py:112: CustomMaskWarning: Custom mask layers require a config and must override get_config. When loading, the custom mask layer must be passed to the custom_objects argument.\n",
      "  return generic_utils.serialize_keras_object(obj)\n"
     ]
    },
    {
     "name": "stdout",
     "output_type": "stream",
     "text": [
      "625/625 [==============================] - 187s 300ms/step - loss: 1.2452 - accuracy: 0.5502 - val_loss: 1.5052 - val_accuracy: 0.4965 - lr: 0.0010\n",
      "Epoch 7/100\n",
      "625/625 [==============================] - ETA: 0s - loss: 1.1757 - accuracy: 0.5776\n",
      "Epoch 00007: loss improved from 1.24519 to 1.17568, saving model to ./models/ran92_v2_arl/saved_models\\ran92_v2_ARL_training\n"
     ]
    },
    {
     "name": "stderr",
     "output_type": "stream",
     "text": [
      "WARNING:absl:Function `_wrapped_model` contains input name(s) Model_Input with unsupported characters which will be renamed to model_input in the SavedModel.\n"
     ]
    },
    {
     "name": "stdout",
     "output_type": "stream",
     "text": [
      "INFO:tensorflow:Assets written to: ./models/ran92_v2_arl/saved_models\\ran92_v2_ARL_training\\assets\n"
     ]
    },
    {
     "name": "stderr",
     "output_type": "stream",
     "text": [
      "INFO:tensorflow:Assets written to: ./models/ran92_v2_arl/saved_models\\ran92_v2_ARL_training\\assets\n",
      "C:\\Users\\suman\\anaconda3\\envs\\p38\\lib\\site-packages\\keras\\engine\\functional.py:1410: CustomMaskWarning: Custom mask layers require a config and must override get_config. When loading, the custom mask layer must be passed to the custom_objects argument.\n",
      "  layer_config = serialize_layer_fn(layer)\n",
      "C:\\Users\\suman\\anaconda3\\envs\\p38\\lib\\site-packages\\keras\\saving\\saved_model\\layer_serialization.py:112: CustomMaskWarning: Custom mask layers require a config and must override get_config. When loading, the custom mask layer must be passed to the custom_objects argument.\n",
      "  return generic_utils.serialize_keras_object(obj)\n"
     ]
    },
    {
     "name": "stdout",
     "output_type": "stream",
     "text": [
      "625/625 [==============================] - 187s 299ms/step - loss: 1.1757 - accuracy: 0.5776 - val_loss: 1.5076 - val_accuracy: 0.4861 - lr: 0.0010\n",
      "Epoch 8/100\n",
      "625/625 [==============================] - ETA: 0s - loss: 1.1214 - accuracy: 0.5981\n",
      "Epoch 00008: loss improved from 1.17568 to 1.12141, saving model to ./models/ran92_v2_arl/saved_models\\ran92_v2_ARL_training\n"
     ]
    },
    {
     "name": "stderr",
     "output_type": "stream",
     "text": [
      "WARNING:absl:Function `_wrapped_model` contains input name(s) Model_Input with unsupported characters which will be renamed to model_input in the SavedModel.\n"
     ]
    },
    {
     "name": "stdout",
     "output_type": "stream",
     "text": [
      "INFO:tensorflow:Assets written to: ./models/ran92_v2_arl/saved_models\\ran92_v2_ARL_training\\assets\n"
     ]
    },
    {
     "name": "stderr",
     "output_type": "stream",
     "text": [
      "INFO:tensorflow:Assets written to: ./models/ran92_v2_arl/saved_models\\ran92_v2_ARL_training\\assets\n",
      "C:\\Users\\suman\\anaconda3\\envs\\p38\\lib\\site-packages\\keras\\engine\\functional.py:1410: CustomMaskWarning: Custom mask layers require a config and must override get_config. When loading, the custom mask layer must be passed to the custom_objects argument.\n",
      "  layer_config = serialize_layer_fn(layer)\n",
      "C:\\Users\\suman\\anaconda3\\envs\\p38\\lib\\site-packages\\keras\\saving\\saved_model\\layer_serialization.py:112: CustomMaskWarning: Custom mask layers require a config and must override get_config. When loading, the custom mask layer must be passed to the custom_objects argument.\n",
      "  return generic_utils.serialize_keras_object(obj)\n"
     ]
    },
    {
     "name": "stdout",
     "output_type": "stream",
     "text": [
      "625/625 [==============================] - 184s 295ms/step - loss: 1.1214 - accuracy: 0.5981 - val_loss: 1.4784 - val_accuracy: 0.5041 - lr: 0.0010\n",
      "Epoch 9/100\n",
      "625/625 [==============================] - ETA: 0s - loss: 1.0663 - accuracy: 0.6183\n",
      "Epoch 00009: loss improved from 1.12141 to 1.06626, saving model to ./models/ran92_v2_arl/saved_models\\ran92_v2_ARL_training\n"
     ]
    },
    {
     "name": "stderr",
     "output_type": "stream",
     "text": [
      "WARNING:absl:Function `_wrapped_model` contains input name(s) Model_Input with unsupported characters which will be renamed to model_input in the SavedModel.\n"
     ]
    },
    {
     "name": "stdout",
     "output_type": "stream",
     "text": [
      "INFO:tensorflow:Assets written to: ./models/ran92_v2_arl/saved_models\\ran92_v2_ARL_training\\assets\n"
     ]
    },
    {
     "name": "stderr",
     "output_type": "stream",
     "text": [
      "INFO:tensorflow:Assets written to: ./models/ran92_v2_arl/saved_models\\ran92_v2_ARL_training\\assets\n",
      "C:\\Users\\suman\\anaconda3\\envs\\p38\\lib\\site-packages\\keras\\engine\\functional.py:1410: CustomMaskWarning: Custom mask layers require a config and must override get_config. When loading, the custom mask layer must be passed to the custom_objects argument.\n",
      "  layer_config = serialize_layer_fn(layer)\n",
      "C:\\Users\\suman\\anaconda3\\envs\\p38\\lib\\site-packages\\keras\\saving\\saved_model\\layer_serialization.py:112: CustomMaskWarning: Custom mask layers require a config and must override get_config. When loading, the custom mask layer must be passed to the custom_objects argument.\n",
      "  return generic_utils.serialize_keras_object(obj)\n"
     ]
    },
    {
     "name": "stdout",
     "output_type": "stream",
     "text": [
      "625/625 [==============================] - 186s 298ms/step - loss: 1.0663 - accuracy: 0.6183 - val_loss: 1.3280 - val_accuracy: 0.5681 - lr: 0.0010\n",
      "Epoch 10/100\n",
      "625/625 [==============================] - ETA: 0s - loss: 1.0083 - accuracy: 0.6409\n",
      "Epoch 00010: loss improved from 1.06626 to 1.00834, saving model to ./models/ran92_v2_arl/saved_models\\ran92_v2_ARL_training\n"
     ]
    },
    {
     "name": "stderr",
     "output_type": "stream",
     "text": [
      "WARNING:absl:Function `_wrapped_model` contains input name(s) Model_Input with unsupported characters which will be renamed to model_input in the SavedModel.\n"
     ]
    },
    {
     "name": "stdout",
     "output_type": "stream",
     "text": [
      "INFO:tensorflow:Assets written to: ./models/ran92_v2_arl/saved_models\\ran92_v2_ARL_training\\assets\n"
     ]
    },
    {
     "name": "stderr",
     "output_type": "stream",
     "text": [
      "INFO:tensorflow:Assets written to: ./models/ran92_v2_arl/saved_models\\ran92_v2_ARL_training\\assets\n",
      "C:\\Users\\suman\\anaconda3\\envs\\p38\\lib\\site-packages\\keras\\engine\\functional.py:1410: CustomMaskWarning: Custom mask layers require a config and must override get_config. When loading, the custom mask layer must be passed to the custom_objects argument.\n",
      "  layer_config = serialize_layer_fn(layer)\n",
      "C:\\Users\\suman\\anaconda3\\envs\\p38\\lib\\site-packages\\keras\\saving\\saved_model\\layer_serialization.py:112: CustomMaskWarning: Custom mask layers require a config and must override get_config. When loading, the custom mask layer must be passed to the custom_objects argument.\n",
      "  return generic_utils.serialize_keras_object(obj)\n"
     ]
    },
    {
     "name": "stdout",
     "output_type": "stream",
     "text": [
      "625/625 [==============================] - 186s 298ms/step - loss: 1.0083 - accuracy: 0.6409 - val_loss: 1.3430 - val_accuracy: 0.5625 - lr: 0.0010\n",
      "Epoch 11/100\n",
      "625/625 [==============================] - ETA: 0s - loss: 0.9759 - accuracy: 0.6554\n",
      "Epoch 00011: loss improved from 1.00834 to 0.97586, saving model to ./models/ran92_v2_arl/saved_models\\ran92_v2_ARL_training\n"
     ]
    },
    {
     "name": "stderr",
     "output_type": "stream",
     "text": [
      "WARNING:absl:Function `_wrapped_model` contains input name(s) Model_Input with unsupported characters which will be renamed to model_input in the SavedModel.\n"
     ]
    },
    {
     "name": "stdout",
     "output_type": "stream",
     "text": [
      "INFO:tensorflow:Assets written to: ./models/ran92_v2_arl/saved_models\\ran92_v2_ARL_training\\assets\n"
     ]
    },
    {
     "name": "stderr",
     "output_type": "stream",
     "text": [
      "INFO:tensorflow:Assets written to: ./models/ran92_v2_arl/saved_models\\ran92_v2_ARL_training\\assets\n",
      "C:\\Users\\suman\\anaconda3\\envs\\p38\\lib\\site-packages\\keras\\engine\\functional.py:1410: CustomMaskWarning: Custom mask layers require a config and must override get_config. When loading, the custom mask layer must be passed to the custom_objects argument.\n",
      "  layer_config = serialize_layer_fn(layer)\n",
      "C:\\Users\\suman\\anaconda3\\envs\\p38\\lib\\site-packages\\keras\\saving\\saved_model\\layer_serialization.py:112: CustomMaskWarning: Custom mask layers require a config and must override get_config. When loading, the custom mask layer must be passed to the custom_objects argument.\n",
      "  return generic_utils.serialize_keras_object(obj)\n"
     ]
    },
    {
     "name": "stdout",
     "output_type": "stream",
     "text": [
      "625/625 [==============================] - 188s 301ms/step - loss: 0.9759 - accuracy: 0.6554 - val_loss: 1.3728 - val_accuracy: 0.5306 - lr: 0.0010\n",
      "Epoch 12/100\n",
      "625/625 [==============================] - ETA: 0s - loss: 0.9271 - accuracy: 0.6730\n",
      "Epoch 00012: loss improved from 0.97586 to 0.92714, saving model to ./models/ran92_v2_arl/saved_models\\ran92_v2_ARL_training\n"
     ]
    },
    {
     "name": "stderr",
     "output_type": "stream",
     "text": [
      "WARNING:absl:Function `_wrapped_model` contains input name(s) Model_Input with unsupported characters which will be renamed to model_input in the SavedModel.\n"
     ]
    },
    {
     "name": "stdout",
     "output_type": "stream",
     "text": [
      "INFO:tensorflow:Assets written to: ./models/ran92_v2_arl/saved_models\\ran92_v2_ARL_training\\assets\n"
     ]
    },
    {
     "name": "stderr",
     "output_type": "stream",
     "text": [
      "INFO:tensorflow:Assets written to: ./models/ran92_v2_arl/saved_models\\ran92_v2_ARL_training\\assets\n",
      "C:\\Users\\suman\\anaconda3\\envs\\p38\\lib\\site-packages\\keras\\engine\\functional.py:1410: CustomMaskWarning: Custom mask layers require a config and must override get_config. When loading, the custom mask layer must be passed to the custom_objects argument.\n",
      "  layer_config = serialize_layer_fn(layer)\n",
      "C:\\Users\\suman\\anaconda3\\envs\\p38\\lib\\site-packages\\keras\\saving\\saved_model\\layer_serialization.py:112: CustomMaskWarning: Custom mask layers require a config and must override get_config. When loading, the custom mask layer must be passed to the custom_objects argument.\n",
      "  return generic_utils.serialize_keras_object(obj)\n"
     ]
    },
    {
     "name": "stdout",
     "output_type": "stream",
     "text": [
      "625/625 [==============================] - 187s 300ms/step - loss: 0.9271 - accuracy: 0.6730 - val_loss: 1.2554 - val_accuracy: 0.5912 - lr: 0.0010\n",
      "Epoch 13/100\n",
      "625/625 [==============================] - ETA: 0s - loss: 0.8790 - accuracy: 0.6930\n",
      "Epoch 00013: loss improved from 0.92714 to 0.87898, saving model to ./models/ran92_v2_arl/saved_models\\ran92_v2_ARL_training\n"
     ]
    },
    {
     "name": "stderr",
     "output_type": "stream",
     "text": [
      "WARNING:absl:Function `_wrapped_model` contains input name(s) Model_Input with unsupported characters which will be renamed to model_input in the SavedModel.\n"
     ]
    },
    {
     "name": "stdout",
     "output_type": "stream",
     "text": [
      "INFO:tensorflow:Assets written to: ./models/ran92_v2_arl/saved_models\\ran92_v2_ARL_training\\assets\n"
     ]
    },
    {
     "name": "stderr",
     "output_type": "stream",
     "text": [
      "INFO:tensorflow:Assets written to: ./models/ran92_v2_arl/saved_models\\ran92_v2_ARL_training\\assets\n",
      "C:\\Users\\suman\\anaconda3\\envs\\p38\\lib\\site-packages\\keras\\engine\\functional.py:1410: CustomMaskWarning: Custom mask layers require a config and must override get_config. When loading, the custom mask layer must be passed to the custom_objects argument.\n",
      "  layer_config = serialize_layer_fn(layer)\n",
      "C:\\Users\\suman\\anaconda3\\envs\\p38\\lib\\site-packages\\keras\\saving\\saved_model\\layer_serialization.py:112: CustomMaskWarning: Custom mask layers require a config and must override get_config. When loading, the custom mask layer must be passed to the custom_objects argument.\n",
      "  return generic_utils.serialize_keras_object(obj)\n"
     ]
    },
    {
     "name": "stdout",
     "output_type": "stream",
     "text": [
      "625/625 [==============================] - 186s 297ms/step - loss: 0.8790 - accuracy: 0.6930 - val_loss: 1.1764 - val_accuracy: 0.5885 - lr: 0.0010\n",
      "Epoch 14/100\n",
      "625/625 [==============================] - ETA: 0s - loss: 0.8405 - accuracy: 0.7035\n",
      "Epoch 00014: loss improved from 0.87898 to 0.84052, saving model to ./models/ran92_v2_arl/saved_models\\ran92_v2_ARL_training\n"
     ]
    },
    {
     "name": "stderr",
     "output_type": "stream",
     "text": [
      "WARNING:absl:Function `_wrapped_model` contains input name(s) Model_Input with unsupported characters which will be renamed to model_input in the SavedModel.\n"
     ]
    },
    {
     "name": "stdout",
     "output_type": "stream",
     "text": [
      "INFO:tensorflow:Assets written to: ./models/ran92_v2_arl/saved_models\\ran92_v2_ARL_training\\assets\n"
     ]
    },
    {
     "name": "stderr",
     "output_type": "stream",
     "text": [
      "INFO:tensorflow:Assets written to: ./models/ran92_v2_arl/saved_models\\ran92_v2_ARL_training\\assets\n",
      "C:\\Users\\suman\\anaconda3\\envs\\p38\\lib\\site-packages\\keras\\engine\\functional.py:1410: CustomMaskWarning: Custom mask layers require a config and must override get_config. When loading, the custom mask layer must be passed to the custom_objects argument.\n",
      "  layer_config = serialize_layer_fn(layer)\n",
      "C:\\Users\\suman\\anaconda3\\envs\\p38\\lib\\site-packages\\keras\\saving\\saved_model\\layer_serialization.py:112: CustomMaskWarning: Custom mask layers require a config and must override get_config. When loading, the custom mask layer must be passed to the custom_objects argument.\n",
      "  return generic_utils.serialize_keras_object(obj)\n"
     ]
    },
    {
     "name": "stdout",
     "output_type": "stream",
     "text": [
      "625/625 [==============================] - 184s 295ms/step - loss: 0.8405 - accuracy: 0.7035 - val_loss: 1.2516 - val_accuracy: 0.6136 - lr: 0.0010\n",
      "Epoch 15/100\n",
      "625/625 [==============================] - ETA: 0s - loss: 0.7998 - accuracy: 0.7180\n",
      "Epoch 00015: loss improved from 0.84052 to 0.79981, saving model to ./models/ran92_v2_arl/saved_models\\ran92_v2_ARL_training\n"
     ]
    },
    {
     "name": "stderr",
     "output_type": "stream",
     "text": [
      "WARNING:absl:Function `_wrapped_model` contains input name(s) Model_Input with unsupported characters which will be renamed to model_input in the SavedModel.\n"
     ]
    },
    {
     "name": "stdout",
     "output_type": "stream",
     "text": [
      "INFO:tensorflow:Assets written to: ./models/ran92_v2_arl/saved_models\\ran92_v2_ARL_training\\assets\n"
     ]
    },
    {
     "name": "stderr",
     "output_type": "stream",
     "text": [
      "INFO:tensorflow:Assets written to: ./models/ran92_v2_arl/saved_models\\ran92_v2_ARL_training\\assets\n",
      "C:\\Users\\suman\\anaconda3\\envs\\p38\\lib\\site-packages\\keras\\engine\\functional.py:1410: CustomMaskWarning: Custom mask layers require a config and must override get_config. When loading, the custom mask layer must be passed to the custom_objects argument.\n",
      "  layer_config = serialize_layer_fn(layer)\n",
      "C:\\Users\\suman\\anaconda3\\envs\\p38\\lib\\site-packages\\keras\\saving\\saved_model\\layer_serialization.py:112: CustomMaskWarning: Custom mask layers require a config and must override get_config. When loading, the custom mask layer must be passed to the custom_objects argument.\n",
      "  return generic_utils.serialize_keras_object(obj)\n"
     ]
    },
    {
     "name": "stdout",
     "output_type": "stream",
     "text": [
      "625/625 [==============================] - 185s 296ms/step - loss: 0.7998 - accuracy: 0.7180 - val_loss: 1.1765 - val_accuracy: 0.5970 - lr: 0.0010\n",
      "Epoch 16/100\n",
      "625/625 [==============================] - ETA: 0s - loss: 0.7646 - accuracy: 0.7329\n",
      "Epoch 00016: loss improved from 0.79981 to 0.76458, saving model to ./models/ran92_v2_arl/saved_models\\ran92_v2_ARL_training\n"
     ]
    },
    {
     "name": "stderr",
     "output_type": "stream",
     "text": [
      "WARNING:absl:Function `_wrapped_model` contains input name(s) Model_Input with unsupported characters which will be renamed to model_input in the SavedModel.\n"
     ]
    },
    {
     "name": "stdout",
     "output_type": "stream",
     "text": [
      "INFO:tensorflow:Assets written to: ./models/ran92_v2_arl/saved_models\\ran92_v2_ARL_training\\assets\n"
     ]
    },
    {
     "name": "stderr",
     "output_type": "stream",
     "text": [
      "INFO:tensorflow:Assets written to: ./models/ran92_v2_arl/saved_models\\ran92_v2_ARL_training\\assets\n",
      "C:\\Users\\suman\\anaconda3\\envs\\p38\\lib\\site-packages\\keras\\engine\\functional.py:1410: CustomMaskWarning: Custom mask layers require a config and must override get_config. When loading, the custom mask layer must be passed to the custom_objects argument.\n",
      "  layer_config = serialize_layer_fn(layer)\n",
      "C:\\Users\\suman\\anaconda3\\envs\\p38\\lib\\site-packages\\keras\\saving\\saved_model\\layer_serialization.py:112: CustomMaskWarning: Custom mask layers require a config and must override get_config. When loading, the custom mask layer must be passed to the custom_objects argument.\n",
      "  return generic_utils.serialize_keras_object(obj)\n"
     ]
    },
    {
     "name": "stdout",
     "output_type": "stream",
     "text": [
      "625/625 [==============================] - 185s 296ms/step - loss: 0.7646 - accuracy: 0.7329 - val_loss: 1.0273 - val_accuracy: 0.6454 - lr: 0.0010\n",
      "Epoch 17/100\n",
      "625/625 [==============================] - ETA: 0s - loss: 0.7333 - accuracy: 0.7446\n",
      "Epoch 00017: loss improved from 0.76458 to 0.73326, saving model to ./models/ran92_v2_arl/saved_models\\ran92_v2_ARL_training\n"
     ]
    },
    {
     "name": "stderr",
     "output_type": "stream",
     "text": [
      "WARNING:absl:Function `_wrapped_model` contains input name(s) Model_Input with unsupported characters which will be renamed to model_input in the SavedModel.\n"
     ]
    },
    {
     "name": "stdout",
     "output_type": "stream",
     "text": [
      "INFO:tensorflow:Assets written to: ./models/ran92_v2_arl/saved_models\\ran92_v2_ARL_training\\assets\n"
     ]
    },
    {
     "name": "stderr",
     "output_type": "stream",
     "text": [
      "INFO:tensorflow:Assets written to: ./models/ran92_v2_arl/saved_models\\ran92_v2_ARL_training\\assets\n",
      "C:\\Users\\suman\\anaconda3\\envs\\p38\\lib\\site-packages\\keras\\engine\\functional.py:1410: CustomMaskWarning: Custom mask layers require a config and must override get_config. When loading, the custom mask layer must be passed to the custom_objects argument.\n",
      "  layer_config = serialize_layer_fn(layer)\n",
      "C:\\Users\\suman\\anaconda3\\envs\\p38\\lib\\site-packages\\keras\\saving\\saved_model\\layer_serialization.py:112: CustomMaskWarning: Custom mask layers require a config and must override get_config. When loading, the custom mask layer must be passed to the custom_objects argument.\n",
      "  return generic_utils.serialize_keras_object(obj)\n"
     ]
    },
    {
     "name": "stdout",
     "output_type": "stream",
     "text": [
      "625/625 [==============================] - 184s 294ms/step - loss: 0.7333 - accuracy: 0.7446 - val_loss: 1.0937 - val_accuracy: 0.6276 - lr: 0.0010\n",
      "Epoch 18/100\n",
      "625/625 [==============================] - ETA: 0s - loss: 0.7016 - accuracy: 0.7552\n",
      "Epoch 00018: loss improved from 0.73326 to 0.70159, saving model to ./models/ran92_v2_arl/saved_models\\ran92_v2_ARL_training\n"
     ]
    },
    {
     "name": "stderr",
     "output_type": "stream",
     "text": [
      "WARNING:absl:Function `_wrapped_model` contains input name(s) Model_Input with unsupported characters which will be renamed to model_input in the SavedModel.\n"
     ]
    },
    {
     "name": "stdout",
     "output_type": "stream",
     "text": [
      "INFO:tensorflow:Assets written to: ./models/ran92_v2_arl/saved_models\\ran92_v2_ARL_training\\assets\n"
     ]
    },
    {
     "name": "stderr",
     "output_type": "stream",
     "text": [
      "INFO:tensorflow:Assets written to: ./models/ran92_v2_arl/saved_models\\ran92_v2_ARL_training\\assets\n",
      "C:\\Users\\suman\\anaconda3\\envs\\p38\\lib\\site-packages\\keras\\engine\\functional.py:1410: CustomMaskWarning: Custom mask layers require a config and must override get_config. When loading, the custom mask layer must be passed to the custom_objects argument.\n",
      "  layer_config = serialize_layer_fn(layer)\n",
      "C:\\Users\\suman\\anaconda3\\envs\\p38\\lib\\site-packages\\keras\\saving\\saved_model\\layer_serialization.py:112: CustomMaskWarning: Custom mask layers require a config and must override get_config. When loading, the custom mask layer must be passed to the custom_objects argument.\n",
      "  return generic_utils.serialize_keras_object(obj)\n"
     ]
    },
    {
     "name": "stdout",
     "output_type": "stream",
     "text": [
      "625/625 [==============================] - 185s 297ms/step - loss: 0.7016 - accuracy: 0.7552 - val_loss: 0.9756 - val_accuracy: 0.6523 - lr: 0.0010\n",
      "Epoch 19/100\n",
      "625/625 [==============================] - ETA: 0s - loss: 0.6917 - accuracy: 0.7591\n",
      "Epoch 00019: loss improved from 0.70159 to 0.69174, saving model to ./models/ran92_v2_arl/saved_models\\ran92_v2_ARL_training\n"
     ]
    },
    {
     "name": "stderr",
     "output_type": "stream",
     "text": [
      "WARNING:absl:Function `_wrapped_model` contains input name(s) Model_Input with unsupported characters which will be renamed to model_input in the SavedModel.\n"
     ]
    },
    {
     "name": "stdout",
     "output_type": "stream",
     "text": [
      "INFO:tensorflow:Assets written to: ./models/ran92_v2_arl/saved_models\\ran92_v2_ARL_training\\assets\n"
     ]
    },
    {
     "name": "stderr",
     "output_type": "stream",
     "text": [
      "INFO:tensorflow:Assets written to: ./models/ran92_v2_arl/saved_models\\ran92_v2_ARL_training\\assets\n",
      "C:\\Users\\suman\\anaconda3\\envs\\p38\\lib\\site-packages\\keras\\engine\\functional.py:1410: CustomMaskWarning: Custom mask layers require a config and must override get_config. When loading, the custom mask layer must be passed to the custom_objects argument.\n",
      "  layer_config = serialize_layer_fn(layer)\n",
      "C:\\Users\\suman\\anaconda3\\envs\\p38\\lib\\site-packages\\keras\\saving\\saved_model\\layer_serialization.py:112: CustomMaskWarning: Custom mask layers require a config and must override get_config. When loading, the custom mask layer must be passed to the custom_objects argument.\n",
      "  return generic_utils.serialize_keras_object(obj)\n"
     ]
    },
    {
     "name": "stdout",
     "output_type": "stream",
     "text": [
      "625/625 [==============================] - 186s 297ms/step - loss: 0.6917 - accuracy: 0.7591 - val_loss: 0.9555 - val_accuracy: 0.6878 - lr: 0.0010\n",
      "Epoch 20/100\n",
      "625/625 [==============================] - ETA: 0s - loss: 0.6559 - accuracy: 0.7729\n",
      "Epoch 00020: loss improved from 0.69174 to 0.65593, saving model to ./models/ran92_v2_arl/saved_models\\ran92_v2_ARL_training\n"
     ]
    },
    {
     "name": "stderr",
     "output_type": "stream",
     "text": [
      "WARNING:absl:Function `_wrapped_model` contains input name(s) Model_Input with unsupported characters which will be renamed to model_input in the SavedModel.\n"
     ]
    },
    {
     "name": "stdout",
     "output_type": "stream",
     "text": [
      "INFO:tensorflow:Assets written to: ./models/ran92_v2_arl/saved_models\\ran92_v2_ARL_training\\assets\n"
     ]
    },
    {
     "name": "stderr",
     "output_type": "stream",
     "text": [
      "INFO:tensorflow:Assets written to: ./models/ran92_v2_arl/saved_models\\ran92_v2_ARL_training\\assets\n",
      "C:\\Users\\suman\\anaconda3\\envs\\p38\\lib\\site-packages\\keras\\engine\\functional.py:1410: CustomMaskWarning: Custom mask layers require a config and must override get_config. When loading, the custom mask layer must be passed to the custom_objects argument.\n",
      "  layer_config = serialize_layer_fn(layer)\n",
      "C:\\Users\\suman\\anaconda3\\envs\\p38\\lib\\site-packages\\keras\\saving\\saved_model\\layer_serialization.py:112: CustomMaskWarning: Custom mask layers require a config and must override get_config. When loading, the custom mask layer must be passed to the custom_objects argument.\n",
      "  return generic_utils.serialize_keras_object(obj)\n"
     ]
    },
    {
     "name": "stdout",
     "output_type": "stream",
     "text": [
      "625/625 [==============================] - 185s 296ms/step - loss: 0.6559 - accuracy: 0.7729 - val_loss: 0.8526 - val_accuracy: 0.7030 - lr: 0.0010\n",
      "Epoch 21/100\n",
      "625/625 [==============================] - ETA: 0s - loss: 0.6383 - accuracy: 0.7776\n",
      "Epoch 00021: loss improved from 0.65593 to 0.63828, saving model to ./models/ran92_v2_arl/saved_models\\ran92_v2_ARL_training\n"
     ]
    },
    {
     "name": "stderr",
     "output_type": "stream",
     "text": [
      "WARNING:absl:Function `_wrapped_model` contains input name(s) Model_Input with unsupported characters which will be renamed to model_input in the SavedModel.\n"
     ]
    },
    {
     "name": "stdout",
     "output_type": "stream",
     "text": [
      "INFO:tensorflow:Assets written to: ./models/ran92_v2_arl/saved_models\\ran92_v2_ARL_training\\assets\n"
     ]
    },
    {
     "name": "stderr",
     "output_type": "stream",
     "text": [
      "INFO:tensorflow:Assets written to: ./models/ran92_v2_arl/saved_models\\ran92_v2_ARL_training\\assets\n",
      "C:\\Users\\suman\\anaconda3\\envs\\p38\\lib\\site-packages\\keras\\engine\\functional.py:1410: CustomMaskWarning: Custom mask layers require a config and must override get_config. When loading, the custom mask layer must be passed to the custom_objects argument.\n",
      "  layer_config = serialize_layer_fn(layer)\n",
      "C:\\Users\\suman\\anaconda3\\envs\\p38\\lib\\site-packages\\keras\\saving\\saved_model\\layer_serialization.py:112: CustomMaskWarning: Custom mask layers require a config and must override get_config. When loading, the custom mask layer must be passed to the custom_objects argument.\n",
      "  return generic_utils.serialize_keras_object(obj)\n"
     ]
    },
    {
     "name": "stdout",
     "output_type": "stream",
     "text": [
      "625/625 [==============================] - 185s 296ms/step - loss: 0.6383 - accuracy: 0.7776 - val_loss: 0.7903 - val_accuracy: 0.7217 - lr: 0.0010\n",
      "Epoch 22/100\n",
      "625/625 [==============================] - ETA: 0s - loss: 0.6136 - accuracy: 0.7873\n",
      "Epoch 00022: loss improved from 0.63828 to 0.61362, saving model to ./models/ran92_v2_arl/saved_models\\ran92_v2_ARL_training\n"
     ]
    },
    {
     "name": "stderr",
     "output_type": "stream",
     "text": [
      "WARNING:absl:Function `_wrapped_model` contains input name(s) Model_Input with unsupported characters which will be renamed to model_input in the SavedModel.\n"
     ]
    },
    {
     "name": "stdout",
     "output_type": "stream",
     "text": [
      "INFO:tensorflow:Assets written to: ./models/ran92_v2_arl/saved_models\\ran92_v2_ARL_training\\assets\n"
     ]
    },
    {
     "name": "stderr",
     "output_type": "stream",
     "text": [
      "INFO:tensorflow:Assets written to: ./models/ran92_v2_arl/saved_models\\ran92_v2_ARL_training\\assets\n",
      "C:\\Users\\suman\\anaconda3\\envs\\p38\\lib\\site-packages\\keras\\engine\\functional.py:1410: CustomMaskWarning: Custom mask layers require a config and must override get_config. When loading, the custom mask layer must be passed to the custom_objects argument.\n",
      "  layer_config = serialize_layer_fn(layer)\n",
      "C:\\Users\\suman\\anaconda3\\envs\\p38\\lib\\site-packages\\keras\\saving\\saved_model\\layer_serialization.py:112: CustomMaskWarning: Custom mask layers require a config and must override get_config. When loading, the custom mask layer must be passed to the custom_objects argument.\n",
      "  return generic_utils.serialize_keras_object(obj)\n"
     ]
    },
    {
     "name": "stdout",
     "output_type": "stream",
     "text": [
      "625/625 [==============================] - 185s 297ms/step - loss: 0.6136 - accuracy: 0.7873 - val_loss: 0.9562 - val_accuracy: 0.6822 - lr: 0.0010\n",
      "Epoch 23/100\n",
      "625/625 [==============================] - ETA: 0s - loss: 0.5980 - accuracy: 0.7940\n",
      "Epoch 00023: loss improved from 0.61362 to 0.59804, saving model to ./models/ran92_v2_arl/saved_models\\ran92_v2_ARL_training\n"
     ]
    },
    {
     "name": "stderr",
     "output_type": "stream",
     "text": [
      "WARNING:absl:Function `_wrapped_model` contains input name(s) Model_Input with unsupported characters which will be renamed to model_input in the SavedModel.\n"
     ]
    },
    {
     "name": "stdout",
     "output_type": "stream",
     "text": [
      "INFO:tensorflow:Assets written to: ./models/ran92_v2_arl/saved_models\\ran92_v2_ARL_training\\assets\n"
     ]
    },
    {
     "name": "stderr",
     "output_type": "stream",
     "text": [
      "INFO:tensorflow:Assets written to: ./models/ran92_v2_arl/saved_models\\ran92_v2_ARL_training\\assets\n",
      "C:\\Users\\suman\\anaconda3\\envs\\p38\\lib\\site-packages\\keras\\engine\\functional.py:1410: CustomMaskWarning: Custom mask layers require a config and must override get_config. When loading, the custom mask layer must be passed to the custom_objects argument.\n",
      "  layer_config = serialize_layer_fn(layer)\n",
      "C:\\Users\\suman\\anaconda3\\envs\\p38\\lib\\site-packages\\keras\\saving\\saved_model\\layer_serialization.py:112: CustomMaskWarning: Custom mask layers require a config and must override get_config. When loading, the custom mask layer must be passed to the custom_objects argument.\n",
      "  return generic_utils.serialize_keras_object(obj)\n"
     ]
    },
    {
     "name": "stdout",
     "output_type": "stream",
     "text": [
      "625/625 [==============================] - 184s 294ms/step - loss: 0.5980 - accuracy: 0.7940 - val_loss: 0.9152 - val_accuracy: 0.6965 - lr: 0.0010\n",
      "Epoch 24/100\n",
      "625/625 [==============================] - ETA: 0s - loss: 0.5832 - accuracy: 0.7986\n",
      "Epoch 00024: loss improved from 0.59804 to 0.58323, saving model to ./models/ran92_v2_arl/saved_models\\ran92_v2_ARL_training\n"
     ]
    },
    {
     "name": "stderr",
     "output_type": "stream",
     "text": [
      "WARNING:absl:Function `_wrapped_model` contains input name(s) Model_Input with unsupported characters which will be renamed to model_input in the SavedModel.\n"
     ]
    },
    {
     "name": "stdout",
     "output_type": "stream",
     "text": [
      "INFO:tensorflow:Assets written to: ./models/ran92_v2_arl/saved_models\\ran92_v2_ARL_training\\assets\n"
     ]
    },
    {
     "name": "stderr",
     "output_type": "stream",
     "text": [
      "INFO:tensorflow:Assets written to: ./models/ran92_v2_arl/saved_models\\ran92_v2_ARL_training\\assets\n",
      "C:\\Users\\suman\\anaconda3\\envs\\p38\\lib\\site-packages\\keras\\engine\\functional.py:1410: CustomMaskWarning: Custom mask layers require a config and must override get_config. When loading, the custom mask layer must be passed to the custom_objects argument.\n",
      "  layer_config = serialize_layer_fn(layer)\n",
      "C:\\Users\\suman\\anaconda3\\envs\\p38\\lib\\site-packages\\keras\\saving\\saved_model\\layer_serialization.py:112: CustomMaskWarning: Custom mask layers require a config and must override get_config. When loading, the custom mask layer must be passed to the custom_objects argument.\n",
      "  return generic_utils.serialize_keras_object(obj)\n"
     ]
    },
    {
     "name": "stdout",
     "output_type": "stream",
     "text": [
      "625/625 [==============================] - 183s 293ms/step - loss: 0.5832 - accuracy: 0.7986 - val_loss: 1.1901 - val_accuracy: 0.6463 - lr: 0.0010\n",
      "Epoch 25/100\n",
      "625/625 [==============================] - ETA: 0s - loss: 0.5645 - accuracy: 0.8059\n",
      "Epoch 00025: loss improved from 0.58323 to 0.56445, saving model to ./models/ran92_v2_arl/saved_models\\ran92_v2_ARL_training\n"
     ]
    },
    {
     "name": "stderr",
     "output_type": "stream",
     "text": [
      "WARNING:absl:Function `_wrapped_model` contains input name(s) Model_Input with unsupported characters which will be renamed to model_input in the SavedModel.\n"
     ]
    },
    {
     "name": "stdout",
     "output_type": "stream",
     "text": [
      "INFO:tensorflow:Assets written to: ./models/ran92_v2_arl/saved_models\\ran92_v2_ARL_training\\assets\n"
     ]
    },
    {
     "name": "stderr",
     "output_type": "stream",
     "text": [
      "INFO:tensorflow:Assets written to: ./models/ran92_v2_arl/saved_models\\ran92_v2_ARL_training\\assets\n",
      "C:\\Users\\suman\\anaconda3\\envs\\p38\\lib\\site-packages\\keras\\engine\\functional.py:1410: CustomMaskWarning: Custom mask layers require a config and must override get_config. When loading, the custom mask layer must be passed to the custom_objects argument.\n",
      "  layer_config = serialize_layer_fn(layer)\n",
      "C:\\Users\\suman\\anaconda3\\envs\\p38\\lib\\site-packages\\keras\\saving\\saved_model\\layer_serialization.py:112: CustomMaskWarning: Custom mask layers require a config and must override get_config. When loading, the custom mask layer must be passed to the custom_objects argument.\n",
      "  return generic_utils.serialize_keras_object(obj)\n"
     ]
    },
    {
     "name": "stdout",
     "output_type": "stream",
     "text": [
      "625/625 [==============================] - 183s 293ms/step - loss: 0.5645 - accuracy: 0.8059 - val_loss: 0.7875 - val_accuracy: 0.7348 - lr: 0.0010\n",
      "Epoch 26/100\n",
      "625/625 [==============================] - ETA: 0s - loss: 0.5469 - accuracy: 0.8104\n",
      "Epoch 00026: loss improved from 0.56445 to 0.54691, saving model to ./models/ran92_v2_arl/saved_models\\ran92_v2_ARL_training\n"
     ]
    },
    {
     "name": "stderr",
     "output_type": "stream",
     "text": [
      "WARNING:absl:Function `_wrapped_model` contains input name(s) Model_Input with unsupported characters which will be renamed to model_input in the SavedModel.\n"
     ]
    },
    {
     "name": "stdout",
     "output_type": "stream",
     "text": [
      "INFO:tensorflow:Assets written to: ./models/ran92_v2_arl/saved_models\\ran92_v2_ARL_training\\assets\n"
     ]
    },
    {
     "name": "stderr",
     "output_type": "stream",
     "text": [
      "INFO:tensorflow:Assets written to: ./models/ran92_v2_arl/saved_models\\ran92_v2_ARL_training\\assets\n",
      "C:\\Users\\suman\\anaconda3\\envs\\p38\\lib\\site-packages\\keras\\engine\\functional.py:1410: CustomMaskWarning: Custom mask layers require a config and must override get_config. When loading, the custom mask layer must be passed to the custom_objects argument.\n",
      "  layer_config = serialize_layer_fn(layer)\n",
      "C:\\Users\\suman\\anaconda3\\envs\\p38\\lib\\site-packages\\keras\\saving\\saved_model\\layer_serialization.py:112: CustomMaskWarning: Custom mask layers require a config and must override get_config. When loading, the custom mask layer must be passed to the custom_objects argument.\n",
      "  return generic_utils.serialize_keras_object(obj)\n"
     ]
    },
    {
     "name": "stdout",
     "output_type": "stream",
     "text": [
      "625/625 [==============================] - 183s 293ms/step - loss: 0.5469 - accuracy: 0.8104 - val_loss: 0.7925 - val_accuracy: 0.7298 - lr: 0.0010\n",
      "Epoch 27/100\n",
      "625/625 [==============================] - ETA: 0s - loss: 0.5312 - accuracy: 0.8163\n",
      "Epoch 00027: loss improved from 0.54691 to 0.53119, saving model to ./models/ran92_v2_arl/saved_models\\ran92_v2_ARL_training\n"
     ]
    },
    {
     "name": "stderr",
     "output_type": "stream",
     "text": [
      "WARNING:absl:Function `_wrapped_model` contains input name(s) Model_Input with unsupported characters which will be renamed to model_input in the SavedModel.\n"
     ]
    },
    {
     "name": "stdout",
     "output_type": "stream",
     "text": [
      "INFO:tensorflow:Assets written to: ./models/ran92_v2_arl/saved_models\\ran92_v2_ARL_training\\assets\n"
     ]
    },
    {
     "name": "stderr",
     "output_type": "stream",
     "text": [
      "INFO:tensorflow:Assets written to: ./models/ran92_v2_arl/saved_models\\ran92_v2_ARL_training\\assets\n",
      "C:\\Users\\suman\\anaconda3\\envs\\p38\\lib\\site-packages\\keras\\engine\\functional.py:1410: CustomMaskWarning: Custom mask layers require a config and must override get_config. When loading, the custom mask layer must be passed to the custom_objects argument.\n",
      "  layer_config = serialize_layer_fn(layer)\n",
      "C:\\Users\\suman\\anaconda3\\envs\\p38\\lib\\site-packages\\keras\\saving\\saved_model\\layer_serialization.py:112: CustomMaskWarning: Custom mask layers require a config and must override get_config. When loading, the custom mask layer must be passed to the custom_objects argument.\n",
      "  return generic_utils.serialize_keras_object(obj)\n"
     ]
    },
    {
     "name": "stdout",
     "output_type": "stream",
     "text": [
      "625/625 [==============================] - 183s 293ms/step - loss: 0.5312 - accuracy: 0.8163 - val_loss: 0.8843 - val_accuracy: 0.7114 - lr: 0.0010\n",
      "Epoch 28/100\n",
      "625/625 [==============================] - ETA: 0s - loss: 0.5217 - accuracy: 0.8216\n",
      "Epoch 00028: loss improved from 0.53119 to 0.52174, saving model to ./models/ran92_v2_arl/saved_models\\ran92_v2_ARL_training\n"
     ]
    },
    {
     "name": "stderr",
     "output_type": "stream",
     "text": [
      "WARNING:absl:Function `_wrapped_model` contains input name(s) Model_Input with unsupported characters which will be renamed to model_input in the SavedModel.\n"
     ]
    },
    {
     "name": "stdout",
     "output_type": "stream",
     "text": [
      "INFO:tensorflow:Assets written to: ./models/ran92_v2_arl/saved_models\\ran92_v2_ARL_training\\assets\n"
     ]
    },
    {
     "name": "stderr",
     "output_type": "stream",
     "text": [
      "INFO:tensorflow:Assets written to: ./models/ran92_v2_arl/saved_models\\ran92_v2_ARL_training\\assets\n",
      "C:\\Users\\suman\\anaconda3\\envs\\p38\\lib\\site-packages\\keras\\engine\\functional.py:1410: CustomMaskWarning: Custom mask layers require a config and must override get_config. When loading, the custom mask layer must be passed to the custom_objects argument.\n",
      "  layer_config = serialize_layer_fn(layer)\n",
      "C:\\Users\\suman\\anaconda3\\envs\\p38\\lib\\site-packages\\keras\\saving\\saved_model\\layer_serialization.py:112: CustomMaskWarning: Custom mask layers require a config and must override get_config. When loading, the custom mask layer must be passed to the custom_objects argument.\n",
      "  return generic_utils.serialize_keras_object(obj)\n"
     ]
    },
    {
     "name": "stdout",
     "output_type": "stream",
     "text": [
      "625/625 [==============================] - 183s 293ms/step - loss: 0.5217 - accuracy: 0.8216 - val_loss: 1.2924 - val_accuracy: 0.6398 - lr: 0.0010\n",
      "Epoch 29/100\n",
      "625/625 [==============================] - ETA: 0s - loss: 0.5098 - accuracy: 0.8238\n",
      "Epoch 00029: loss improved from 0.52174 to 0.50977, saving model to ./models/ran92_v2_arl/saved_models\\ran92_v2_ARL_training\n"
     ]
    },
    {
     "name": "stderr",
     "output_type": "stream",
     "text": [
      "WARNING:absl:Function `_wrapped_model` contains input name(s) Model_Input with unsupported characters which will be renamed to model_input in the SavedModel.\n"
     ]
    },
    {
     "name": "stdout",
     "output_type": "stream",
     "text": [
      "INFO:tensorflow:Assets written to: ./models/ran92_v2_arl/saved_models\\ran92_v2_ARL_training\\assets\n"
     ]
    },
    {
     "name": "stderr",
     "output_type": "stream",
     "text": [
      "INFO:tensorflow:Assets written to: ./models/ran92_v2_arl/saved_models\\ran92_v2_ARL_training\\assets\n",
      "C:\\Users\\suman\\anaconda3\\envs\\p38\\lib\\site-packages\\keras\\engine\\functional.py:1410: CustomMaskWarning: Custom mask layers require a config and must override get_config. When loading, the custom mask layer must be passed to the custom_objects argument.\n",
      "  layer_config = serialize_layer_fn(layer)\n"
     ]
    },
    {
     "name": "stdout",
     "output_type": "stream",
     "text": [
      "625/625 [==============================] - 191s 305ms/step - loss: 0.5098 - accuracy: 0.8238 - val_loss: 0.7783 - val_accuracy: 0.7290 - lr: 0.0010\n"
     ]
    },
    {
     "name": "stderr",
     "output_type": "stream",
     "text": [
      "C:\\Users\\suman\\anaconda3\\envs\\p38\\lib\\site-packages\\keras\\saving\\saved_model\\layer_serialization.py:112: CustomMaskWarning: Custom mask layers require a config and must override get_config. When loading, the custom mask layer must be passed to the custom_objects argument.\n",
      "  return generic_utils.serialize_keras_object(obj)\n"
     ]
    },
    {
     "name": "stdout",
     "output_type": "stream",
     "text": [
      "Epoch 30/100\n",
      "625/625 [==============================] - ETA: 0s - loss: 0.4974 - accuracy: 0.8288\n",
      "Epoch 00030: loss improved from 0.50977 to 0.49743, saving model to ./models/ran92_v2_arl/saved_models\\ran92_v2_ARL_training\n"
     ]
    },
    {
     "name": "stderr",
     "output_type": "stream",
     "text": [
      "WARNING:absl:Function `_wrapped_model` contains input name(s) Model_Input with unsupported characters which will be renamed to model_input in the SavedModel.\n"
     ]
    },
    {
     "name": "stdout",
     "output_type": "stream",
     "text": [
      "INFO:tensorflow:Assets written to: ./models/ran92_v2_arl/saved_models\\ran92_v2_ARL_training\\assets\n"
     ]
    },
    {
     "name": "stderr",
     "output_type": "stream",
     "text": [
      "INFO:tensorflow:Assets written to: ./models/ran92_v2_arl/saved_models\\ran92_v2_ARL_training\\assets\n",
      "C:\\Users\\suman\\anaconda3\\envs\\p38\\lib\\site-packages\\keras\\engine\\functional.py:1410: CustomMaskWarning: Custom mask layers require a config and must override get_config. When loading, the custom mask layer must be passed to the custom_objects argument.\n",
      "  layer_config = serialize_layer_fn(layer)\n",
      "C:\\Users\\suman\\anaconda3\\envs\\p38\\lib\\site-packages\\keras\\saving\\saved_model\\layer_serialization.py:112: CustomMaskWarning: Custom mask layers require a config and must override get_config. When loading, the custom mask layer must be passed to the custom_objects argument.\n",
      "  return generic_utils.serialize_keras_object(obj)\n"
     ]
    },
    {
     "name": "stdout",
     "output_type": "stream",
     "text": [
      "625/625 [==============================] - 194s 311ms/step - loss: 0.4974 - accuracy: 0.8288 - val_loss: 0.8056 - val_accuracy: 0.7252 - lr: 0.0010\n",
      "Epoch 31/100\n",
      "625/625 [==============================] - ETA: 0s - loss: 0.4809 - accuracy: 0.8336\n",
      "Epoch 00031: loss improved from 0.49743 to 0.48087, saving model to ./models/ran92_v2_arl/saved_models\\ran92_v2_ARL_training\n"
     ]
    },
    {
     "name": "stderr",
     "output_type": "stream",
     "text": [
      "WARNING:absl:Function `_wrapped_model` contains input name(s) Model_Input with unsupported characters which will be renamed to model_input in the SavedModel.\n"
     ]
    },
    {
     "name": "stdout",
     "output_type": "stream",
     "text": [
      "INFO:tensorflow:Assets written to: ./models/ran92_v2_arl/saved_models\\ran92_v2_ARL_training\\assets\n"
     ]
    },
    {
     "name": "stderr",
     "output_type": "stream",
     "text": [
      "INFO:tensorflow:Assets written to: ./models/ran92_v2_arl/saved_models\\ran92_v2_ARL_training\\assets\n",
      "C:\\Users\\suman\\anaconda3\\envs\\p38\\lib\\site-packages\\keras\\engine\\functional.py:1410: CustomMaskWarning: Custom mask layers require a config and must override get_config. When loading, the custom mask layer must be passed to the custom_objects argument.\n",
      "  layer_config = serialize_layer_fn(layer)\n",
      "C:\\Users\\suman\\anaconda3\\envs\\p38\\lib\\site-packages\\keras\\saving\\saved_model\\layer_serialization.py:112: CustomMaskWarning: Custom mask layers require a config and must override get_config. When loading, the custom mask layer must be passed to the custom_objects argument.\n",
      "  return generic_utils.serialize_keras_object(obj)\n"
     ]
    },
    {
     "name": "stdout",
     "output_type": "stream",
     "text": [
      "625/625 [==============================] - 187s 300ms/step - loss: 0.4809 - accuracy: 0.8336 - val_loss: 0.8011 - val_accuracy: 0.7357 - lr: 0.0010\n",
      "Epoch 32/100\n",
      "625/625 [==============================] - ETA: 0s - loss: 0.4707 - accuracy: 0.8372\n",
      "Epoch 00032: loss improved from 0.48087 to 0.47068, saving model to ./models/ran92_v2_arl/saved_models\\ran92_v2_ARL_training\n"
     ]
    },
    {
     "name": "stderr",
     "output_type": "stream",
     "text": [
      "WARNING:absl:Function `_wrapped_model` contains input name(s) Model_Input with unsupported characters which will be renamed to model_input in the SavedModel.\n"
     ]
    },
    {
     "name": "stdout",
     "output_type": "stream",
     "text": [
      "INFO:tensorflow:Assets written to: ./models/ran92_v2_arl/saved_models\\ran92_v2_ARL_training\\assets\n"
     ]
    },
    {
     "name": "stderr",
     "output_type": "stream",
     "text": [
      "INFO:tensorflow:Assets written to: ./models/ran92_v2_arl/saved_models\\ran92_v2_ARL_training\\assets\n",
      "C:\\Users\\suman\\anaconda3\\envs\\p38\\lib\\site-packages\\keras\\engine\\functional.py:1410: CustomMaskWarning: Custom mask layers require a config and must override get_config. When loading, the custom mask layer must be passed to the custom_objects argument.\n",
      "  layer_config = serialize_layer_fn(layer)\n",
      "C:\\Users\\suman\\anaconda3\\envs\\p38\\lib\\site-packages\\keras\\saving\\saved_model\\layer_serialization.py:112: CustomMaskWarning: Custom mask layers require a config and must override get_config. When loading, the custom mask layer must be passed to the custom_objects argument.\n",
      "  return generic_utils.serialize_keras_object(obj)\n"
     ]
    },
    {
     "name": "stdout",
     "output_type": "stream",
     "text": [
      "625/625 [==============================] - 187s 300ms/step - loss: 0.4707 - accuracy: 0.8372 - val_loss: 0.9409 - val_accuracy: 0.6955 - lr: 0.0010\n",
      "Epoch 33/100\n",
      "625/625 [==============================] - ETA: 0s - loss: 0.4510 - accuracy: 0.8431\n",
      "Epoch 00033: loss improved from 0.47068 to 0.45097, saving model to ./models/ran92_v2_arl/saved_models\\ran92_v2_ARL_training\n"
     ]
    },
    {
     "name": "stderr",
     "output_type": "stream",
     "text": [
      "WARNING:absl:Function `_wrapped_model` contains input name(s) Model_Input with unsupported characters which will be renamed to model_input in the SavedModel.\n"
     ]
    },
    {
     "name": "stdout",
     "output_type": "stream",
     "text": [
      "INFO:tensorflow:Assets written to: ./models/ran92_v2_arl/saved_models\\ran92_v2_ARL_training\\assets\n"
     ]
    },
    {
     "name": "stderr",
     "output_type": "stream",
     "text": [
      "INFO:tensorflow:Assets written to: ./models/ran92_v2_arl/saved_models\\ran92_v2_ARL_training\\assets\n",
      "C:\\Users\\suman\\anaconda3\\envs\\p38\\lib\\site-packages\\keras\\engine\\functional.py:1410: CustomMaskWarning: Custom mask layers require a config and must override get_config. When loading, the custom mask layer must be passed to the custom_objects argument.\n",
      "  layer_config = serialize_layer_fn(layer)\n",
      "C:\\Users\\suman\\anaconda3\\envs\\p38\\lib\\site-packages\\keras\\saving\\saved_model\\layer_serialization.py:112: CustomMaskWarning: Custom mask layers require a config and must override get_config. When loading, the custom mask layer must be passed to the custom_objects argument.\n",
      "  return generic_utils.serialize_keras_object(obj)\n"
     ]
    },
    {
     "name": "stdout",
     "output_type": "stream",
     "text": [
      "625/625 [==============================] - 188s 302ms/step - loss: 0.4510 - accuracy: 0.8431 - val_loss: 1.0885 - val_accuracy: 0.6898 - lr: 0.0010\n",
      "Epoch 34/100\n",
      "625/625 [==============================] - ETA: 0s - loss: 0.4477 - accuracy: 0.8445\n",
      "Epoch 00034: loss improved from 0.45097 to 0.44771, saving model to ./models/ran92_v2_arl/saved_models\\ran92_v2_ARL_training\n"
     ]
    },
    {
     "name": "stderr",
     "output_type": "stream",
     "text": [
      "WARNING:absl:Function `_wrapped_model` contains input name(s) Model_Input with unsupported characters which will be renamed to model_input in the SavedModel.\n"
     ]
    },
    {
     "name": "stdout",
     "output_type": "stream",
     "text": [
      "INFO:tensorflow:Assets written to: ./models/ran92_v2_arl/saved_models\\ran92_v2_ARL_training\\assets\n"
     ]
    },
    {
     "name": "stderr",
     "output_type": "stream",
     "text": [
      "INFO:tensorflow:Assets written to: ./models/ran92_v2_arl/saved_models\\ran92_v2_ARL_training\\assets\n",
      "C:\\Users\\suman\\anaconda3\\envs\\p38\\lib\\site-packages\\keras\\engine\\functional.py:1410: CustomMaskWarning: Custom mask layers require a config and must override get_config. When loading, the custom mask layer must be passed to the custom_objects argument.\n",
      "  layer_config = serialize_layer_fn(layer)\n",
      "C:\\Users\\suman\\anaconda3\\envs\\p38\\lib\\site-packages\\keras\\saving\\saved_model\\layer_serialization.py:112: CustomMaskWarning: Custom mask layers require a config and must override get_config. When loading, the custom mask layer must be passed to the custom_objects argument.\n",
      "  return generic_utils.serialize_keras_object(obj)\n"
     ]
    },
    {
     "name": "stdout",
     "output_type": "stream",
     "text": [
      "625/625 [==============================] - 188s 301ms/step - loss: 0.4477 - accuracy: 0.8445 - val_loss: 0.6497 - val_accuracy: 0.7690 - lr: 0.0010\n",
      "Epoch 35/100\n",
      "625/625 [==============================] - ETA: 0s - loss: 0.4360 - accuracy: 0.8498\n",
      "Epoch 00035: loss improved from 0.44771 to 0.43597, saving model to ./models/ran92_v2_arl/saved_models\\ran92_v2_ARL_training\n"
     ]
    },
    {
     "name": "stderr",
     "output_type": "stream",
     "text": [
      "WARNING:absl:Function `_wrapped_model` contains input name(s) Model_Input with unsupported characters which will be renamed to model_input in the SavedModel.\n"
     ]
    },
    {
     "name": "stdout",
     "output_type": "stream",
     "text": [
      "INFO:tensorflow:Assets written to: ./models/ran92_v2_arl/saved_models\\ran92_v2_ARL_training\\assets\n"
     ]
    },
    {
     "name": "stderr",
     "output_type": "stream",
     "text": [
      "INFO:tensorflow:Assets written to: ./models/ran92_v2_arl/saved_models\\ran92_v2_ARL_training\\assets\n",
      "C:\\Users\\suman\\anaconda3\\envs\\p38\\lib\\site-packages\\keras\\engine\\functional.py:1410: CustomMaskWarning: Custom mask layers require a config and must override get_config. When loading, the custom mask layer must be passed to the custom_objects argument.\n",
      "  layer_config = serialize_layer_fn(layer)\n",
      "C:\\Users\\suman\\anaconda3\\envs\\p38\\lib\\site-packages\\keras\\saving\\saved_model\\layer_serialization.py:112: CustomMaskWarning: Custom mask layers require a config and must override get_config. When loading, the custom mask layer must be passed to the custom_objects argument.\n",
      "  return generic_utils.serialize_keras_object(obj)\n"
     ]
    },
    {
     "name": "stdout",
     "output_type": "stream",
     "text": [
      "625/625 [==============================] - 187s 300ms/step - loss: 0.4360 - accuracy: 0.8498 - val_loss: 0.6979 - val_accuracy: 0.7673 - lr: 0.0010\n",
      "Epoch 36/100\n",
      "625/625 [==============================] - ETA: 0s - loss: 0.4308 - accuracy: 0.8502\n",
      "Epoch 00036: loss improved from 0.43597 to 0.43078, saving model to ./models/ran92_v2_arl/saved_models\\ran92_v2_ARL_training\n"
     ]
    },
    {
     "name": "stderr",
     "output_type": "stream",
     "text": [
      "WARNING:absl:Function `_wrapped_model` contains input name(s) Model_Input with unsupported characters which will be renamed to model_input in the SavedModel.\n"
     ]
    },
    {
     "name": "stdout",
     "output_type": "stream",
     "text": [
      "INFO:tensorflow:Assets written to: ./models/ran92_v2_arl/saved_models\\ran92_v2_ARL_training\\assets\n"
     ]
    },
    {
     "name": "stderr",
     "output_type": "stream",
     "text": [
      "INFO:tensorflow:Assets written to: ./models/ran92_v2_arl/saved_models\\ran92_v2_ARL_training\\assets\n",
      "C:\\Users\\suman\\anaconda3\\envs\\p38\\lib\\site-packages\\keras\\engine\\functional.py:1410: CustomMaskWarning: Custom mask layers require a config and must override get_config. When loading, the custom mask layer must be passed to the custom_objects argument.\n",
      "  layer_config = serialize_layer_fn(layer)\n"
     ]
    },
    {
     "name": "stdout",
     "output_type": "stream",
     "text": [
      "625/625 [==============================] - 188s 301ms/step - loss: 0.4308 - accuracy: 0.8502 - val_loss: 0.7097 - val_accuracy: 0.7520 - lr: 0.0010\n",
      "Epoch 37/100\n",
      "625/625 [==============================] - ETA: 0s - loss: 0.4197 - accuracy: 0.8565\n",
      "Epoch 00037: loss improved from 0.43078 to 0.41971, saving model to ./models/ran92_v2_arl/saved_models\\ran92_v2_ARL_training\n"
     ]
    },
    {
     "name": "stderr",
     "output_type": "stream",
     "text": [
      "C:\\Users\\suman\\anaconda3\\envs\\p38\\lib\\site-packages\\keras\\saving\\saved_model\\layer_serialization.py:112: CustomMaskWarning: Custom mask layers require a config and must override get_config. When loading, the custom mask layer must be passed to the custom_objects argument.\n",
      "  return generic_utils.serialize_keras_object(obj)\n",
      "WARNING:absl:Function `_wrapped_model` contains input name(s) Model_Input with unsupported characters which will be renamed to model_input in the SavedModel.\n"
     ]
    },
    {
     "name": "stdout",
     "output_type": "stream",
     "text": [
      "INFO:tensorflow:Assets written to: ./models/ran92_v2_arl/saved_models\\ran92_v2_ARL_training\\assets\n"
     ]
    },
    {
     "name": "stderr",
     "output_type": "stream",
     "text": [
      "INFO:tensorflow:Assets written to: ./models/ran92_v2_arl/saved_models\\ran92_v2_ARL_training\\assets\n",
      "C:\\Users\\suman\\anaconda3\\envs\\p38\\lib\\site-packages\\keras\\engine\\functional.py:1410: CustomMaskWarning: Custom mask layers require a config and must override get_config. When loading, the custom mask layer must be passed to the custom_objects argument.\n",
      "  layer_config = serialize_layer_fn(layer)\n",
      "C:\\Users\\suman\\anaconda3\\envs\\p38\\lib\\site-packages\\keras\\saving\\saved_model\\layer_serialization.py:112: CustomMaskWarning: Custom mask layers require a config and must override get_config. When loading, the custom mask layer must be passed to the custom_objects argument.\n",
      "  return generic_utils.serialize_keras_object(obj)\n"
     ]
    },
    {
     "name": "stdout",
     "output_type": "stream",
     "text": [
      "625/625 [==============================] - 188s 301ms/step - loss: 0.4197 - accuracy: 0.8565 - val_loss: 0.8039 - val_accuracy: 0.7418 - lr: 0.0010\n",
      "Epoch 38/100\n",
      "625/625 [==============================] - ETA: 0s - loss: 0.4165 - accuracy: 0.8554\n",
      "Epoch 00038: loss improved from 0.41971 to 0.41646, saving model to ./models/ran92_v2_arl/saved_models\\ran92_v2_ARL_training\n"
     ]
    },
    {
     "name": "stderr",
     "output_type": "stream",
     "text": [
      "WARNING:absl:Function `_wrapped_model` contains input name(s) Model_Input with unsupported characters which will be renamed to model_input in the SavedModel.\n"
     ]
    },
    {
     "name": "stdout",
     "output_type": "stream",
     "text": [
      "INFO:tensorflow:Assets written to: ./models/ran92_v2_arl/saved_models\\ran92_v2_ARL_training\\assets\n"
     ]
    },
    {
     "name": "stderr",
     "output_type": "stream",
     "text": [
      "INFO:tensorflow:Assets written to: ./models/ran92_v2_arl/saved_models\\ran92_v2_ARL_training\\assets\n",
      "C:\\Users\\suman\\anaconda3\\envs\\p38\\lib\\site-packages\\keras\\engine\\functional.py:1410: CustomMaskWarning: Custom mask layers require a config and must override get_config. When loading, the custom mask layer must be passed to the custom_objects argument.\n",
      "  layer_config = serialize_layer_fn(layer)\n",
      "C:\\Users\\suman\\anaconda3\\envs\\p38\\lib\\site-packages\\keras\\saving\\saved_model\\layer_serialization.py:112: CustomMaskWarning: Custom mask layers require a config and must override get_config. When loading, the custom mask layer must be passed to the custom_objects argument.\n",
      "  return generic_utils.serialize_keras_object(obj)\n"
     ]
    },
    {
     "name": "stdout",
     "output_type": "stream",
     "text": [
      "625/625 [==============================] - 188s 300ms/step - loss: 0.4165 - accuracy: 0.8554 - val_loss: 0.6994 - val_accuracy: 0.7630 - lr: 0.0010\n",
      "Epoch 39/100\n",
      "625/625 [==============================] - ETA: 0s - loss: 0.4119 - accuracy: 0.8571\n",
      "Epoch 00039: loss improved from 0.41646 to 0.41191, saving model to ./models/ran92_v2_arl/saved_models\\ran92_v2_ARL_training\n"
     ]
    },
    {
     "name": "stderr",
     "output_type": "stream",
     "text": [
      "WARNING:absl:Function `_wrapped_model` contains input name(s) Model_Input with unsupported characters which will be renamed to model_input in the SavedModel.\n"
     ]
    },
    {
     "name": "stdout",
     "output_type": "stream",
     "text": [
      "INFO:tensorflow:Assets written to: ./models/ran92_v2_arl/saved_models\\ran92_v2_ARL_training\\assets\n"
     ]
    },
    {
     "name": "stderr",
     "output_type": "stream",
     "text": [
      "INFO:tensorflow:Assets written to: ./models/ran92_v2_arl/saved_models\\ran92_v2_ARL_training\\assets\n",
      "C:\\Users\\suman\\anaconda3\\envs\\p38\\lib\\site-packages\\keras\\engine\\functional.py:1410: CustomMaskWarning: Custom mask layers require a config and must override get_config. When loading, the custom mask layer must be passed to the custom_objects argument.\n",
      "  layer_config = serialize_layer_fn(layer)\n",
      "C:\\Users\\suman\\anaconda3\\envs\\p38\\lib\\site-packages\\keras\\saving\\saved_model\\layer_serialization.py:112: CustomMaskWarning: Custom mask layers require a config and must override get_config. When loading, the custom mask layer must be passed to the custom_objects argument.\n",
      "  return generic_utils.serialize_keras_object(obj)\n"
     ]
    },
    {
     "name": "stdout",
     "output_type": "stream",
     "text": [
      "625/625 [==============================] - 188s 301ms/step - loss: 0.4119 - accuracy: 0.8571 - val_loss: 0.5805 - val_accuracy: 0.7994 - lr: 0.0010\n",
      "Epoch 40/100\n",
      "625/625 [==============================] - ETA: 0s - loss: 0.3979 - accuracy: 0.8645\n",
      "Epoch 00040: loss improved from 0.41191 to 0.39785, saving model to ./models/ran92_v2_arl/saved_models\\ran92_v2_ARL_training\n"
     ]
    },
    {
     "name": "stderr",
     "output_type": "stream",
     "text": [
      "WARNING:absl:Function `_wrapped_model` contains input name(s) Model_Input with unsupported characters which will be renamed to model_input in the SavedModel.\n"
     ]
    },
    {
     "name": "stdout",
     "output_type": "stream",
     "text": [
      "INFO:tensorflow:Assets written to: ./models/ran92_v2_arl/saved_models\\ran92_v2_ARL_training\\assets\n"
     ]
    },
    {
     "name": "stderr",
     "output_type": "stream",
     "text": [
      "INFO:tensorflow:Assets written to: ./models/ran92_v2_arl/saved_models\\ran92_v2_ARL_training\\assets\n",
      "C:\\Users\\suman\\anaconda3\\envs\\p38\\lib\\site-packages\\keras\\engine\\functional.py:1410: CustomMaskWarning: Custom mask layers require a config and must override get_config. When loading, the custom mask layer must be passed to the custom_objects argument.\n",
      "  layer_config = serialize_layer_fn(layer)\n",
      "C:\\Users\\suman\\anaconda3\\envs\\p38\\lib\\site-packages\\keras\\saving\\saved_model\\layer_serialization.py:112: CustomMaskWarning: Custom mask layers require a config and must override get_config. When loading, the custom mask layer must be passed to the custom_objects argument.\n",
      "  return generic_utils.serialize_keras_object(obj)\n"
     ]
    },
    {
     "name": "stdout",
     "output_type": "stream",
     "text": [
      "625/625 [==============================] - 188s 300ms/step - loss: 0.3979 - accuracy: 0.8645 - val_loss: 0.8645 - val_accuracy: 0.7488 - lr: 0.0010\n",
      "Epoch 41/100\n",
      "625/625 [==============================] - ETA: 0s - loss: 0.3944 - accuracy: 0.8625\n",
      "Epoch 00041: loss improved from 0.39785 to 0.39440, saving model to ./models/ran92_v2_arl/saved_models\\ran92_v2_ARL_training\n"
     ]
    },
    {
     "name": "stderr",
     "output_type": "stream",
     "text": [
      "WARNING:absl:Function `_wrapped_model` contains input name(s) Model_Input with unsupported characters which will be renamed to model_input in the SavedModel.\n"
     ]
    },
    {
     "name": "stdout",
     "output_type": "stream",
     "text": [
      "INFO:tensorflow:Assets written to: ./models/ran92_v2_arl/saved_models\\ran92_v2_ARL_training\\assets\n"
     ]
    },
    {
     "name": "stderr",
     "output_type": "stream",
     "text": [
      "INFO:tensorflow:Assets written to: ./models/ran92_v2_arl/saved_models\\ran92_v2_ARL_training\\assets\n",
      "C:\\Users\\suman\\anaconda3\\envs\\p38\\lib\\site-packages\\keras\\engine\\functional.py:1410: CustomMaskWarning: Custom mask layers require a config and must override get_config. When loading, the custom mask layer must be passed to the custom_objects argument.\n",
      "  layer_config = serialize_layer_fn(layer)\n",
      "C:\\Users\\suman\\anaconda3\\envs\\p38\\lib\\site-packages\\keras\\saving\\saved_model\\layer_serialization.py:112: CustomMaskWarning: Custom mask layers require a config and must override get_config. When loading, the custom mask layer must be passed to the custom_objects argument.\n",
      "  return generic_utils.serialize_keras_object(obj)\n"
     ]
    },
    {
     "name": "stdout",
     "output_type": "stream",
     "text": [
      "625/625 [==============================] - 186s 297ms/step - loss: 0.3944 - accuracy: 0.8625 - val_loss: 0.6663 - val_accuracy: 0.7766 - lr: 0.0010\n",
      "Epoch 42/100\n",
      "625/625 [==============================] - ETA: 0s - loss: 0.3913 - accuracy: 0.8656\n",
      "Epoch 00042: loss improved from 0.39440 to 0.39130, saving model to ./models/ran92_v2_arl/saved_models\\ran92_v2_ARL_training\n"
     ]
    },
    {
     "name": "stderr",
     "output_type": "stream",
     "text": [
      "WARNING:absl:Function `_wrapped_model` contains input name(s) Model_Input with unsupported characters which will be renamed to model_input in the SavedModel.\n"
     ]
    },
    {
     "name": "stdout",
     "output_type": "stream",
     "text": [
      "INFO:tensorflow:Assets written to: ./models/ran92_v2_arl/saved_models\\ran92_v2_ARL_training\\assets\n"
     ]
    },
    {
     "name": "stderr",
     "output_type": "stream",
     "text": [
      "INFO:tensorflow:Assets written to: ./models/ran92_v2_arl/saved_models\\ran92_v2_ARL_training\\assets\n",
      "C:\\Users\\suman\\anaconda3\\envs\\p38\\lib\\site-packages\\keras\\engine\\functional.py:1410: CustomMaskWarning: Custom mask layers require a config and must override get_config. When loading, the custom mask layer must be passed to the custom_objects argument.\n",
      "  layer_config = serialize_layer_fn(layer)\n",
      "C:\\Users\\suman\\anaconda3\\envs\\p38\\lib\\site-packages\\keras\\saving\\saved_model\\layer_serialization.py:112: CustomMaskWarning: Custom mask layers require a config and must override get_config. When loading, the custom mask layer must be passed to the custom_objects argument.\n",
      "  return generic_utils.serialize_keras_object(obj)\n"
     ]
    },
    {
     "name": "stdout",
     "output_type": "stream",
     "text": [
      "625/625 [==============================] - 187s 299ms/step - loss: 0.3913 - accuracy: 0.8656 - val_loss: 0.8369 - val_accuracy: 0.7432 - lr: 0.0010\n",
      "Epoch 43/100\n",
      "625/625 [==============================] - ETA: 0s - loss: 0.3736 - accuracy: 0.8709\n",
      "Epoch 00043: loss improved from 0.39130 to 0.37355, saving model to ./models/ran92_v2_arl/saved_models\\ran92_v2_ARL_training\n"
     ]
    },
    {
     "name": "stderr",
     "output_type": "stream",
     "text": [
      "WARNING:absl:Function `_wrapped_model` contains input name(s) Model_Input with unsupported characters which will be renamed to model_input in the SavedModel.\n"
     ]
    },
    {
     "name": "stdout",
     "output_type": "stream",
     "text": [
      "INFO:tensorflow:Assets written to: ./models/ran92_v2_arl/saved_models\\ran92_v2_ARL_training\\assets\n"
     ]
    },
    {
     "name": "stderr",
     "output_type": "stream",
     "text": [
      "INFO:tensorflow:Assets written to: ./models/ran92_v2_arl/saved_models\\ran92_v2_ARL_training\\assets\n",
      "C:\\Users\\suman\\anaconda3\\envs\\p38\\lib\\site-packages\\keras\\engine\\functional.py:1410: CustomMaskWarning: Custom mask layers require a config and must override get_config. When loading, the custom mask layer must be passed to the custom_objects argument.\n",
      "  layer_config = serialize_layer_fn(layer)\n",
      "C:\\Users\\suman\\anaconda3\\envs\\p38\\lib\\site-packages\\keras\\saving\\saved_model\\layer_serialization.py:112: CustomMaskWarning: Custom mask layers require a config and must override get_config. When loading, the custom mask layer must be passed to the custom_objects argument.\n",
      "  return generic_utils.serialize_keras_object(obj)\n"
     ]
    },
    {
     "name": "stdout",
     "output_type": "stream",
     "text": [
      "625/625 [==============================] - 186s 297ms/step - loss: 0.3736 - accuracy: 0.8709 - val_loss: 0.6585 - val_accuracy: 0.7807 - lr: 0.0010\n",
      "Epoch 44/100\n",
      "625/625 [==============================] - ETA: 0s - loss: 0.3666 - accuracy: 0.8730\n",
      "Epoch 00044: loss improved from 0.37355 to 0.36658, saving model to ./models/ran92_v2_arl/saved_models\\ran92_v2_ARL_training\n"
     ]
    },
    {
     "name": "stderr",
     "output_type": "stream",
     "text": [
      "WARNING:absl:Function `_wrapped_model` contains input name(s) Model_Input with unsupported characters which will be renamed to model_input in the SavedModel.\n"
     ]
    },
    {
     "name": "stdout",
     "output_type": "stream",
     "text": [
      "INFO:tensorflow:Assets written to: ./models/ran92_v2_arl/saved_models\\ran92_v2_ARL_training\\assets\n"
     ]
    },
    {
     "name": "stderr",
     "output_type": "stream",
     "text": [
      "INFO:tensorflow:Assets written to: ./models/ran92_v2_arl/saved_models\\ran92_v2_ARL_training\\assets\n",
      "C:\\Users\\suman\\anaconda3\\envs\\p38\\lib\\site-packages\\keras\\engine\\functional.py:1410: CustomMaskWarning: Custom mask layers require a config and must override get_config. When loading, the custom mask layer must be passed to the custom_objects argument.\n",
      "  layer_config = serialize_layer_fn(layer)\n",
      "C:\\Users\\suman\\anaconda3\\envs\\p38\\lib\\site-packages\\keras\\saving\\saved_model\\layer_serialization.py:112: CustomMaskWarning: Custom mask layers require a config and must override get_config. When loading, the custom mask layer must be passed to the custom_objects argument.\n",
      "  return generic_utils.serialize_keras_object(obj)\n"
     ]
    },
    {
     "name": "stdout",
     "output_type": "stream",
     "text": [
      "625/625 [==============================] - 186s 297ms/step - loss: 0.3666 - accuracy: 0.8730 - val_loss: 0.6979 - val_accuracy: 0.7756 - lr: 0.0010\n",
      "Epoch 45/100\n",
      "625/625 [==============================] - ETA: 0s - loss: 0.3620 - accuracy: 0.8730\n",
      "Epoch 00045: loss improved from 0.36658 to 0.36201, saving model to ./models/ran92_v2_arl/saved_models\\ran92_v2_ARL_training\n"
     ]
    },
    {
     "name": "stderr",
     "output_type": "stream",
     "text": [
      "WARNING:absl:Function `_wrapped_model` contains input name(s) Model_Input with unsupported characters which will be renamed to model_input in the SavedModel.\n"
     ]
    },
    {
     "name": "stdout",
     "output_type": "stream",
     "text": [
      "INFO:tensorflow:Assets written to: ./models/ran92_v2_arl/saved_models\\ran92_v2_ARL_training\\assets\n"
     ]
    },
    {
     "name": "stderr",
     "output_type": "stream",
     "text": [
      "INFO:tensorflow:Assets written to: ./models/ran92_v2_arl/saved_models\\ran92_v2_ARL_training\\assets\n",
      "C:\\Users\\suman\\anaconda3\\envs\\p38\\lib\\site-packages\\keras\\engine\\functional.py:1410: CustomMaskWarning: Custom mask layers require a config and must override get_config. When loading, the custom mask layer must be passed to the custom_objects argument.\n",
      "  layer_config = serialize_layer_fn(layer)\n",
      "C:\\Users\\suman\\anaconda3\\envs\\p38\\lib\\site-packages\\keras\\saving\\saved_model\\layer_serialization.py:112: CustomMaskWarning: Custom mask layers require a config and must override get_config. When loading, the custom mask layer must be passed to the custom_objects argument.\n",
      "  return generic_utils.serialize_keras_object(obj)\n"
     ]
    },
    {
     "name": "stdout",
     "output_type": "stream",
     "text": [
      "625/625 [==============================] - 188s 301ms/step - loss: 0.3620 - accuracy: 0.8730 - val_loss: 0.5444 - val_accuracy: 0.8172 - lr: 0.0010\n",
      "Epoch 46/100\n",
      "625/625 [==============================] - ETA: 0s - loss: 0.3554 - accuracy: 0.8765\n",
      "Epoch 00046: loss improved from 0.36201 to 0.35537, saving model to ./models/ran92_v2_arl/saved_models\\ran92_v2_ARL_training\n"
     ]
    },
    {
     "name": "stderr",
     "output_type": "stream",
     "text": [
      "WARNING:absl:Function `_wrapped_model` contains input name(s) Model_Input with unsupported characters which will be renamed to model_input in the SavedModel.\n"
     ]
    },
    {
     "name": "stdout",
     "output_type": "stream",
     "text": [
      "INFO:tensorflow:Assets written to: ./models/ran92_v2_arl/saved_models\\ran92_v2_ARL_training\\assets\n"
     ]
    },
    {
     "name": "stderr",
     "output_type": "stream",
     "text": [
      "INFO:tensorflow:Assets written to: ./models/ran92_v2_arl/saved_models\\ran92_v2_ARL_training\\assets\n",
      "C:\\Users\\suman\\anaconda3\\envs\\p38\\lib\\site-packages\\keras\\engine\\functional.py:1410: CustomMaskWarning: Custom mask layers require a config and must override get_config. When loading, the custom mask layer must be passed to the custom_objects argument.\n",
      "  layer_config = serialize_layer_fn(layer)\n",
      "C:\\Users\\suman\\anaconda3\\envs\\p38\\lib\\site-packages\\keras\\saving\\saved_model\\layer_serialization.py:112: CustomMaskWarning: Custom mask layers require a config and must override get_config. When loading, the custom mask layer must be passed to the custom_objects argument.\n",
      "  return generic_utils.serialize_keras_object(obj)\n"
     ]
    },
    {
     "name": "stdout",
     "output_type": "stream",
     "text": [
      "625/625 [==============================] - 188s 301ms/step - loss: 0.3554 - accuracy: 0.8765 - val_loss: 0.7081 - val_accuracy: 0.7793 - lr: 0.0010\n",
      "Epoch 47/100\n",
      "625/625 [==============================] - ETA: 0s - loss: 0.3467 - accuracy: 0.8799\n",
      "Epoch 00047: loss improved from 0.35537 to 0.34673, saving model to ./models/ran92_v2_arl/saved_models\\ran92_v2_ARL_training\n"
     ]
    },
    {
     "name": "stderr",
     "output_type": "stream",
     "text": [
      "WARNING:absl:Function `_wrapped_model` contains input name(s) Model_Input with unsupported characters which will be renamed to model_input in the SavedModel.\n"
     ]
    },
    {
     "name": "stdout",
     "output_type": "stream",
     "text": [
      "INFO:tensorflow:Assets written to: ./models/ran92_v2_arl/saved_models\\ran92_v2_ARL_training\\assets\n"
     ]
    },
    {
     "name": "stderr",
     "output_type": "stream",
     "text": [
      "INFO:tensorflow:Assets written to: ./models/ran92_v2_arl/saved_models\\ran92_v2_ARL_training\\assets\n",
      "C:\\Users\\suman\\anaconda3\\envs\\p38\\lib\\site-packages\\keras\\engine\\functional.py:1410: CustomMaskWarning: Custom mask layers require a config and must override get_config. When loading, the custom mask layer must be passed to the custom_objects argument.\n",
      "  layer_config = serialize_layer_fn(layer)\n",
      "C:\\Users\\suman\\anaconda3\\envs\\p38\\lib\\site-packages\\keras\\saving\\saved_model\\layer_serialization.py:112: CustomMaskWarning: Custom mask layers require a config and must override get_config. When loading, the custom mask layer must be passed to the custom_objects argument.\n",
      "  return generic_utils.serialize_keras_object(obj)\n"
     ]
    },
    {
     "name": "stdout",
     "output_type": "stream",
     "text": [
      "625/625 [==============================] - 188s 302ms/step - loss: 0.3467 - accuracy: 0.8799 - val_loss: 0.6568 - val_accuracy: 0.7817 - lr: 0.0010\n",
      "Epoch 48/100\n",
      "625/625 [==============================] - ETA: 0s - loss: 0.3380 - accuracy: 0.8815\n",
      "Epoch 00048: loss improved from 0.34673 to 0.33798, saving model to ./models/ran92_v2_arl/saved_models\\ran92_v2_ARL_training\n"
     ]
    },
    {
     "name": "stderr",
     "output_type": "stream",
     "text": [
      "WARNING:absl:Function `_wrapped_model` contains input name(s) Model_Input with unsupported characters which will be renamed to model_input in the SavedModel.\n"
     ]
    },
    {
     "name": "stdout",
     "output_type": "stream",
     "text": [
      "INFO:tensorflow:Assets written to: ./models/ran92_v2_arl/saved_models\\ran92_v2_ARL_training\\assets\n"
     ]
    },
    {
     "name": "stderr",
     "output_type": "stream",
     "text": [
      "INFO:tensorflow:Assets written to: ./models/ran92_v2_arl/saved_models\\ran92_v2_ARL_training\\assets\n",
      "C:\\Users\\suman\\anaconda3\\envs\\p38\\lib\\site-packages\\keras\\engine\\functional.py:1410: CustomMaskWarning: Custom mask layers require a config and must override get_config. When loading, the custom mask layer must be passed to the custom_objects argument.\n",
      "  layer_config = serialize_layer_fn(layer)\n",
      "C:\\Users\\suman\\anaconda3\\envs\\p38\\lib\\site-packages\\keras\\saving\\saved_model\\layer_serialization.py:112: CustomMaskWarning: Custom mask layers require a config and must override get_config. When loading, the custom mask layer must be passed to the custom_objects argument.\n",
      "  return generic_utils.serialize_keras_object(obj)\n"
     ]
    },
    {
     "name": "stdout",
     "output_type": "stream",
     "text": [
      "625/625 [==============================] - 188s 300ms/step - loss: 0.3380 - accuracy: 0.8815 - val_loss: 0.5217 - val_accuracy: 0.8246 - lr: 0.0010\n",
      "Epoch 49/100\n",
      "625/625 [==============================] - ETA: 0s - loss: 0.3366 - accuracy: 0.8836\n",
      "Epoch 00049: loss improved from 0.33798 to 0.33660, saving model to ./models/ran92_v2_arl/saved_models\\ran92_v2_ARL_training\n"
     ]
    },
    {
     "name": "stderr",
     "output_type": "stream",
     "text": [
      "WARNING:absl:Function `_wrapped_model` contains input name(s) Model_Input with unsupported characters which will be renamed to model_input in the SavedModel.\n"
     ]
    },
    {
     "name": "stdout",
     "output_type": "stream",
     "text": [
      "INFO:tensorflow:Assets written to: ./models/ran92_v2_arl/saved_models\\ran92_v2_ARL_training\\assets\n"
     ]
    },
    {
     "name": "stderr",
     "output_type": "stream",
     "text": [
      "INFO:tensorflow:Assets written to: ./models/ran92_v2_arl/saved_models\\ran92_v2_ARL_training\\assets\n",
      "C:\\Users\\suman\\anaconda3\\envs\\p38\\lib\\site-packages\\keras\\engine\\functional.py:1410: CustomMaskWarning: Custom mask layers require a config and must override get_config. When loading, the custom mask layer must be passed to the custom_objects argument.\n",
      "  layer_config = serialize_layer_fn(layer)\n",
      "C:\\Users\\suman\\anaconda3\\envs\\p38\\lib\\site-packages\\keras\\saving\\saved_model\\layer_serialization.py:112: CustomMaskWarning: Custom mask layers require a config and must override get_config. When loading, the custom mask layer must be passed to the custom_objects argument.\n",
      "  return generic_utils.serialize_keras_object(obj)\n"
     ]
    },
    {
     "name": "stdout",
     "output_type": "stream",
     "text": [
      "625/625 [==============================] - 188s 301ms/step - loss: 0.3366 - accuracy: 0.8836 - val_loss: 0.7343 - val_accuracy: 0.7561 - lr: 0.0010\n",
      "Epoch 50/100\n",
      "625/625 [==============================] - ETA: 0s - loss: 0.3337 - accuracy: 0.8829\n",
      "Epoch 00050: loss improved from 0.33660 to 0.33375, saving model to ./models/ran92_v2_arl/saved_models\\ran92_v2_ARL_training\n"
     ]
    },
    {
     "name": "stderr",
     "output_type": "stream",
     "text": [
      "WARNING:absl:Function `_wrapped_model` contains input name(s) Model_Input with unsupported characters which will be renamed to model_input in the SavedModel.\n"
     ]
    },
    {
     "name": "stdout",
     "output_type": "stream",
     "text": [
      "INFO:tensorflow:Assets written to: ./models/ran92_v2_arl/saved_models\\ran92_v2_ARL_training\\assets\n"
     ]
    },
    {
     "name": "stderr",
     "output_type": "stream",
     "text": [
      "INFO:tensorflow:Assets written to: ./models/ran92_v2_arl/saved_models\\ran92_v2_ARL_training\\assets\n",
      "C:\\Users\\suman\\anaconda3\\envs\\p38\\lib\\site-packages\\keras\\engine\\functional.py:1410: CustomMaskWarning: Custom mask layers require a config and must override get_config. When loading, the custom mask layer must be passed to the custom_objects argument.\n",
      "  layer_config = serialize_layer_fn(layer)\n",
      "C:\\Users\\suman\\anaconda3\\envs\\p38\\lib\\site-packages\\keras\\saving\\saved_model\\layer_serialization.py:112: CustomMaskWarning: Custom mask layers require a config and must override get_config. When loading, the custom mask layer must be passed to the custom_objects argument.\n",
      "  return generic_utils.serialize_keras_object(obj)\n"
     ]
    },
    {
     "name": "stdout",
     "output_type": "stream",
     "text": [
      "625/625 [==============================] - 188s 301ms/step - loss: 0.3337 - accuracy: 0.8829 - val_loss: 0.6146 - val_accuracy: 0.7980 - lr: 0.0010\n",
      "Epoch 51/100\n",
      "625/625 [==============================] - ETA: 0s - loss: 0.3257 - accuracy: 0.8872\n",
      "Epoch 00051: loss improved from 0.33375 to 0.32570, saving model to ./models/ran92_v2_arl/saved_models\\ran92_v2_ARL_training\n"
     ]
    },
    {
     "name": "stderr",
     "output_type": "stream",
     "text": [
      "WARNING:absl:Function `_wrapped_model` contains input name(s) Model_Input with unsupported characters which will be renamed to model_input in the SavedModel.\n"
     ]
    },
    {
     "name": "stdout",
     "output_type": "stream",
     "text": [
      "INFO:tensorflow:Assets written to: ./models/ran92_v2_arl/saved_models\\ran92_v2_ARL_training\\assets\n"
     ]
    },
    {
     "name": "stderr",
     "output_type": "stream",
     "text": [
      "INFO:tensorflow:Assets written to: ./models/ran92_v2_arl/saved_models\\ran92_v2_ARL_training\\assets\n",
      "C:\\Users\\suman\\anaconda3\\envs\\p38\\lib\\site-packages\\keras\\engine\\functional.py:1410: CustomMaskWarning: Custom mask layers require a config and must override get_config. When loading, the custom mask layer must be passed to the custom_objects argument.\n",
      "  layer_config = serialize_layer_fn(layer)\n",
      "C:\\Users\\suman\\anaconda3\\envs\\p38\\lib\\site-packages\\keras\\saving\\saved_model\\layer_serialization.py:112: CustomMaskWarning: Custom mask layers require a config and must override get_config. When loading, the custom mask layer must be passed to the custom_objects argument.\n",
      "  return generic_utils.serialize_keras_object(obj)\n"
     ]
    },
    {
     "name": "stdout",
     "output_type": "stream",
     "text": [
      "625/625 [==============================] - 187s 300ms/step - loss: 0.3257 - accuracy: 0.8872 - val_loss: 0.6374 - val_accuracy: 0.7919 - lr: 0.0010\n",
      "Epoch 52/100\n",
      "625/625 [==============================] - ETA: 0s - loss: 0.3194 - accuracy: 0.8892\n",
      "Epoch 00052: loss improved from 0.32570 to 0.31943, saving model to ./models/ran92_v2_arl/saved_models\\ran92_v2_ARL_training\n"
     ]
    },
    {
     "name": "stderr",
     "output_type": "stream",
     "text": [
      "WARNING:absl:Function `_wrapped_model` contains input name(s) Model_Input with unsupported characters which will be renamed to model_input in the SavedModel.\n"
     ]
    },
    {
     "name": "stdout",
     "output_type": "stream",
     "text": [
      "INFO:tensorflow:Assets written to: ./models/ran92_v2_arl/saved_models\\ran92_v2_ARL_training\\assets\n"
     ]
    },
    {
     "name": "stderr",
     "output_type": "stream",
     "text": [
      "INFO:tensorflow:Assets written to: ./models/ran92_v2_arl/saved_models\\ran92_v2_ARL_training\\assets\n",
      "C:\\Users\\suman\\anaconda3\\envs\\p38\\lib\\site-packages\\keras\\engine\\functional.py:1410: CustomMaskWarning: Custom mask layers require a config and must override get_config. When loading, the custom mask layer must be passed to the custom_objects argument.\n",
      "  layer_config = serialize_layer_fn(layer)\n",
      "C:\\Users\\suman\\anaconda3\\envs\\p38\\lib\\site-packages\\keras\\saving\\saved_model\\layer_serialization.py:112: CustomMaskWarning: Custom mask layers require a config and must override get_config. When loading, the custom mask layer must be passed to the custom_objects argument.\n",
      "  return generic_utils.serialize_keras_object(obj)\n"
     ]
    },
    {
     "name": "stdout",
     "output_type": "stream",
     "text": [
      "625/625 [==============================] - 188s 301ms/step - loss: 0.3194 - accuracy: 0.8892 - val_loss: 0.8328 - val_accuracy: 0.7475 - lr: 0.0010\n",
      "Epoch 53/100\n",
      "625/625 [==============================] - ETA: 0s - loss: 0.3177 - accuracy: 0.8887\n",
      "Epoch 00053: loss improved from 0.31943 to 0.31774, saving model to ./models/ran92_v2_arl/saved_models\\ran92_v2_ARL_training\n"
     ]
    },
    {
     "name": "stderr",
     "output_type": "stream",
     "text": [
      "WARNING:absl:Function `_wrapped_model` contains input name(s) Model_Input with unsupported characters which will be renamed to model_input in the SavedModel.\n"
     ]
    },
    {
     "name": "stdout",
     "output_type": "stream",
     "text": [
      "INFO:tensorflow:Assets written to: ./models/ran92_v2_arl/saved_models\\ran92_v2_ARL_training\\assets\n"
     ]
    },
    {
     "name": "stderr",
     "output_type": "stream",
     "text": [
      "INFO:tensorflow:Assets written to: ./models/ran92_v2_arl/saved_models\\ran92_v2_ARL_training\\assets\n",
      "C:\\Users\\suman\\anaconda3\\envs\\p38\\lib\\site-packages\\keras\\engine\\functional.py:1410: CustomMaskWarning: Custom mask layers require a config and must override get_config. When loading, the custom mask layer must be passed to the custom_objects argument.\n",
      "  layer_config = serialize_layer_fn(layer)\n",
      "C:\\Users\\suman\\anaconda3\\envs\\p38\\lib\\site-packages\\keras\\saving\\saved_model\\layer_serialization.py:112: CustomMaskWarning: Custom mask layers require a config and must override get_config. When loading, the custom mask layer must be passed to the custom_objects argument.\n",
      "  return generic_utils.serialize_keras_object(obj)\n"
     ]
    },
    {
     "name": "stdout",
     "output_type": "stream",
     "text": [
      "625/625 [==============================] - 188s 301ms/step - loss: 0.3177 - accuracy: 0.8887 - val_loss: 0.7395 - val_accuracy: 0.7628 - lr: 0.0010\n",
      "Epoch 54/100\n",
      "625/625 [==============================] - ETA: 0s - loss: 0.3075 - accuracy: 0.8928\n",
      "Epoch 00054: loss improved from 0.31774 to 0.30755, saving model to ./models/ran92_v2_arl/saved_models\\ran92_v2_ARL_training\n"
     ]
    },
    {
     "name": "stderr",
     "output_type": "stream",
     "text": [
      "WARNING:absl:Function `_wrapped_model` contains input name(s) Model_Input with unsupported characters which will be renamed to model_input in the SavedModel.\n"
     ]
    },
    {
     "name": "stdout",
     "output_type": "stream",
     "text": [
      "INFO:tensorflow:Assets written to: ./models/ran92_v2_arl/saved_models\\ran92_v2_ARL_training\\assets\n"
     ]
    },
    {
     "name": "stderr",
     "output_type": "stream",
     "text": [
      "INFO:tensorflow:Assets written to: ./models/ran92_v2_arl/saved_models\\ran92_v2_ARL_training\\assets\n",
      "C:\\Users\\suman\\anaconda3\\envs\\p38\\lib\\site-packages\\keras\\engine\\functional.py:1410: CustomMaskWarning: Custom mask layers require a config and must override get_config. When loading, the custom mask layer must be passed to the custom_objects argument.\n",
      "  layer_config = serialize_layer_fn(layer)\n",
      "C:\\Users\\suman\\anaconda3\\envs\\p38\\lib\\site-packages\\keras\\saving\\saved_model\\layer_serialization.py:112: CustomMaskWarning: Custom mask layers require a config and must override get_config. When loading, the custom mask layer must be passed to the custom_objects argument.\n",
      "  return generic_utils.serialize_keras_object(obj)\n"
     ]
    },
    {
     "name": "stdout",
     "output_type": "stream",
     "text": [
      "625/625 [==============================] - 189s 302ms/step - loss: 0.3075 - accuracy: 0.8928 - val_loss: 0.6393 - val_accuracy: 0.7913 - lr: 0.0010\n",
      "Epoch 55/100\n",
      "625/625 [==============================] - ETA: 0s - loss: 0.3114 - accuracy: 0.8920\n",
      "Epoch 00055: loss did not improve from 0.30755\n",
      "625/625 [==============================] - 151s 242ms/step - loss: 0.3114 - accuracy: 0.8920 - val_loss: 0.5768 - val_accuracy: 0.8033 - lr: 0.0010\n",
      "Epoch 56/100\n",
      "625/625 [==============================] - ETA: 0s - loss: 0.3008 - accuracy: 0.8959\n",
      "Epoch 00056: loss improved from 0.30755 to 0.30076, saving model to ./models/ran92_v2_arl/saved_models\\ran92_v2_ARL_training\n"
     ]
    },
    {
     "name": "stderr",
     "output_type": "stream",
     "text": [
      "WARNING:absl:Function `_wrapped_model` contains input name(s) Model_Input with unsupported characters which will be renamed to model_input in the SavedModel.\n"
     ]
    },
    {
     "name": "stdout",
     "output_type": "stream",
     "text": [
      "INFO:tensorflow:Assets written to: ./models/ran92_v2_arl/saved_models\\ran92_v2_ARL_training\\assets\n"
     ]
    },
    {
     "name": "stderr",
     "output_type": "stream",
     "text": [
      "INFO:tensorflow:Assets written to: ./models/ran92_v2_arl/saved_models\\ran92_v2_ARL_training\\assets\n",
      "C:\\Users\\suman\\anaconda3\\envs\\p38\\lib\\site-packages\\keras\\engine\\functional.py:1410: CustomMaskWarning: Custom mask layers require a config and must override get_config. When loading, the custom mask layer must be passed to the custom_objects argument.\n",
      "  layer_config = serialize_layer_fn(layer)\n",
      "C:\\Users\\suman\\anaconda3\\envs\\p38\\lib\\site-packages\\keras\\saving\\saved_model\\layer_serialization.py:112: CustomMaskWarning: Custom mask layers require a config and must override get_config. When loading, the custom mask layer must be passed to the custom_objects argument.\n",
      "  return generic_utils.serialize_keras_object(obj)\n"
     ]
    },
    {
     "name": "stdout",
     "output_type": "stream",
     "text": [
      "625/625 [==============================] - 188s 301ms/step - loss: 0.3008 - accuracy: 0.8959 - val_loss: 0.5931 - val_accuracy: 0.8002 - lr: 0.0010\n",
      "Epoch 57/100\n",
      "625/625 [==============================] - ETA: 0s - loss: 0.2953 - accuracy: 0.8976\n",
      "Epoch 00057: loss improved from 0.30076 to 0.29534, saving model to ./models/ran92_v2_arl/saved_models\\ran92_v2_ARL_training\n"
     ]
    },
    {
     "name": "stderr",
     "output_type": "stream",
     "text": [
      "WARNING:absl:Function `_wrapped_model` contains input name(s) Model_Input with unsupported characters which will be renamed to model_input in the SavedModel.\n"
     ]
    },
    {
     "name": "stdout",
     "output_type": "stream",
     "text": [
      "INFO:tensorflow:Assets written to: ./models/ran92_v2_arl/saved_models\\ran92_v2_ARL_training\\assets\n"
     ]
    },
    {
     "name": "stderr",
     "output_type": "stream",
     "text": [
      "INFO:tensorflow:Assets written to: ./models/ran92_v2_arl/saved_models\\ran92_v2_ARL_training\\assets\n",
      "C:\\Users\\suman\\anaconda3\\envs\\p38\\lib\\site-packages\\keras\\engine\\functional.py:1410: CustomMaskWarning: Custom mask layers require a config and must override get_config. When loading, the custom mask layer must be passed to the custom_objects argument.\n",
      "  layer_config = serialize_layer_fn(layer)\n",
      "C:\\Users\\suman\\anaconda3\\envs\\p38\\lib\\site-packages\\keras\\saving\\saved_model\\layer_serialization.py:112: CustomMaskWarning: Custom mask layers require a config and must override get_config. When loading, the custom mask layer must be passed to the custom_objects argument.\n",
      "  return generic_utils.serialize_keras_object(obj)\n"
     ]
    },
    {
     "name": "stdout",
     "output_type": "stream",
     "text": [
      "625/625 [==============================] - 189s 303ms/step - loss: 0.2953 - accuracy: 0.8976 - val_loss: 0.6213 - val_accuracy: 0.7981 - lr: 0.0010\n",
      "Epoch 58/100\n",
      "625/625 [==============================] - ETA: 0s - loss: 0.2917 - accuracy: 0.8981\n",
      "Epoch 00058: loss improved from 0.29534 to 0.29174, saving model to ./models/ran92_v2_arl/saved_models\\ran92_v2_ARL_training\n"
     ]
    },
    {
     "name": "stderr",
     "output_type": "stream",
     "text": [
      "WARNING:absl:Function `_wrapped_model` contains input name(s) Model_Input with unsupported characters which will be renamed to model_input in the SavedModel.\n"
     ]
    },
    {
     "name": "stdout",
     "output_type": "stream",
     "text": [
      "INFO:tensorflow:Assets written to: ./models/ran92_v2_arl/saved_models\\ran92_v2_ARL_training\\assets\n"
     ]
    },
    {
     "name": "stderr",
     "output_type": "stream",
     "text": [
      "INFO:tensorflow:Assets written to: ./models/ran92_v2_arl/saved_models\\ran92_v2_ARL_training\\assets\n",
      "C:\\Users\\suman\\anaconda3\\envs\\p38\\lib\\site-packages\\keras\\engine\\functional.py:1410: CustomMaskWarning: Custom mask layers require a config and must override get_config. When loading, the custom mask layer must be passed to the custom_objects argument.\n",
      "  layer_config = serialize_layer_fn(layer)\n",
      "C:\\Users\\suman\\anaconda3\\envs\\p38\\lib\\site-packages\\keras\\saving\\saved_model\\layer_serialization.py:112: CustomMaskWarning: Custom mask layers require a config and must override get_config. When loading, the custom mask layer must be passed to the custom_objects argument.\n",
      "  return generic_utils.serialize_keras_object(obj)\n"
     ]
    },
    {
     "name": "stdout",
     "output_type": "stream",
     "text": [
      "625/625 [==============================] - 189s 302ms/step - loss: 0.2917 - accuracy: 0.8981 - val_loss: 0.4789 - val_accuracy: 0.8381 - lr: 0.0010\n",
      "Epoch 59/100\n",
      "625/625 [==============================] - ETA: 0s - loss: 0.2839 - accuracy: 0.9011\n",
      "Epoch 00059: loss improved from 0.29174 to 0.28389, saving model to ./models/ran92_v2_arl/saved_models\\ran92_v2_ARL_training\n"
     ]
    },
    {
     "name": "stderr",
     "output_type": "stream",
     "text": [
      "WARNING:absl:Function `_wrapped_model` contains input name(s) Model_Input with unsupported characters which will be renamed to model_input in the SavedModel.\n"
     ]
    },
    {
     "name": "stdout",
     "output_type": "stream",
     "text": [
      "INFO:tensorflow:Assets written to: ./models/ran92_v2_arl/saved_models\\ran92_v2_ARL_training\\assets\n"
     ]
    },
    {
     "name": "stderr",
     "output_type": "stream",
     "text": [
      "INFO:tensorflow:Assets written to: ./models/ran92_v2_arl/saved_models\\ran92_v2_ARL_training\\assets\n",
      "C:\\Users\\suman\\anaconda3\\envs\\p38\\lib\\site-packages\\keras\\engine\\functional.py:1410: CustomMaskWarning: Custom mask layers require a config and must override get_config. When loading, the custom mask layer must be passed to the custom_objects argument.\n",
      "  layer_config = serialize_layer_fn(layer)\n",
      "C:\\Users\\suman\\anaconda3\\envs\\p38\\lib\\site-packages\\keras\\saving\\saved_model\\layer_serialization.py:112: CustomMaskWarning: Custom mask layers require a config and must override get_config. When loading, the custom mask layer must be passed to the custom_objects argument.\n",
      "  return generic_utils.serialize_keras_object(obj)\n"
     ]
    },
    {
     "name": "stdout",
     "output_type": "stream",
     "text": [
      "625/625 [==============================] - 188s 301ms/step - loss: 0.2839 - accuracy: 0.9011 - val_loss: 0.5277 - val_accuracy: 0.8256 - lr: 0.0010\n",
      "Epoch 60/100\n",
      "625/625 [==============================] - ETA: 0s - loss: 0.2812 - accuracy: 0.9041\n",
      "Epoch 00060: loss improved from 0.28389 to 0.28119, saving model to ./models/ran92_v2_arl/saved_models\\ran92_v2_ARL_training\n"
     ]
    },
    {
     "name": "stderr",
     "output_type": "stream",
     "text": [
      "WARNING:absl:Function `_wrapped_model` contains input name(s) Model_Input with unsupported characters which will be renamed to model_input in the SavedModel.\n"
     ]
    },
    {
     "name": "stdout",
     "output_type": "stream",
     "text": [
      "INFO:tensorflow:Assets written to: ./models/ran92_v2_arl/saved_models\\ran92_v2_ARL_training\\assets\n"
     ]
    },
    {
     "name": "stderr",
     "output_type": "stream",
     "text": [
      "INFO:tensorflow:Assets written to: ./models/ran92_v2_arl/saved_models\\ran92_v2_ARL_training\\assets\n",
      "C:\\Users\\suman\\anaconda3\\envs\\p38\\lib\\site-packages\\keras\\engine\\functional.py:1410: CustomMaskWarning: Custom mask layers require a config and must override get_config. When loading, the custom mask layer must be passed to the custom_objects argument.\n",
      "  layer_config = serialize_layer_fn(layer)\n",
      "C:\\Users\\suman\\anaconda3\\envs\\p38\\lib\\site-packages\\keras\\saving\\saved_model\\layer_serialization.py:112: CustomMaskWarning: Custom mask layers require a config and must override get_config. When loading, the custom mask layer must be passed to the custom_objects argument.\n",
      "  return generic_utils.serialize_keras_object(obj)\n"
     ]
    },
    {
     "name": "stdout",
     "output_type": "stream",
     "text": [
      "625/625 [==============================] - 188s 301ms/step - loss: 0.2812 - accuracy: 0.9041 - val_loss: 0.5543 - val_accuracy: 0.8180 - lr: 0.0010\n",
      "Epoch 61/100\n",
      "625/625 [==============================] - ETA: 0s - loss: 0.2779 - accuracy: 0.9038\n",
      "Epoch 00061: loss improved from 0.28119 to 0.27790, saving model to ./models/ran92_v2_arl/saved_models\\ran92_v2_ARL_training\n"
     ]
    },
    {
     "name": "stderr",
     "output_type": "stream",
     "text": [
      "WARNING:absl:Function `_wrapped_model` contains input name(s) Model_Input with unsupported characters which will be renamed to model_input in the SavedModel.\n"
     ]
    },
    {
     "name": "stdout",
     "output_type": "stream",
     "text": [
      "INFO:tensorflow:Assets written to: ./models/ran92_v2_arl/saved_models\\ran92_v2_ARL_training\\assets\n"
     ]
    },
    {
     "name": "stderr",
     "output_type": "stream",
     "text": [
      "INFO:tensorflow:Assets written to: ./models/ran92_v2_arl/saved_models\\ran92_v2_ARL_training\\assets\n",
      "C:\\Users\\suman\\anaconda3\\envs\\p38\\lib\\site-packages\\keras\\engine\\functional.py:1410: CustomMaskWarning: Custom mask layers require a config and must override get_config. When loading, the custom mask layer must be passed to the custom_objects argument.\n",
      "  layer_config = serialize_layer_fn(layer)\n",
      "C:\\Users\\suman\\anaconda3\\envs\\p38\\lib\\site-packages\\keras\\saving\\saved_model\\layer_serialization.py:112: CustomMaskWarning: Custom mask layers require a config and must override get_config. When loading, the custom mask layer must be passed to the custom_objects argument.\n",
      "  return generic_utils.serialize_keras_object(obj)\n"
     ]
    },
    {
     "name": "stdout",
     "output_type": "stream",
     "text": [
      "625/625 [==============================] - 186s 297ms/step - loss: 0.2779 - accuracy: 0.9038 - val_loss: 0.5764 - val_accuracy: 0.8114 - lr: 0.0010\n",
      "Epoch 62/100\n",
      "625/625 [==============================] - ETA: 0s - loss: 0.2731 - accuracy: 0.9057\n",
      "Epoch 00062: loss improved from 0.27790 to 0.27308, saving model to ./models/ran92_v2_arl/saved_models\\ran92_v2_ARL_training\n"
     ]
    },
    {
     "name": "stderr",
     "output_type": "stream",
     "text": [
      "WARNING:absl:Function `_wrapped_model` contains input name(s) Model_Input with unsupported characters which will be renamed to model_input in the SavedModel.\n"
     ]
    },
    {
     "name": "stdout",
     "output_type": "stream",
     "text": [
      "INFO:tensorflow:Assets written to: ./models/ran92_v2_arl/saved_models\\ran92_v2_ARL_training\\assets\n"
     ]
    },
    {
     "name": "stderr",
     "output_type": "stream",
     "text": [
      "INFO:tensorflow:Assets written to: ./models/ran92_v2_arl/saved_models\\ran92_v2_ARL_training\\assets\n",
      "C:\\Users\\suman\\anaconda3\\envs\\p38\\lib\\site-packages\\keras\\engine\\functional.py:1410: CustomMaskWarning: Custom mask layers require a config and must override get_config. When loading, the custom mask layer must be passed to the custom_objects argument.\n",
      "  layer_config = serialize_layer_fn(layer)\n",
      "C:\\Users\\suman\\anaconda3\\envs\\p38\\lib\\site-packages\\keras\\saving\\saved_model\\layer_serialization.py:112: CustomMaskWarning: Custom mask layers require a config and must override get_config. When loading, the custom mask layer must be passed to the custom_objects argument.\n",
      "  return generic_utils.serialize_keras_object(obj)\n"
     ]
    },
    {
     "name": "stdout",
     "output_type": "stream",
     "text": [
      "625/625 [==============================] - 187s 299ms/step - loss: 0.2731 - accuracy: 0.9057 - val_loss: 0.6470 - val_accuracy: 0.7986 - lr: 0.0010\n",
      "Epoch 63/100\n",
      "625/625 [==============================] - ETA: 0s - loss: 0.2712 - accuracy: 0.9045\n",
      "Epoch 00063: loss improved from 0.27308 to 0.27117, saving model to ./models/ran92_v2_arl/saved_models\\ran92_v2_ARL_training\n"
     ]
    },
    {
     "name": "stderr",
     "output_type": "stream",
     "text": [
      "WARNING:absl:Function `_wrapped_model` contains input name(s) Model_Input with unsupported characters which will be renamed to model_input in the SavedModel.\n"
     ]
    },
    {
     "name": "stdout",
     "output_type": "stream",
     "text": [
      "INFO:tensorflow:Assets written to: ./models/ran92_v2_arl/saved_models\\ran92_v2_ARL_training\\assets\n"
     ]
    },
    {
     "name": "stderr",
     "output_type": "stream",
     "text": [
      "INFO:tensorflow:Assets written to: ./models/ran92_v2_arl/saved_models\\ran92_v2_ARL_training\\assets\n",
      "C:\\Users\\suman\\anaconda3\\envs\\p38\\lib\\site-packages\\keras\\engine\\functional.py:1410: CustomMaskWarning: Custom mask layers require a config and must override get_config. When loading, the custom mask layer must be passed to the custom_objects argument.\n",
      "  layer_config = serialize_layer_fn(layer)\n",
      "C:\\Users\\suman\\anaconda3\\envs\\p38\\lib\\site-packages\\keras\\saving\\saved_model\\layer_serialization.py:112: CustomMaskWarning: Custom mask layers require a config and must override get_config. When loading, the custom mask layer must be passed to the custom_objects argument.\n",
      "  return generic_utils.serialize_keras_object(obj)\n"
     ]
    },
    {
     "name": "stdout",
     "output_type": "stream",
     "text": [
      "625/625 [==============================] - 186s 297ms/step - loss: 0.2712 - accuracy: 0.9045 - val_loss: 0.5992 - val_accuracy: 0.8094 - lr: 0.0010\n",
      "Epoch 64/100\n",
      "625/625 [==============================] - ETA: 0s - loss: 0.2674 - accuracy: 0.9053\n",
      "Epoch 00064: loss improved from 0.27117 to 0.26736, saving model to ./models/ran92_v2_arl/saved_models\\ran92_v2_ARL_training\n"
     ]
    },
    {
     "name": "stderr",
     "output_type": "stream",
     "text": [
      "WARNING:absl:Function `_wrapped_model` contains input name(s) Model_Input with unsupported characters which will be renamed to model_input in the SavedModel.\n"
     ]
    },
    {
     "name": "stdout",
     "output_type": "stream",
     "text": [
      "INFO:tensorflow:Assets written to: ./models/ran92_v2_arl/saved_models\\ran92_v2_ARL_training\\assets\n"
     ]
    },
    {
     "name": "stderr",
     "output_type": "stream",
     "text": [
      "INFO:tensorflow:Assets written to: ./models/ran92_v2_arl/saved_models\\ran92_v2_ARL_training\\assets\n",
      "C:\\Users\\suman\\anaconda3\\envs\\p38\\lib\\site-packages\\keras\\engine\\functional.py:1410: CustomMaskWarning: Custom mask layers require a config and must override get_config. When loading, the custom mask layer must be passed to the custom_objects argument.\n",
      "  layer_config = serialize_layer_fn(layer)\n",
      "C:\\Users\\suman\\anaconda3\\envs\\p38\\lib\\site-packages\\keras\\saving\\saved_model\\layer_serialization.py:112: CustomMaskWarning: Custom mask layers require a config and must override get_config. When loading, the custom mask layer must be passed to the custom_objects argument.\n",
      "  return generic_utils.serialize_keras_object(obj)\n"
     ]
    },
    {
     "name": "stdout",
     "output_type": "stream",
     "text": [
      "625/625 [==============================] - 187s 300ms/step - loss: 0.2674 - accuracy: 0.9053 - val_loss: 0.5963 - val_accuracy: 0.8036 - lr: 0.0010\n",
      "Epoch 65/100\n",
      "625/625 [==============================] - ETA: 0s - loss: 0.2595 - accuracy: 0.9077\n",
      "Epoch 00065: loss improved from 0.26736 to 0.25952, saving model to ./models/ran92_v2_arl/saved_models\\ran92_v2_ARL_training\n"
     ]
    },
    {
     "name": "stderr",
     "output_type": "stream",
     "text": [
      "WARNING:absl:Function `_wrapped_model` contains input name(s) Model_Input with unsupported characters which will be renamed to model_input in the SavedModel.\n"
     ]
    },
    {
     "name": "stdout",
     "output_type": "stream",
     "text": [
      "INFO:tensorflow:Assets written to: ./models/ran92_v2_arl/saved_models\\ran92_v2_ARL_training\\assets\n"
     ]
    },
    {
     "name": "stderr",
     "output_type": "stream",
     "text": [
      "INFO:tensorflow:Assets written to: ./models/ran92_v2_arl/saved_models\\ran92_v2_ARL_training\\assets\n",
      "C:\\Users\\suman\\anaconda3\\envs\\p38\\lib\\site-packages\\keras\\engine\\functional.py:1410: CustomMaskWarning: Custom mask layers require a config and must override get_config. When loading, the custom mask layer must be passed to the custom_objects argument.\n",
      "  layer_config = serialize_layer_fn(layer)\n",
      "C:\\Users\\suman\\anaconda3\\envs\\p38\\lib\\site-packages\\keras\\saving\\saved_model\\layer_serialization.py:112: CustomMaskWarning: Custom mask layers require a config and must override get_config. When loading, the custom mask layer must be passed to the custom_objects argument.\n",
      "  return generic_utils.serialize_keras_object(obj)\n"
     ]
    },
    {
     "name": "stdout",
     "output_type": "stream",
     "text": [
      "625/625 [==============================] - 186s 298ms/step - loss: 0.2595 - accuracy: 0.9077 - val_loss: 0.6391 - val_accuracy: 0.7955 - lr: 0.0010\n",
      "Epoch 66/100\n",
      "625/625 [==============================] - ETA: 0s - loss: 0.2570 - accuracy: 0.9109\n",
      "Epoch 00066: loss improved from 0.25952 to 0.25699, saving model to ./models/ran92_v2_arl/saved_models\\ran92_v2_ARL_training\n"
     ]
    },
    {
     "name": "stderr",
     "output_type": "stream",
     "text": [
      "WARNING:absl:Function `_wrapped_model` contains input name(s) Model_Input with unsupported characters which will be renamed to model_input in the SavedModel.\n"
     ]
    },
    {
     "name": "stdout",
     "output_type": "stream",
     "text": [
      "INFO:tensorflow:Assets written to: ./models/ran92_v2_arl/saved_models\\ran92_v2_ARL_training\\assets\n"
     ]
    },
    {
     "name": "stderr",
     "output_type": "stream",
     "text": [
      "INFO:tensorflow:Assets written to: ./models/ran92_v2_arl/saved_models\\ran92_v2_ARL_training\\assets\n",
      "C:\\Users\\suman\\anaconda3\\envs\\p38\\lib\\site-packages\\keras\\engine\\functional.py:1410: CustomMaskWarning: Custom mask layers require a config and must override get_config. When loading, the custom mask layer must be passed to the custom_objects argument.\n",
      "  layer_config = serialize_layer_fn(layer)\n",
      "C:\\Users\\suman\\anaconda3\\envs\\p38\\lib\\site-packages\\keras\\saving\\saved_model\\layer_serialization.py:112: CustomMaskWarning: Custom mask layers require a config and must override get_config. When loading, the custom mask layer must be passed to the custom_objects argument.\n",
      "  return generic_utils.serialize_keras_object(obj)\n"
     ]
    },
    {
     "name": "stdout",
     "output_type": "stream",
     "text": [
      "625/625 [==============================] - 187s 299ms/step - loss: 0.2570 - accuracy: 0.9109 - val_loss: 0.4739 - val_accuracy: 0.8435 - lr: 0.0010\n",
      "Epoch 67/100\n",
      "625/625 [==============================] - ETA: 0s - loss: 0.2568 - accuracy: 0.9117\n",
      "Epoch 00067: loss improved from 0.25699 to 0.25678, saving model to ./models/ran92_v2_arl/saved_models\\ran92_v2_ARL_training\n"
     ]
    },
    {
     "name": "stderr",
     "output_type": "stream",
     "text": [
      "WARNING:absl:Function `_wrapped_model` contains input name(s) Model_Input with unsupported characters which will be renamed to model_input in the SavedModel.\n"
     ]
    },
    {
     "name": "stdout",
     "output_type": "stream",
     "text": [
      "INFO:tensorflow:Assets written to: ./models/ran92_v2_arl/saved_models\\ran92_v2_ARL_training\\assets\n"
     ]
    },
    {
     "name": "stderr",
     "output_type": "stream",
     "text": [
      "INFO:tensorflow:Assets written to: ./models/ran92_v2_arl/saved_models\\ran92_v2_ARL_training\\assets\n",
      "C:\\Users\\suman\\anaconda3\\envs\\p38\\lib\\site-packages\\keras\\engine\\functional.py:1410: CustomMaskWarning: Custom mask layers require a config and must override get_config. When loading, the custom mask layer must be passed to the custom_objects argument.\n",
      "  layer_config = serialize_layer_fn(layer)\n",
      "C:\\Users\\suman\\anaconda3\\envs\\p38\\lib\\site-packages\\keras\\saving\\saved_model\\layer_serialization.py:112: CustomMaskWarning: Custom mask layers require a config and must override get_config. When loading, the custom mask layer must be passed to the custom_objects argument.\n",
      "  return generic_utils.serialize_keras_object(obj)\n"
     ]
    },
    {
     "name": "stdout",
     "output_type": "stream",
     "text": [
      "625/625 [==============================] - 186s 298ms/step - loss: 0.2568 - accuracy: 0.9117 - val_loss: 0.5505 - val_accuracy: 0.8200 - lr: 0.0010\n",
      "Epoch 68/100\n",
      "625/625 [==============================] - ETA: 0s - loss: 0.2449 - accuracy: 0.9130\n",
      "Epoch 00068: loss improved from 0.25678 to 0.24492, saving model to ./models/ran92_v2_arl/saved_models\\ran92_v2_ARL_training\n"
     ]
    },
    {
     "name": "stderr",
     "output_type": "stream",
     "text": [
      "WARNING:absl:Function `_wrapped_model` contains input name(s) Model_Input with unsupported characters which will be renamed to model_input in the SavedModel.\n"
     ]
    },
    {
     "name": "stdout",
     "output_type": "stream",
     "text": [
      "INFO:tensorflow:Assets written to: ./models/ran92_v2_arl/saved_models\\ran92_v2_ARL_training\\assets\n"
     ]
    },
    {
     "name": "stderr",
     "output_type": "stream",
     "text": [
      "INFO:tensorflow:Assets written to: ./models/ran92_v2_arl/saved_models\\ran92_v2_ARL_training\\assets\n",
      "C:\\Users\\suman\\anaconda3\\envs\\p38\\lib\\site-packages\\keras\\engine\\functional.py:1410: CustomMaskWarning: Custom mask layers require a config and must override get_config. When loading, the custom mask layer must be passed to the custom_objects argument.\n",
      "  layer_config = serialize_layer_fn(layer)\n",
      "C:\\Users\\suman\\anaconda3\\envs\\p38\\lib\\site-packages\\keras\\saving\\saved_model\\layer_serialization.py:112: CustomMaskWarning: Custom mask layers require a config and must override get_config. When loading, the custom mask layer must be passed to the custom_objects argument.\n",
      "  return generic_utils.serialize_keras_object(obj)\n"
     ]
    },
    {
     "name": "stdout",
     "output_type": "stream",
     "text": [
      "625/625 [==============================] - 187s 300ms/step - loss: 0.2449 - accuracy: 0.9130 - val_loss: 0.5973 - val_accuracy: 0.8140 - lr: 0.0010\n",
      "Epoch 69/100\n",
      "625/625 [==============================] - ETA: 0s - loss: 0.2485 - accuracy: 0.9134\n",
      "Epoch 00069: loss did not improve from 0.24492\n",
      "625/625 [==============================] - 150s 240ms/step - loss: 0.2485 - accuracy: 0.9134 - val_loss: 0.6453 - val_accuracy: 0.7998 - lr: 0.0010\n",
      "Epoch 70/100\n",
      "625/625 [==============================] - ETA: 0s - loss: 0.2499 - accuracy: 0.9134\n",
      "Epoch 00070: loss did not improve from 0.24492\n",
      "625/625 [==============================] - 151s 242ms/step - loss: 0.2499 - accuracy: 0.9134 - val_loss: 0.5585 - val_accuracy: 0.8191 - lr: 0.0010\n",
      "Epoch 71/100\n",
      "625/625 [==============================] - ETA: 0s - loss: 0.2416 - accuracy: 0.9156\n",
      "Epoch 00071: loss improved from 0.24492 to 0.24161, saving model to ./models/ran92_v2_arl/saved_models\\ran92_v2_ARL_training\n"
     ]
    },
    {
     "name": "stderr",
     "output_type": "stream",
     "text": [
      "WARNING:absl:Function `_wrapped_model` contains input name(s) Model_Input with unsupported characters which will be renamed to model_input in the SavedModel.\n"
     ]
    },
    {
     "name": "stdout",
     "output_type": "stream",
     "text": [
      "INFO:tensorflow:Assets written to: ./models/ran92_v2_arl/saved_models\\ran92_v2_ARL_training\\assets\n"
     ]
    },
    {
     "name": "stderr",
     "output_type": "stream",
     "text": [
      "INFO:tensorflow:Assets written to: ./models/ran92_v2_arl/saved_models\\ran92_v2_ARL_training\\assets\n",
      "C:\\Users\\suman\\anaconda3\\envs\\p38\\lib\\site-packages\\keras\\engine\\functional.py:1410: CustomMaskWarning: Custom mask layers require a config and must override get_config. When loading, the custom mask layer must be passed to the custom_objects argument.\n",
      "  layer_config = serialize_layer_fn(layer)\n",
      "C:\\Users\\suman\\anaconda3\\envs\\p38\\lib\\site-packages\\keras\\saving\\saved_model\\layer_serialization.py:112: CustomMaskWarning: Custom mask layers require a config and must override get_config. When loading, the custom mask layer must be passed to the custom_objects argument.\n",
      "  return generic_utils.serialize_keras_object(obj)\n"
     ]
    },
    {
     "name": "stdout",
     "output_type": "stream",
     "text": [
      "625/625 [==============================] - 188s 300ms/step - loss: 0.2416 - accuracy: 0.9156 - val_loss: 0.6274 - val_accuracy: 0.8073 - lr: 0.0010\n",
      "Epoch 72/100\n",
      "625/625 [==============================] - ETA: 0s - loss: 0.2409 - accuracy: 0.9161\n",
      "Epoch 00072: loss improved from 0.24161 to 0.24091, saving model to ./models/ran92_v2_arl/saved_models\\ran92_v2_ARL_training\n"
     ]
    },
    {
     "name": "stderr",
     "output_type": "stream",
     "text": [
      "WARNING:absl:Function `_wrapped_model` contains input name(s) Model_Input with unsupported characters which will be renamed to model_input in the SavedModel.\n"
     ]
    },
    {
     "name": "stdout",
     "output_type": "stream",
     "text": [
      "INFO:tensorflow:Assets written to: ./models/ran92_v2_arl/saved_models\\ran92_v2_ARL_training\\assets\n"
     ]
    },
    {
     "name": "stderr",
     "output_type": "stream",
     "text": [
      "INFO:tensorflow:Assets written to: ./models/ran92_v2_arl/saved_models\\ran92_v2_ARL_training\\assets\n",
      "C:\\Users\\suman\\anaconda3\\envs\\p38\\lib\\site-packages\\keras\\engine\\functional.py:1410: CustomMaskWarning: Custom mask layers require a config and must override get_config. When loading, the custom mask layer must be passed to the custom_objects argument.\n",
      "  layer_config = serialize_layer_fn(layer)\n",
      "C:\\Users\\suman\\anaconda3\\envs\\p38\\lib\\site-packages\\keras\\saving\\saved_model\\layer_serialization.py:112: CustomMaskWarning: Custom mask layers require a config and must override get_config. When loading, the custom mask layer must be passed to the custom_objects argument.\n",
      "  return generic_utils.serialize_keras_object(obj)\n"
     ]
    },
    {
     "name": "stdout",
     "output_type": "stream",
     "text": [
      "625/625 [==============================] - 188s 301ms/step - loss: 0.2409 - accuracy: 0.9161 - val_loss: 0.5963 - val_accuracy: 0.8078 - lr: 0.0010\n",
      "Epoch 73/100\n",
      "625/625 [==============================] - ETA: 0s - loss: 0.2325 - accuracy: 0.9191\n",
      "Epoch 00073: loss improved from 0.24091 to 0.23246, saving model to ./models/ran92_v2_arl/saved_models\\ran92_v2_ARL_training\n"
     ]
    },
    {
     "name": "stderr",
     "output_type": "stream",
     "text": [
      "WARNING:absl:Function `_wrapped_model` contains input name(s) Model_Input with unsupported characters which will be renamed to model_input in the SavedModel.\n"
     ]
    },
    {
     "name": "stdout",
     "output_type": "stream",
     "text": [
      "INFO:tensorflow:Assets written to: ./models/ran92_v2_arl/saved_models\\ran92_v2_ARL_training\\assets\n"
     ]
    },
    {
     "name": "stderr",
     "output_type": "stream",
     "text": [
      "INFO:tensorflow:Assets written to: ./models/ran92_v2_arl/saved_models\\ran92_v2_ARL_training\\assets\n",
      "C:\\Users\\suman\\anaconda3\\envs\\p38\\lib\\site-packages\\keras\\engine\\functional.py:1410: CustomMaskWarning: Custom mask layers require a config and must override get_config. When loading, the custom mask layer must be passed to the custom_objects argument.\n",
      "  layer_config = serialize_layer_fn(layer)\n",
      "C:\\Users\\suman\\anaconda3\\envs\\p38\\lib\\site-packages\\keras\\saving\\saved_model\\layer_serialization.py:112: CustomMaskWarning: Custom mask layers require a config and must override get_config. When loading, the custom mask layer must be passed to the custom_objects argument.\n",
      "  return generic_utils.serialize_keras_object(obj)\n"
     ]
    },
    {
     "name": "stdout",
     "output_type": "stream",
     "text": [
      "625/625 [==============================] - 188s 300ms/step - loss: 0.2325 - accuracy: 0.9191 - val_loss: 0.5506 - val_accuracy: 0.8267 - lr: 0.0010\n",
      "Epoch 74/100\n",
      "625/625 [==============================] - ETA: 0s - loss: 0.2368 - accuracy: 0.9180\n",
      "Epoch 00074: loss did not improve from 0.23246\n",
      "625/625 [==============================] - 151s 242ms/step - loss: 0.2368 - accuracy: 0.9180 - val_loss: 0.4849 - val_accuracy: 0.8431 - lr: 0.0010\n",
      "Epoch 75/100\n",
      "625/625 [==============================] - ETA: 0s - loss: 0.2324 - accuracy: 0.9191\n",
      "Epoch 00075: loss improved from 0.23246 to 0.23239, saving model to ./models/ran92_v2_arl/saved_models\\ran92_v2_ARL_training\n"
     ]
    },
    {
     "name": "stderr",
     "output_type": "stream",
     "text": [
      "WARNING:absl:Function `_wrapped_model` contains input name(s) Model_Input with unsupported characters which will be renamed to model_input in the SavedModel.\n"
     ]
    },
    {
     "name": "stdout",
     "output_type": "stream",
     "text": [
      "INFO:tensorflow:Assets written to: ./models/ran92_v2_arl/saved_models\\ran92_v2_ARL_training\\assets\n"
     ]
    },
    {
     "name": "stderr",
     "output_type": "stream",
     "text": [
      "INFO:tensorflow:Assets written to: ./models/ran92_v2_arl/saved_models\\ran92_v2_ARL_training\\assets\n",
      "C:\\Users\\suman\\anaconda3\\envs\\p38\\lib\\site-packages\\keras\\engine\\functional.py:1410: CustomMaskWarning: Custom mask layers require a config and must override get_config. When loading, the custom mask layer must be passed to the custom_objects argument.\n",
      "  layer_config = serialize_layer_fn(layer)\n",
      "C:\\Users\\suman\\anaconda3\\envs\\p38\\lib\\site-packages\\keras\\saving\\saved_model\\layer_serialization.py:112: CustomMaskWarning: Custom mask layers require a config and must override get_config. When loading, the custom mask layer must be passed to the custom_objects argument.\n",
      "  return generic_utils.serialize_keras_object(obj)\n"
     ]
    },
    {
     "name": "stdout",
     "output_type": "stream",
     "text": [
      "625/625 [==============================] - 188s 301ms/step - loss: 0.2324 - accuracy: 0.9191 - val_loss: 0.5647 - val_accuracy: 0.8234 - lr: 0.0010\n",
      "Epoch 76/100\n",
      "625/625 [==============================] - ETA: 0s - loss: 0.2242 - accuracy: 0.9226\n",
      "Epoch 00076: loss improved from 0.23239 to 0.22424, saving model to ./models/ran92_v2_arl/saved_models\\ran92_v2_ARL_training\n"
     ]
    },
    {
     "name": "stderr",
     "output_type": "stream",
     "text": [
      "WARNING:absl:Function `_wrapped_model` contains input name(s) Model_Input with unsupported characters which will be renamed to model_input in the SavedModel.\n"
     ]
    },
    {
     "name": "stdout",
     "output_type": "stream",
     "text": [
      "INFO:tensorflow:Assets written to: ./models/ran92_v2_arl/saved_models\\ran92_v2_ARL_training\\assets\n"
     ]
    },
    {
     "name": "stderr",
     "output_type": "stream",
     "text": [
      "INFO:tensorflow:Assets written to: ./models/ran92_v2_arl/saved_models\\ran92_v2_ARL_training\\assets\n",
      "C:\\Users\\suman\\anaconda3\\envs\\p38\\lib\\site-packages\\keras\\engine\\functional.py:1410: CustomMaskWarning: Custom mask layers require a config and must override get_config. When loading, the custom mask layer must be passed to the custom_objects argument.\n",
      "  layer_config = serialize_layer_fn(layer)\n",
      "C:\\Users\\suman\\anaconda3\\envs\\p38\\lib\\site-packages\\keras\\saving\\saved_model\\layer_serialization.py:112: CustomMaskWarning: Custom mask layers require a config and must override get_config. When loading, the custom mask layer must be passed to the custom_objects argument.\n",
      "  return generic_utils.serialize_keras_object(obj)\n"
     ]
    },
    {
     "name": "stdout",
     "output_type": "stream",
     "text": [
      "625/625 [==============================] - 190s 304ms/step - loss: 0.2242 - accuracy: 0.9226 - val_loss: 0.5106 - val_accuracy: 0.8330 - lr: 0.0010\n",
      "Epoch 77/100\n",
      "625/625 [==============================] - ETA: 0s - loss: 0.2207 - accuracy: 0.9233\n",
      "Epoch 00077: loss improved from 0.22424 to 0.22071, saving model to ./models/ran92_v2_arl/saved_models\\ran92_v2_ARL_training\n"
     ]
    },
    {
     "name": "stderr",
     "output_type": "stream",
     "text": [
      "WARNING:absl:Function `_wrapped_model` contains input name(s) Model_Input with unsupported characters which will be renamed to model_input in the SavedModel.\n"
     ]
    },
    {
     "name": "stdout",
     "output_type": "stream",
     "text": [
      "INFO:tensorflow:Assets written to: ./models/ran92_v2_arl/saved_models\\ran92_v2_ARL_training\\assets\n"
     ]
    },
    {
     "name": "stderr",
     "output_type": "stream",
     "text": [
      "INFO:tensorflow:Assets written to: ./models/ran92_v2_arl/saved_models\\ran92_v2_ARL_training\\assets\n",
      "C:\\Users\\suman\\anaconda3\\envs\\p38\\lib\\site-packages\\keras\\engine\\functional.py:1410: CustomMaskWarning: Custom mask layers require a config and must override get_config. When loading, the custom mask layer must be passed to the custom_objects argument.\n",
      "  layer_config = serialize_layer_fn(layer)\n",
      "C:\\Users\\suman\\anaconda3\\envs\\p38\\lib\\site-packages\\keras\\saving\\saved_model\\layer_serialization.py:112: CustomMaskWarning: Custom mask layers require a config and must override get_config. When loading, the custom mask layer must be passed to the custom_objects argument.\n",
      "  return generic_utils.serialize_keras_object(obj)\n"
     ]
    },
    {
     "name": "stdout",
     "output_type": "stream",
     "text": [
      "625/625 [==============================] - 188s 301ms/step - loss: 0.2207 - accuracy: 0.9233 - val_loss: 0.4925 - val_accuracy: 0.8408 - lr: 0.0010\n",
      "Epoch 78/100\n",
      "625/625 [==============================] - ETA: 0s - loss: 0.2218 - accuracy: 0.9226\n",
      "Epoch 00078: loss did not improve from 0.22071\n",
      "625/625 [==============================] - 151s 241ms/step - loss: 0.2218 - accuracy: 0.9226 - val_loss: 0.5399 - val_accuracy: 0.8275 - lr: 0.0010\n",
      "Epoch 79/100\n",
      "625/625 [==============================] - ETA: 0s - loss: 0.2162 - accuracy: 0.9250\n",
      "Epoch 00079: loss improved from 0.22071 to 0.21618, saving model to ./models/ran92_v2_arl/saved_models\\ran92_v2_ARL_training\n"
     ]
    },
    {
     "name": "stderr",
     "output_type": "stream",
     "text": [
      "WARNING:absl:Function `_wrapped_model` contains input name(s) Model_Input with unsupported characters which will be renamed to model_input in the SavedModel.\n"
     ]
    },
    {
     "name": "stdout",
     "output_type": "stream",
     "text": [
      "INFO:tensorflow:Assets written to: ./models/ran92_v2_arl/saved_models\\ran92_v2_ARL_training\\assets\n"
     ]
    },
    {
     "name": "stderr",
     "output_type": "stream",
     "text": [
      "INFO:tensorflow:Assets written to: ./models/ran92_v2_arl/saved_models\\ran92_v2_ARL_training\\assets\n",
      "C:\\Users\\suman\\anaconda3\\envs\\p38\\lib\\site-packages\\keras\\engine\\functional.py:1410: CustomMaskWarning: Custom mask layers require a config and must override get_config. When loading, the custom mask layer must be passed to the custom_objects argument.\n",
      "  layer_config = serialize_layer_fn(layer)\n",
      "C:\\Users\\suman\\anaconda3\\envs\\p38\\lib\\site-packages\\keras\\saving\\saved_model\\layer_serialization.py:112: CustomMaskWarning: Custom mask layers require a config and must override get_config. When loading, the custom mask layer must be passed to the custom_objects argument.\n",
      "  return generic_utils.serialize_keras_object(obj)\n"
     ]
    },
    {
     "name": "stdout",
     "output_type": "stream",
     "text": [
      "625/625 [==============================] - 189s 302ms/step - loss: 0.2162 - accuracy: 0.9250 - val_loss: 0.4744 - val_accuracy: 0.8515 - lr: 0.0010\n",
      "Epoch 80/100\n",
      "625/625 [==============================] - ETA: 0s - loss: 0.2141 - accuracy: 0.9257\n",
      "Epoch 00080: loss improved from 0.21618 to 0.21408, saving model to ./models/ran92_v2_arl/saved_models\\ran92_v2_ARL_training\n"
     ]
    },
    {
     "name": "stderr",
     "output_type": "stream",
     "text": [
      "WARNING:absl:Function `_wrapped_model` contains input name(s) Model_Input with unsupported characters which will be renamed to model_input in the SavedModel.\n"
     ]
    },
    {
     "name": "stdout",
     "output_type": "stream",
     "text": [
      "INFO:tensorflow:Assets written to: ./models/ran92_v2_arl/saved_models\\ran92_v2_ARL_training\\assets\n"
     ]
    },
    {
     "name": "stderr",
     "output_type": "stream",
     "text": [
      "INFO:tensorflow:Assets written to: ./models/ran92_v2_arl/saved_models\\ran92_v2_ARL_training\\assets\n",
      "C:\\Users\\suman\\anaconda3\\envs\\p38\\lib\\site-packages\\keras\\engine\\functional.py:1410: CustomMaskWarning: Custom mask layers require a config and must override get_config. When loading, the custom mask layer must be passed to the custom_objects argument.\n",
      "  layer_config = serialize_layer_fn(layer)\n",
      "C:\\Users\\suman\\anaconda3\\envs\\p38\\lib\\site-packages\\keras\\saving\\saved_model\\layer_serialization.py:112: CustomMaskWarning: Custom mask layers require a config and must override get_config. When loading, the custom mask layer must be passed to the custom_objects argument.\n",
      "  return generic_utils.serialize_keras_object(obj)\n"
     ]
    },
    {
     "name": "stdout",
     "output_type": "stream",
     "text": [
      "625/625 [==============================] - 188s 300ms/step - loss: 0.2141 - accuracy: 0.9257 - val_loss: 0.5960 - val_accuracy: 0.8256 - lr: 0.0010\n",
      "Epoch 81/100\n",
      "625/625 [==============================] - ETA: 0s - loss: 0.2133 - accuracy: 0.9250\n",
      "Epoch 00081: loss improved from 0.21408 to 0.21327, saving model to ./models/ran92_v2_arl/saved_models\\ran92_v2_ARL_training\n"
     ]
    },
    {
     "name": "stderr",
     "output_type": "stream",
     "text": [
      "WARNING:absl:Function `_wrapped_model` contains input name(s) Model_Input with unsupported characters which will be renamed to model_input in the SavedModel.\n"
     ]
    },
    {
     "name": "stdout",
     "output_type": "stream",
     "text": [
      "INFO:tensorflow:Assets written to: ./models/ran92_v2_arl/saved_models\\ran92_v2_ARL_training\\assets\n"
     ]
    },
    {
     "name": "stderr",
     "output_type": "stream",
     "text": [
      "INFO:tensorflow:Assets written to: ./models/ran92_v2_arl/saved_models\\ran92_v2_ARL_training\\assets\n",
      "C:\\Users\\suman\\anaconda3\\envs\\p38\\lib\\site-packages\\keras\\engine\\functional.py:1410: CustomMaskWarning: Custom mask layers require a config and must override get_config. When loading, the custom mask layer must be passed to the custom_objects argument.\n",
      "  layer_config = serialize_layer_fn(layer)\n"
     ]
    },
    {
     "name": "stdout",
     "output_type": "stream",
     "text": [
      "625/625 [==============================] - 188s 300ms/step - loss: 0.2133 - accuracy: 0.9250 - val_loss: 0.5096 - val_accuracy: 0.8364 - lr: 0.0010\n"
     ]
    },
    {
     "name": "stderr",
     "output_type": "stream",
     "text": [
      "C:\\Users\\suman\\anaconda3\\envs\\p38\\lib\\site-packages\\keras\\saving\\saved_model\\layer_serialization.py:112: CustomMaskWarning: Custom mask layers require a config and must override get_config. When loading, the custom mask layer must be passed to the custom_objects argument.\n",
      "  return generic_utils.serialize_keras_object(obj)\n"
     ]
    },
    {
     "name": "stdout",
     "output_type": "stream",
     "text": [
      "Epoch 82/100\n",
      "625/625 [==============================] - ETA: 0s - loss: 0.2036 - accuracy: 0.9287\n",
      "Epoch 00082: loss improved from 0.21327 to 0.20364, saving model to ./models/ran92_v2_arl/saved_models\\ran92_v2_ARL_training\n"
     ]
    },
    {
     "name": "stderr",
     "output_type": "stream",
     "text": [
      "WARNING:absl:Function `_wrapped_model` contains input name(s) Model_Input with unsupported characters which will be renamed to model_input in the SavedModel.\n"
     ]
    },
    {
     "name": "stdout",
     "output_type": "stream",
     "text": [
      "INFO:tensorflow:Assets written to: ./models/ran92_v2_arl/saved_models\\ran92_v2_ARL_training\\assets\n"
     ]
    },
    {
     "name": "stderr",
     "output_type": "stream",
     "text": [
      "INFO:tensorflow:Assets written to: ./models/ran92_v2_arl/saved_models\\ran92_v2_ARL_training\\assets\n",
      "C:\\Users\\suman\\anaconda3\\envs\\p38\\lib\\site-packages\\keras\\engine\\functional.py:1410: CustomMaskWarning: Custom mask layers require a config and must override get_config. When loading, the custom mask layer must be passed to the custom_objects argument.\n",
      "  layer_config = serialize_layer_fn(layer)\n",
      "C:\\Users\\suman\\anaconda3\\envs\\p38\\lib\\site-packages\\keras\\saving\\saved_model\\layer_serialization.py:112: CustomMaskWarning: Custom mask layers require a config and must override get_config. When loading, the custom mask layer must be passed to the custom_objects argument.\n",
      "  return generic_utils.serialize_keras_object(obj)\n"
     ]
    },
    {
     "name": "stdout",
     "output_type": "stream",
     "text": [
      "625/625 [==============================] - 188s 300ms/step - loss: 0.2036 - accuracy: 0.9287 - val_loss: 0.5848 - val_accuracy: 0.8195 - lr: 0.0010\n",
      "Epoch 83/100\n",
      "625/625 [==============================] - ETA: 0s - loss: 0.2070 - accuracy: 0.9279\n",
      "Epoch 00083: loss did not improve from 0.20364\n",
      "625/625 [==============================] - 151s 242ms/step - loss: 0.2070 - accuracy: 0.9279 - val_loss: 0.5629 - val_accuracy: 0.8282 - lr: 0.0010\n",
      "Epoch 84/100\n",
      "625/625 [==============================] - ETA: 0s - loss: 0.2043 - accuracy: 0.9292\n",
      "Epoch 00084: loss did not improve from 0.20364\n",
      "625/625 [==============================] - 151s 242ms/step - loss: 0.2043 - accuracy: 0.9292 - val_loss: 0.5681 - val_accuracy: 0.8191 - lr: 0.0010\n",
      "Epoch 85/100\n",
      "625/625 [==============================] - ETA: 0s - loss: 0.2048 - accuracy: 0.9292\n",
      "Epoch 00085: loss did not improve from 0.20364\n",
      "625/625 [==============================] - 151s 242ms/step - loss: 0.2048 - accuracy: 0.9292 - val_loss: 0.6243 - val_accuracy: 0.8174 - lr: 0.0010\n",
      "Epoch 86/100\n",
      "625/625 [==============================] - ETA: 0s - loss: 0.1986 - accuracy: 0.9313\n",
      "Epoch 00086: loss improved from 0.20364 to 0.19862, saving model to ./models/ran92_v2_arl/saved_models\\ran92_v2_ARL_training\n"
     ]
    },
    {
     "name": "stderr",
     "output_type": "stream",
     "text": [
      "WARNING:absl:Function `_wrapped_model` contains input name(s) Model_Input with unsupported characters which will be renamed to model_input in the SavedModel.\n"
     ]
    },
    {
     "name": "stdout",
     "output_type": "stream",
     "text": [
      "INFO:tensorflow:Assets written to: ./models/ran92_v2_arl/saved_models\\ran92_v2_ARL_training\\assets\n"
     ]
    },
    {
     "name": "stderr",
     "output_type": "stream",
     "text": [
      "INFO:tensorflow:Assets written to: ./models/ran92_v2_arl/saved_models\\ran92_v2_ARL_training\\assets\n",
      "C:\\Users\\suman\\anaconda3\\envs\\p38\\lib\\site-packages\\keras\\engine\\functional.py:1410: CustomMaskWarning: Custom mask layers require a config and must override get_config. When loading, the custom mask layer must be passed to the custom_objects argument.\n",
      "  layer_config = serialize_layer_fn(layer)\n",
      "C:\\Users\\suman\\anaconda3\\envs\\p38\\lib\\site-packages\\keras\\saving\\saved_model\\layer_serialization.py:112: CustomMaskWarning: Custom mask layers require a config and must override get_config. When loading, the custom mask layer must be passed to the custom_objects argument.\n",
      "  return generic_utils.serialize_keras_object(obj)\n"
     ]
    },
    {
     "name": "stdout",
     "output_type": "stream",
     "text": [
      "625/625 [==============================] - 188s 301ms/step - loss: 0.1986 - accuracy: 0.9313 - val_loss: 0.7944 - val_accuracy: 0.7750 - lr: 0.0010\n",
      "Epoch 87/100\n",
      "625/625 [==============================] - ETA: 0s - loss: 0.1914 - accuracy: 0.9327\n",
      "Epoch 00087: loss improved from 0.19862 to 0.19141, saving model to ./models/ran92_v2_arl/saved_models\\ran92_v2_ARL_training\n"
     ]
    },
    {
     "name": "stderr",
     "output_type": "stream",
     "text": [
      "WARNING:absl:Function `_wrapped_model` contains input name(s) Model_Input with unsupported characters which will be renamed to model_input in the SavedModel.\n"
     ]
    },
    {
     "name": "stdout",
     "output_type": "stream",
     "text": [
      "INFO:tensorflow:Assets written to: ./models/ran92_v2_arl/saved_models\\ran92_v2_ARL_training\\assets\n"
     ]
    },
    {
     "name": "stderr",
     "output_type": "stream",
     "text": [
      "INFO:tensorflow:Assets written to: ./models/ran92_v2_arl/saved_models\\ran92_v2_ARL_training\\assets\n",
      "C:\\Users\\suman\\anaconda3\\envs\\p38\\lib\\site-packages\\keras\\engine\\functional.py:1410: CustomMaskWarning: Custom mask layers require a config and must override get_config. When loading, the custom mask layer must be passed to the custom_objects argument.\n",
      "  layer_config = serialize_layer_fn(layer)\n",
      "C:\\Users\\suman\\anaconda3\\envs\\p38\\lib\\site-packages\\keras\\saving\\saved_model\\layer_serialization.py:112: CustomMaskWarning: Custom mask layers require a config and must override get_config. When loading, the custom mask layer must be passed to the custom_objects argument.\n",
      "  return generic_utils.serialize_keras_object(obj)\n"
     ]
    },
    {
     "name": "stdout",
     "output_type": "stream",
     "text": [
      "625/625 [==============================] - 189s 302ms/step - loss: 0.1914 - accuracy: 0.9327 - val_loss: 0.5954 - val_accuracy: 0.8240 - lr: 0.0010\n",
      "Epoch 88/100\n",
      "625/625 [==============================] - ETA: 0s - loss: 0.2016 - accuracy: 0.9294\n",
      "Epoch 00088: loss did not improve from 0.19141\n",
      "625/625 [==============================] - 151s 242ms/step - loss: 0.2016 - accuracy: 0.9294 - val_loss: 0.5009 - val_accuracy: 0.8439 - lr: 0.0010\n",
      "Epoch 89/100\n",
      "625/625 [==============================] - ETA: 0s - loss: 0.1868 - accuracy: 0.9355\n",
      "Epoch 00089: loss improved from 0.19141 to 0.18679, saving model to ./models/ran92_v2_arl/saved_models\\ran92_v2_ARL_training\n"
     ]
    },
    {
     "name": "stderr",
     "output_type": "stream",
     "text": [
      "WARNING:absl:Function `_wrapped_model` contains input name(s) Model_Input with unsupported characters which will be renamed to model_input in the SavedModel.\n"
     ]
    },
    {
     "name": "stdout",
     "output_type": "stream",
     "text": [
      "INFO:tensorflow:Assets written to: ./models/ran92_v2_arl/saved_models\\ran92_v2_ARL_training\\assets\n"
     ]
    },
    {
     "name": "stderr",
     "output_type": "stream",
     "text": [
      "INFO:tensorflow:Assets written to: ./models/ran92_v2_arl/saved_models\\ran92_v2_ARL_training\\assets\n",
      "C:\\Users\\suman\\anaconda3\\envs\\p38\\lib\\site-packages\\keras\\engine\\functional.py:1410: CustomMaskWarning: Custom mask layers require a config and must override get_config. When loading, the custom mask layer must be passed to the custom_objects argument.\n",
      "  layer_config = serialize_layer_fn(layer)\n",
      "C:\\Users\\suman\\anaconda3\\envs\\p38\\lib\\site-packages\\keras\\saving\\saved_model\\layer_serialization.py:112: CustomMaskWarning: Custom mask layers require a config and must override get_config. When loading, the custom mask layer must be passed to the custom_objects argument.\n",
      "  return generic_utils.serialize_keras_object(obj)\n"
     ]
    },
    {
     "name": "stdout",
     "output_type": "stream",
     "text": [
      "625/625 [==============================] - 188s 301ms/step - loss: 0.1868 - accuracy: 0.9355 - val_loss: 0.5189 - val_accuracy: 0.8368 - lr: 0.0010\n",
      "Epoch 90/100\n",
      "625/625 [==============================] - ETA: 0s - loss: 0.1883 - accuracy: 0.9340\n",
      "Epoch 00090: loss did not improve from 0.18679\n",
      "625/625 [==============================] - 155s 247ms/step - loss: 0.1883 - accuracy: 0.9340 - val_loss: 0.5817 - val_accuracy: 0.8240 - lr: 0.0010\n",
      "Epoch 91/100\n",
      "625/625 [==============================] - ETA: 0s - loss: 0.1918 - accuracy: 0.9342\n",
      "Epoch 00091: loss did not improve from 0.18679\n",
      "625/625 [==============================] - 153s 245ms/step - loss: 0.1918 - accuracy: 0.9342 - val_loss: 0.5153 - val_accuracy: 0.8410 - lr: 0.0010\n",
      "Epoch 92/100\n",
      "625/625 [==============================] - ETA: 0s - loss: 0.1820 - accuracy: 0.9368\n",
      "Epoch 00092: loss improved from 0.18679 to 0.18204, saving model to ./models/ran92_v2_arl/saved_models\\ran92_v2_ARL_training\n"
     ]
    },
    {
     "name": "stderr",
     "output_type": "stream",
     "text": [
      "WARNING:absl:Function `_wrapped_model` contains input name(s) Model_Input with unsupported characters which will be renamed to model_input in the SavedModel.\n"
     ]
    },
    {
     "name": "stdout",
     "output_type": "stream",
     "text": [
      "INFO:tensorflow:Assets written to: ./models/ran92_v2_arl/saved_models\\ran92_v2_ARL_training\\assets\n"
     ]
    },
    {
     "name": "stderr",
     "output_type": "stream",
     "text": [
      "INFO:tensorflow:Assets written to: ./models/ran92_v2_arl/saved_models\\ran92_v2_ARL_training\\assets\n",
      "C:\\Users\\suman\\anaconda3\\envs\\p38\\lib\\site-packages\\keras\\engine\\functional.py:1410: CustomMaskWarning: Custom mask layers require a config and must override get_config. When loading, the custom mask layer must be passed to the custom_objects argument.\n",
      "  layer_config = serialize_layer_fn(layer)\n",
      "C:\\Users\\suman\\anaconda3\\envs\\p38\\lib\\site-packages\\keras\\saving\\saved_model\\layer_serialization.py:112: CustomMaskWarning: Custom mask layers require a config and must override get_config. When loading, the custom mask layer must be passed to the custom_objects argument.\n",
      "  return generic_utils.serialize_keras_object(obj)\n"
     ]
    },
    {
     "name": "stdout",
     "output_type": "stream",
     "text": [
      "625/625 [==============================] - 191s 306ms/step - loss: 0.1820 - accuracy: 0.9368 - val_loss: 0.6251 - val_accuracy: 0.8072 - lr: 0.0010\n",
      "Epoch 93/100\n",
      "625/625 [==============================] - ETA: 0s - loss: 0.1848 - accuracy: 0.9344\n",
      "Epoch 00093: loss did not improve from 0.18204\n",
      "625/625 [==============================] - 154s 246ms/step - loss: 0.1848 - accuracy: 0.9344 - val_loss: 0.5031 - val_accuracy: 0.8509 - lr: 0.0010\n",
      "Epoch 94/100\n",
      "625/625 [==============================] - ETA: 0s - loss: 0.1796 - accuracy: 0.9369\n",
      "Epoch 00094: loss improved from 0.18204 to 0.17959, saving model to ./models/ran92_v2_arl/saved_models\\ran92_v2_ARL_training\n"
     ]
    },
    {
     "name": "stderr",
     "output_type": "stream",
     "text": [
      "WARNING:absl:Function `_wrapped_model` contains input name(s) Model_Input with unsupported characters which will be renamed to model_input in the SavedModel.\n"
     ]
    },
    {
     "name": "stdout",
     "output_type": "stream",
     "text": [
      "INFO:tensorflow:Assets written to: ./models/ran92_v2_arl/saved_models\\ran92_v2_ARL_training\\assets\n"
     ]
    },
    {
     "name": "stderr",
     "output_type": "stream",
     "text": [
      "INFO:tensorflow:Assets written to: ./models/ran92_v2_arl/saved_models\\ran92_v2_ARL_training\\assets\n",
      "C:\\Users\\suman\\anaconda3\\envs\\p38\\lib\\site-packages\\keras\\engine\\functional.py:1410: CustomMaskWarning: Custom mask layers require a config and must override get_config. When loading, the custom mask layer must be passed to the custom_objects argument.\n",
      "  layer_config = serialize_layer_fn(layer)\n",
      "C:\\Users\\suman\\anaconda3\\envs\\p38\\lib\\site-packages\\keras\\saving\\saved_model\\layer_serialization.py:112: CustomMaskWarning: Custom mask layers require a config and must override get_config. When loading, the custom mask layer must be passed to the custom_objects argument.\n",
      "  return generic_utils.serialize_keras_object(obj)\n"
     ]
    },
    {
     "name": "stdout",
     "output_type": "stream",
     "text": [
      "625/625 [==============================] - 200s 321ms/step - loss: 0.1796 - accuracy: 0.9369 - val_loss: 0.5387 - val_accuracy: 0.8365 - lr: 0.0010\n",
      "Epoch 95/100\n",
      "625/625 [==============================] - ETA: 0s - loss: 0.1781 - accuracy: 0.9379\n",
      "Epoch 00095: loss improved from 0.17959 to 0.17813, saving model to ./models/ran92_v2_arl/saved_models\\ran92_v2_ARL_training\n"
     ]
    },
    {
     "name": "stderr",
     "output_type": "stream",
     "text": [
      "WARNING:absl:Function `_wrapped_model` contains input name(s) Model_Input with unsupported characters which will be renamed to model_input in the SavedModel.\n"
     ]
    },
    {
     "name": "stdout",
     "output_type": "stream",
     "text": [
      "INFO:tensorflow:Assets written to: ./models/ran92_v2_arl/saved_models\\ran92_v2_ARL_training\\assets\n"
     ]
    },
    {
     "name": "stderr",
     "output_type": "stream",
     "text": [
      "INFO:tensorflow:Assets written to: ./models/ran92_v2_arl/saved_models\\ran92_v2_ARL_training\\assets\n",
      "C:\\Users\\suman\\anaconda3\\envs\\p38\\lib\\site-packages\\keras\\engine\\functional.py:1410: CustomMaskWarning: Custom mask layers require a config and must override get_config. When loading, the custom mask layer must be passed to the custom_objects argument.\n",
      "  layer_config = serialize_layer_fn(layer)\n",
      "C:\\Users\\suman\\anaconda3\\envs\\p38\\lib\\site-packages\\keras\\saving\\saved_model\\layer_serialization.py:112: CustomMaskWarning: Custom mask layers require a config and must override get_config. When loading, the custom mask layer must be passed to the custom_objects argument.\n",
      "  return generic_utils.serialize_keras_object(obj)\n"
     ]
    },
    {
     "name": "stdout",
     "output_type": "stream",
     "text": [
      "625/625 [==============================] - 190s 304ms/step - loss: 0.1781 - accuracy: 0.9379 - val_loss: 0.6957 - val_accuracy: 0.8064 - lr: 0.0010\n",
      "Epoch 96/100\n",
      "625/625 [==============================] - ETA: 0s - loss: 0.1792 - accuracy: 0.9364\n",
      "Epoch 00096: loss did not improve from 0.17813\n",
      "625/625 [==============================] - 156s 249ms/step - loss: 0.1792 - accuracy: 0.9364 - val_loss: 0.4196 - val_accuracy: 0.8671 - lr: 0.0010\n",
      "Epoch 97/100\n",
      "625/625 [==============================] - ETA: 0s - loss: 0.1752 - accuracy: 0.9391\n",
      "Epoch 00097: loss improved from 0.17813 to 0.17520, saving model to ./models/ran92_v2_arl/saved_models\\ran92_v2_ARL_training\n"
     ]
    },
    {
     "name": "stderr",
     "output_type": "stream",
     "text": [
      "WARNING:absl:Function `_wrapped_model` contains input name(s) Model_Input with unsupported characters which will be renamed to model_input in the SavedModel.\n"
     ]
    },
    {
     "name": "stdout",
     "output_type": "stream",
     "text": [
      "INFO:tensorflow:Assets written to: ./models/ran92_v2_arl/saved_models\\ran92_v2_ARL_training\\assets\n"
     ]
    },
    {
     "name": "stderr",
     "output_type": "stream",
     "text": [
      "INFO:tensorflow:Assets written to: ./models/ran92_v2_arl/saved_models\\ran92_v2_ARL_training\\assets\n",
      "C:\\Users\\suman\\anaconda3\\envs\\p38\\lib\\site-packages\\keras\\engine\\functional.py:1410: CustomMaskWarning: Custom mask layers require a config and must override get_config. When loading, the custom mask layer must be passed to the custom_objects argument.\n",
      "  layer_config = serialize_layer_fn(layer)\n",
      "C:\\Users\\suman\\anaconda3\\envs\\p38\\lib\\site-packages\\keras\\saving\\saved_model\\layer_serialization.py:112: CustomMaskWarning: Custom mask layers require a config and must override get_config. When loading, the custom mask layer must be passed to the custom_objects argument.\n",
      "  return generic_utils.serialize_keras_object(obj)\n"
     ]
    },
    {
     "name": "stdout",
     "output_type": "stream",
     "text": [
      "625/625 [==============================] - 243s 389ms/step - loss: 0.1752 - accuracy: 0.9391 - val_loss: 0.5277 - val_accuracy: 0.8382 - lr: 0.0010\n",
      "Epoch 98/100\n",
      "625/625 [==============================] - ETA: 0s - loss: 0.1722 - accuracy: 0.9393\n",
      "Epoch 00098: loss improved from 0.17520 to 0.17225, saving model to ./models/ran92_v2_arl/saved_models\\ran92_v2_ARL_training\n"
     ]
    },
    {
     "name": "stderr",
     "output_type": "stream",
     "text": [
      "WARNING:absl:Function `_wrapped_model` contains input name(s) Model_Input with unsupported characters which will be renamed to model_input in the SavedModel.\n"
     ]
    },
    {
     "name": "stdout",
     "output_type": "stream",
     "text": [
      "INFO:tensorflow:Assets written to: ./models/ran92_v2_arl/saved_models\\ran92_v2_ARL_training\\assets\n"
     ]
    },
    {
     "name": "stderr",
     "output_type": "stream",
     "text": [
      "INFO:tensorflow:Assets written to: ./models/ran92_v2_arl/saved_models\\ran92_v2_ARL_training\\assets\n",
      "C:\\Users\\suman\\anaconda3\\envs\\p38\\lib\\site-packages\\keras\\engine\\functional.py:1410: CustomMaskWarning: Custom mask layers require a config and must override get_config. When loading, the custom mask layer must be passed to the custom_objects argument.\n",
      "  layer_config = serialize_layer_fn(layer)\n",
      "C:\\Users\\suman\\anaconda3\\envs\\p38\\lib\\site-packages\\keras\\saving\\saved_model\\layer_serialization.py:112: CustomMaskWarning: Custom mask layers require a config and must override get_config. When loading, the custom mask layer must be passed to the custom_objects argument.\n",
      "  return generic_utils.serialize_keras_object(obj)\n"
     ]
    },
    {
     "name": "stdout",
     "output_type": "stream",
     "text": [
      "625/625 [==============================] - 199s 318ms/step - loss: 0.1722 - accuracy: 0.9393 - val_loss: 0.5462 - val_accuracy: 0.8303 - lr: 0.0010\n",
      "Epoch 99/100\n",
      "625/625 [==============================] - ETA: 0s - loss: 0.1691 - accuracy: 0.9399\n",
      "Epoch 00099: loss improved from 0.17225 to 0.16911, saving model to ./models/ran92_v2_arl/saved_models\\ran92_v2_ARL_training\n"
     ]
    },
    {
     "name": "stderr",
     "output_type": "stream",
     "text": [
      "WARNING:absl:Function `_wrapped_model` contains input name(s) Model_Input with unsupported characters which will be renamed to model_input in the SavedModel.\n"
     ]
    },
    {
     "name": "stdout",
     "output_type": "stream",
     "text": [
      "INFO:tensorflow:Assets written to: ./models/ran92_v2_arl/saved_models\\ran92_v2_ARL_training\\assets\n"
     ]
    },
    {
     "name": "stderr",
     "output_type": "stream",
     "text": [
      "INFO:tensorflow:Assets written to: ./models/ran92_v2_arl/saved_models\\ran92_v2_ARL_training\\assets\n",
      "C:\\Users\\suman\\anaconda3\\envs\\p38\\lib\\site-packages\\keras\\engine\\functional.py:1410: CustomMaskWarning: Custom mask layers require a config and must override get_config. When loading, the custom mask layer must be passed to the custom_objects argument.\n",
      "  layer_config = serialize_layer_fn(layer)\n",
      "C:\\Users\\suman\\anaconda3\\envs\\p38\\lib\\site-packages\\keras\\saving\\saved_model\\layer_serialization.py:112: CustomMaskWarning: Custom mask layers require a config and must override get_config. When loading, the custom mask layer must be passed to the custom_objects argument.\n",
      "  return generic_utils.serialize_keras_object(obj)\n"
     ]
    },
    {
     "name": "stdout",
     "output_type": "stream",
     "text": [
      "625/625 [==============================] - 190s 303ms/step - loss: 0.1691 - accuracy: 0.9399 - val_loss: 0.4597 - val_accuracy: 0.8508 - lr: 0.0010\n",
      "Epoch 100/100\n",
      "625/625 [==============================] - ETA: 0s - loss: 0.1637 - accuracy: 0.9428\n",
      "Epoch 00100: loss improved from 0.16911 to 0.16371, saving model to ./models/ran92_v2_arl/saved_models\\ran92_v2_ARL_training\n"
     ]
    },
    {
     "name": "stderr",
     "output_type": "stream",
     "text": [
      "WARNING:absl:Function `_wrapped_model` contains input name(s) Model_Input with unsupported characters which will be renamed to model_input in the SavedModel.\n"
     ]
    },
    {
     "name": "stdout",
     "output_type": "stream",
     "text": [
      "INFO:tensorflow:Assets written to: ./models/ran92_v2_arl/saved_models\\ran92_v2_ARL_training\\assets\n"
     ]
    },
    {
     "name": "stderr",
     "output_type": "stream",
     "text": [
      "INFO:tensorflow:Assets written to: ./models/ran92_v2_arl/saved_models\\ran92_v2_ARL_training\\assets\n",
      "C:\\Users\\suman\\anaconda3\\envs\\p38\\lib\\site-packages\\keras\\engine\\functional.py:1410: CustomMaskWarning: Custom mask layers require a config and must override get_config. When loading, the custom mask layer must be passed to the custom_objects argument.\n",
      "  layer_config = serialize_layer_fn(layer)\n"
     ]
    },
    {
     "name": "stdout",
     "output_type": "stream",
     "text": [
      "625/625 [==============================] - 187s 299ms/step - loss: 0.1637 - accuracy: 0.9428 - val_loss: 0.4724 - val_accuracy: 0.8536 - lr: 0.0010\n",
      "took 18376.023104667664 seconds\n"
     ]
    },
    {
     "name": "stderr",
     "output_type": "stream",
     "text": [
      "C:\\Users\\suman\\anaconda3\\envs\\p38\\lib\\site-packages\\keras\\saving\\saved_model\\layer_serialization.py:112: CustomMaskWarning: Custom mask layers require a config and must override get_config. When loading, the custom mask layer must be passed to the custom_objects argument.\n",
      "  return generic_utils.serialize_keras_object(obj)\n"
     ]
    }
   ],
   "source": [
    "#%%\n",
    "st = time.time()\n",
    "ran92_v2_history = model.fit(datagen.flow(X_train, y_train, batch_size=64, subset='training'), validation_data=datagen.flow(X_train, y_train, batch_size=64, subset='validation'),\n",
    "                    epochs=100, callbacks=callbacks)\n",
    "\n",
    "ed = time.time()\n",
    "print(f\"took {ed-st} seconds\")"
   ]
  },
  {
   "cell_type": "code",
   "execution_count": 13,
   "id": "3a0106c3",
   "metadata": {},
   "outputs": [],
   "source": [
    "from sklearn.metrics import accuracy_score, roc_auc_score, classification_report"
   ]
  },
  {
   "cell_type": "code",
   "execution_count": 21,
   "id": "054bef46",
   "metadata": {},
   "outputs": [],
   "source": [
    "preds = model.predict(X_test)\n",
    "preds = np.argmax(preds, axis=1)\n",
    "y_true = np.argmax(y_test,axis=1)\n",
    "\n"
   ]
  },
  {
   "cell_type": "code",
   "execution_count": 22,
   "id": "eef36417",
   "metadata": {},
   "outputs": [
    {
     "name": "stdout",
     "output_type": "stream",
     "text": [
      "Accuracy: 0.8729\n",
      "              precision    recall  f1-score   support\n",
      "\n",
      "           0       0.90      0.89      0.90      1000\n",
      "           1       0.89      0.97      0.93      1000\n",
      "           2       0.92      0.77      0.84      1000\n",
      "           3       0.80      0.75      0.78      1000\n",
      "           4       0.87      0.86      0.86      1000\n",
      "           5       0.88      0.76      0.82      1000\n",
      "           6       0.83      0.95      0.88      1000\n",
      "           7       0.79      0.96      0.86      1000\n",
      "           8       0.94      0.92      0.93      1000\n",
      "           9       0.94      0.90      0.92      1000\n",
      "\n",
      "    accuracy                           0.87     10000\n",
      "   macro avg       0.88      0.87      0.87     10000\n",
      "weighted avg       0.88      0.87      0.87     10000\n",
      "\n"
     ]
    }
   ],
   "source": [
    "acc = accuracy_score(y_true, preds)\n",
    "cr=  classification_report(y_true, preds)\n",
    "print(f\"Accuracy: {acc}\")\n",
    "print(cr)\n"
   ]
  },
  {
   "cell_type": "code",
   "execution_count": 14,
   "id": "36c97add",
   "metadata": {},
   "outputs": [
    {
     "name": "stdout",
     "output_type": "stream",
     "text": [
      "./models/ran92_v2_arl/graphs/ran92_v2_Loss.png\n",
      "./models/ran92_v2_arl/graphs/ran92_v2_Accuracy.png\n"
     ]
    }
   ],
   "source": [
    "plot_loss_filename = graph_path + '/ran92_v2_Loss.png'\n",
    "print(plot_loss_filename)\n",
    "plot_acc_filename = graph_path + '/ran92_v2_Accuracy.png'\n",
    "print(plot_acc_filename)"
   ]
  },
  {
   "cell_type": "code",
   "execution_count": 15,
   "id": "fa9f67ea",
   "metadata": {},
   "outputs": [
    {
     "data": {
      "image/png": "[encoded data removed]",
      "text/plain": [
       "<Figure size 1152x864 with 1 Axes>"
      ]
     },
     "metadata": {
      "needs_background": "light"
     },
     "output_type": "display_data"
    }
   ],
   "source": [
    "plt.figure(figsize=(16,12))\n",
    "plt.title(\"Attention 92, v2: Training Loss vs. Validation Loss\", fontsize=18)\n",
    "plt.plot(ran92_v2_history.history['loss'], label='training loss', color='red')\n",
    "plt.plot(ran92_v2_history.history['val_loss'], label = 'validation loss', color='blue')\n",
    "plt.xlabel('Epoch', fontsize=12)\n",
    "plt.ylabel('Loss', fontsize=12)\n",
    "plt.legend(fontsize=12)\n",
    "plt.savefig(plot_loss_filename)\n",
    "plt.show()"
   ]
  },
  {
   "cell_type": "code",
   "execution_count": 16,
   "id": "635e8da1",
   "metadata": {},
   "outputs": [
    {
     "data": {
      "image/png": "[encoded data removed]",
      "text/plain": [
       "<Figure size 1152x864 with 1 Axes>"
      ]
     },
     "metadata": {
      "needs_background": "light"
     },
     "output_type": "display_data"
    }
   ],
   "source": [
    "plt.figure(figsize=(16,12))\n",
    "plt.title(\"Attention 92, v2: Training Accuracy vs Validation Accuracy\", fontsize=18)\n",
    "plt.plot(ran92_v2_history.history['accuracy'], label='training accuracy', color='g')\n",
    "plt.plot(ran92_v2_history.history['val_accuracy'], label = 'validation accuracy', color='c')\n",
    "plt.xlabel('Epoch', fontsize=12)\n",
    "plt.ylabel('Accuracy', fontsize=12)\n",
    "plt.legend(fontsize=12)\n",
    "plt.savefig(plot_acc_filename)\n",
    "plt.show()"
   ]
  },
  {
   "cell_type": "code",
   "execution_count": 17,
   "id": "92731241",
   "metadata": {},
   "outputs": [
    {
     "name": "stdout",
     "output_type": "stream",
     "text": [
      "./models/ran92_v2_arl/history/ran92_v2_history_Tue_Dec_21_22_36_50_2021\n"
     ]
    }
   ],
   "source": [
    "history_filename = history_path + '/ran92_v2_history_' + time.ctime().replace(' ','_').replace(':','_')\n",
    "print(history_filename)"
   ]
  },
  {
   "cell_type": "code",
   "execution_count": 20,
   "id": "6275ad1a",
   "metadata": {},
   "outputs": [],
   "source": [
    "np.save('{}.npy'.format(history_filename),ran92_v2_history.history)"
   ]
  },
  {
   "cell_type": "code",
   "execution_count": 19,
   "id": "f98e98c6",
   "metadata": {},
   "outputs": [
    {
     "name": "stderr",
     "output_type": "stream",
     "text": [
      "WARNING:absl:Function `_wrapped_model` contains input name(s) Model_Input with unsupported characters which will be renamed to model_input in the SavedModel.\n"
     ]
    },
    {
     "name": "stdout",
     "output_type": "stream",
     "text": [
      "INFO:tensorflow:Assets written to: ./models/ran92_v2_arl/saved_models/ran92_v2_ARL\\assets\n"
     ]
    },
    {
     "name": "stderr",
     "output_type": "stream",
     "text": [
      "INFO:tensorflow:Assets written to: ./models/ran92_v2_arl/saved_models/ran92_v2_ARL\\assets\n",
      "C:\\Users\\suman\\anaconda3\\envs\\p38\\lib\\site-packages\\keras\\engine\\functional.py:1410: CustomMaskWarning: Custom mask layers require a config and must override get_config. When loading, the custom mask layer must be passed to the custom_objects argument.\n",
      "  layer_config = serialize_layer_fn(layer)\n",
      "C:\\Users\\suman\\anaconda3\\envs\\p38\\lib\\site-packages\\keras\\saving\\saved_model\\layer_serialization.py:112: CustomMaskWarning: Custom mask layers require a config and must override get_config. When loading, the custom mask layer must be passed to the custom_objects argument.\n",
      "  return generic_utils.serialize_keras_object(obj)\n"
     ]
    }
   ],
   "source": [
    "model.save(saved_model_path + '/ran92_v2_ARL')"
   ]
  },
  {
   "cell_type": "code",
   "execution_count": null,
   "id": "1e144c47",
   "metadata": {},
   "outputs": [],
   "source": []
  }
 ],
 "metadata": {
  "kernelspec": {
   "display_name": "Python 3",
   "language": "python",
   "name": "python3"
  },
  "language_info": {
   "codemirror_mode": {
    "name": "ipython",
    "version": 3
   },
   "file_extension": ".py",
   "mimetype": "text/x-python",
   "name": "python",
   "nbconvert_exporter": "python",
   "pygments_lexer": "ipython3",
   "version": "3.8.12"
  }
 },
 "nbformat": 4,
 "nbformat_minor": 5
}
